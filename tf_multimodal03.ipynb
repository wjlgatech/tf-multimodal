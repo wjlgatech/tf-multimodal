{
  "cells": [
    {
      "cell_type": "markdown",
      "metadata": {
        "id": "zg02FZzDyEqd"
      },
      "source": [
        "NOTE: this notebook is inherited from tf-multimodal02.ipynb. The major change is put cnt, cat, txt, img data input preparation into df_to_ds().\n",
        "\n",
        "# Objectives\n",
        "\n",
        "To build a Tensorflow based multimodal classifier that consume tabular data with cnt, cat, txt, img columns.\n",
        "\n",
        "**Features to Build**\n",
        "- [/5] to do tf-model-specific Feature selection, use grn and vsn: https://keras.io/examples/structured_data/classification_with_grn_and_vsn/\n",
        "\n",
        "- [/5] trace feature contribution on both population-level and individual-sample-level, use Shap with col_emb_ls\n",
        "\n",
        "- [/5] to do tf-model-specific Feature Selection, experiment adding a attention layer\n",
        "  - https://towardsdatascience.com/create-your-own-custom-attention-layer-understand-all-flavours-2201b5e8be9e\n",
        "\n",
        "  - https://www.tensorflow.org/api_docs/python/tf/keras/layers/Attention\n",
        "\n",
        "  - https://analyticsindiamag.com/a-beginners-guide-to-using-attention-layer-in-neural-networks/\n",
        "\n",
        "- [/5] To build a two-tower structure (one for User, another for Item) for a hybrid recommendation system, concat the emb of txt_cols, cnt_cols, cat_cols for user and item, respectively.\n",
        "\n",
        "- [/5] Instead of making point-prediction, make interval-prediction with a confidential interval. https://mapie.readthedocs.io/en/latest/index.html\n",
        "\n",
        "**Features Built**\n",
        "- [5/5] preprocess and encode cnt_cols: normalization and bucketization\n",
        "\n",
        "- [5/5] preprocess and encode cat_cols for int_cat_cols and str_cat_cols\n",
        "\n",
        "- [5/5] preprocess and encode txt_cols: implemented 2 methods: 1.LSTM 2.Bert\n",
        "\n",
        "- [5/5] preprocess and encode img_cols\n",
        "  - txt+img multimodal: \n",
        "    - https://keras.io/examples/nlp/multimodal_entailment/\n",
        "\n",
        "- [5/5]**Situation**: How do I combine info from various dtype of data, given that each dtype have different number of columns (e.g. 5 cnt_cols, 10 cat_cols, 2 txt_cols, 2 img_cols),  and the embedding of each dtype column can be very different emb_width (e.g. con_cols have emb_width 1 vs. cat_col has emb_width 16). The info from col with narrow emb_width can be overwhelmed by the col with wide emb_width. **Solution**: instead of using simple concat, to add a `deep-wide module` where the deep layer squeeze the cols with dense representation (e.g. embedding with 16 cols) while the wide layer is to process the sparse cols. Then the output from deep-branch and the output from the wide-branch is combined. In this way, features of various embedding width are normalized so that their contribution can be backtracked and compared.\n",
        "  - keyref1: https://keras.io/examples/structured_data/wide_deep_cross_networks/\n",
        "  - keyref2: https://branyang.gitbooks.io/tfdocs/content/tutorials/wide_and_deep.html\n",
        "\n",
        "\n",
        "\n",
        "  - https://keras.io/examples/nlp/text_classification_with_transformer/\n",
        "\n",
        "\n",
        "\n",
        "- [5/5] automate the separation for cnt, cat, txt columns in df\n",
        "\n",
        "- [5/5] OneTower structure: concat the emb of txt_cols, cnt_cols, cat_cols for df\n",
        "\n",
        "- [5/5] allow txt_, cnt_, cat_cols interaction with deep cross module\n",
        "\n",
        "- [5/5] to accelerate hyperparameter tuning by a tf.keras-based module https://keras.io/keras_tuner/, build 3 tuners: randomSearch, Bayesian, Hyperband.\n",
        "\n",
        "- [5/5] in order to experiment various downstream learning architectures (e.g. simple, deep-wide-cross, dcn, two tower), simplify and modularize the preprocessing and encoding of cnt, cat, txt, img.\n",
        "\n",
        "- [5/5] to automatically switch between binary classification and multiclass classification, build unified deep learning utilities, including data-preprocessing for label column (multi-hot-encoding), loss function (tf.keras.losses.CategoricalCrossentropy) and custom metrics (accuracy, F1, roc-auc, pr-auc, confusion matrix, avg_precision, avg_recall)\n",
        "\n",
        "- [5/5] wide, deep, cross on concat_emb\n",
        "https://keras.io/examples/structured_data/wide_deep_cross_networks/\n",
        "  - cat dense emb VS cat sparse emb\n",
        "\n",
        " \n",
        "\n",
        "\n",
        "\n",
        "**References & Credits**:\n",
        "\n",
        "- cnt+cat: This notebook is inherited from [Classify structured data using Keras preprocessing layers](https://www.tensorflow.org/tutorials/structured_data/preprocessing_layers)\n",
        "\n",
        "- cat + img: https://www.pyimagesearch.com/2019/02/04/keras-multiple-inputs-and-mixed-data/\n",
        "\n",
        "- cnt + txt: https://towardsdatascience.com/combining-numerical-and-text-features-in-deep-neural-networks-e91f0237eea4\n",
        "\n",
        "- txt bert https://www.tensorflow.org/text/tutorials/classify_text_with_bert\n"
      ]
    },
    {
      "cell_type": "markdown",
      "metadata": {
        "id": "Lx2Zy99LPUUP"
      },
      "source": [
        "<table class=\"tfo-notebook-buttons\" align=\"left\">\n",
        "\n",
        "  <td>\n",
        "    <a target=\"_blank\" href=\"https://colab.research.google.com/drive/1o--XD1FssHx4O1A1-p-nCrTuhnivabbL?usp=sharing\">\n",
        "    <img src=\"https://www.tensorflow.org/images/colab_logo_32px.png\" />\n",
        "    Run in Google Colab</a>\n",
        "  </td>\n",
        "  <td>\n",
        "    <a target=\"_blank\" href=\"https://github.com/wjlgatech/tf-multimodal/blob/main/tf_multimodal02.ipynb\">\n",
        "    <img src=\"https://www.tensorflow.org/images/GitHub-Mark-32px.png\" />\n",
        "    View source on GitHub</a>\n",
        "  </td>\n",
        "  <td>\n",
        "    <a href=\"https://colab.research.google.com/drive/1o--XD1FssHx4O1A1-p-nCrTuhnivabbL?usp=sharing\"><img src=\"https://www.tensorflow.org/images/download_logo_32px.png\" />Download notebook</a>\n",
        "  </td>\n",
        "</table>"
      ]
    },
    {
      "cell_type": "markdown",
      "metadata": {
        "id": "h5xkXCicjFQD"
      },
      "source": [
        "Note: This tutorial is similar to [Classify structured data with feature columns](../structured_data/feature_columns.ipynb). This version uses the [Keras preprocessing layers](https://www.tensorflow.org/guide/keras/preprocessing_layers) instead of the `tf.feature_column` API, as the former are more intuitive and can be easily included inside your model to simplify deployment."
      ]
    },
    {
      "cell_type": "markdown",
      "metadata": {
        "id": "vjFbdBldyEqf"
      },
      "source": [
        "## Import TensorFlow and other libraries\n"
      ]
    },
    {
      "cell_type": "code",
      "execution_count": null,
      "metadata": {
        "colab": {
          "base_uri": "https://localhost:8080/"
        },
        "id": "-A9YEm35nDpe",
        "outputId": "654221a4-313b-43ae-ba8a-39a7af4ddc77"
      },
      "outputs": [
        {
          "output_type": "stream",
          "name": "stdout",
          "text": [
            "\u001b[K     |████████████████████████████████| 85 kB 4.6 MB/s \n",
            "\u001b[K     |████████████████████████████████| 4.9 MB 27.3 MB/s \n",
            "\u001b[?25hCollecting tensorflow-addons\n",
            "  Downloading tensorflow_addons-0.15.0-cp37-cp37m-manylinux_2_12_x86_64.manylinux2010_x86_64.whl (1.1 MB)\n",
            "\u001b[K     |████████████████████████████████| 1.1 MB 30.3 MB/s \n",
            "\u001b[?25hRequirement already satisfied: typeguard>=2.7 in /usr/local/lib/python3.7/dist-packages (from tensorflow-addons) (2.7.1)\n",
            "Installing collected packages: tensorflow-addons\n",
            "Successfully installed tensorflow-addons-0.15.0\n",
            "Collecting keras-tuner\n",
            "  Downloading keras_tuner-1.1.0-py3-none-any.whl (98 kB)\n",
            "\u001b[K     |████████████████████████████████| 98 kB 6.9 MB/s \n",
            "\u001b[?25hRequirement already satisfied: packaging in /usr/local/lib/python3.7/dist-packages (from keras-tuner) (21.3)\n",
            "Requirement already satisfied: numpy in /usr/local/lib/python3.7/dist-packages (from keras-tuner) (1.19.5)\n",
            "Requirement already satisfied: scipy in /usr/local/lib/python3.7/dist-packages (from keras-tuner) (1.4.1)\n",
            "Requirement already satisfied: ipython in /usr/local/lib/python3.7/dist-packages (from keras-tuner) (5.5.0)\n",
            "Collecting kt-legacy\n",
            "  Downloading kt_legacy-1.0.4-py3-none-any.whl (9.6 kB)\n",
            "Requirement already satisfied: requests in /usr/local/lib/python3.7/dist-packages (from keras-tuner) (2.23.0)\n",
            "Requirement already satisfied: tensorboard in /usr/local/lib/python3.7/dist-packages (from keras-tuner) (2.7.0)\n",
            "Requirement already satisfied: decorator in /usr/local/lib/python3.7/dist-packages (from ipython->keras-tuner) (4.4.2)\n",
            "Requirement already satisfied: pexpect in /usr/local/lib/python3.7/dist-packages (from ipython->keras-tuner) (4.8.0)\n",
            "Requirement already satisfied: setuptools>=18.5 in /usr/local/lib/python3.7/dist-packages (from ipython->keras-tuner) (57.4.0)\n",
            "Requirement already satisfied: prompt-toolkit<2.0.0,>=1.0.4 in /usr/local/lib/python3.7/dist-packages (from ipython->keras-tuner) (1.0.18)\n",
            "Requirement already satisfied: simplegeneric>0.8 in /usr/local/lib/python3.7/dist-packages (from ipython->keras-tuner) (0.8.1)\n",
            "Requirement already satisfied: traitlets>=4.2 in /usr/local/lib/python3.7/dist-packages (from ipython->keras-tuner) (5.1.1)\n",
            "Requirement already satisfied: pygments in /usr/local/lib/python3.7/dist-packages (from ipython->keras-tuner) (2.6.1)\n",
            "Requirement already satisfied: pickleshare in /usr/local/lib/python3.7/dist-packages (from ipython->keras-tuner) (0.7.5)\n",
            "Requirement already satisfied: wcwidth in /usr/local/lib/python3.7/dist-packages (from prompt-toolkit<2.0.0,>=1.0.4->ipython->keras-tuner) (0.2.5)\n",
            "Requirement already satisfied: six>=1.9.0 in /usr/local/lib/python3.7/dist-packages (from prompt-toolkit<2.0.0,>=1.0.4->ipython->keras-tuner) (1.15.0)\n",
            "Requirement already satisfied: pyparsing!=3.0.5,>=2.0.2 in /usr/local/lib/python3.7/dist-packages (from packaging->keras-tuner) (3.0.6)\n",
            "Requirement already satisfied: ptyprocess>=0.5 in /usr/local/lib/python3.7/dist-packages (from pexpect->ipython->keras-tuner) (0.7.0)\n",
            "Requirement already satisfied: chardet<4,>=3.0.2 in /usr/local/lib/python3.7/dist-packages (from requests->keras-tuner) (3.0.4)\n",
            "Requirement already satisfied: urllib3!=1.25.0,!=1.25.1,<1.26,>=1.21.1 in /usr/local/lib/python3.7/dist-packages (from requests->keras-tuner) (1.24.3)\n",
            "Requirement already satisfied: idna<3,>=2.5 in /usr/local/lib/python3.7/dist-packages (from requests->keras-tuner) (2.10)\n",
            "Requirement already satisfied: certifi>=2017.4.17 in /usr/local/lib/python3.7/dist-packages (from requests->keras-tuner) (2021.10.8)\n",
            "Requirement already satisfied: wheel>=0.26 in /usr/local/lib/python3.7/dist-packages (from tensorboard->keras-tuner) (0.37.1)\n",
            "Requirement already satisfied: protobuf>=3.6.0 in /usr/local/lib/python3.7/dist-packages (from tensorboard->keras-tuner) (3.17.3)\n",
            "Requirement already satisfied: tensorboard-plugin-wit>=1.6.0 in /usr/local/lib/python3.7/dist-packages (from tensorboard->keras-tuner) (1.8.1)\n",
            "Requirement already satisfied: grpcio>=1.24.3 in /usr/local/lib/python3.7/dist-packages (from tensorboard->keras-tuner) (1.43.0)\n",
            "Requirement already satisfied: google-auth-oauthlib<0.5,>=0.4.1 in /usr/local/lib/python3.7/dist-packages (from tensorboard->keras-tuner) (0.4.6)\n",
            "Requirement already satisfied: werkzeug>=0.11.15 in /usr/local/lib/python3.7/dist-packages (from tensorboard->keras-tuner) (1.0.1)\n",
            "Requirement already satisfied: markdown>=2.6.8 in /usr/local/lib/python3.7/dist-packages (from tensorboard->keras-tuner) (3.3.6)\n",
            "Requirement already satisfied: google-auth<3,>=1.6.3 in /usr/local/lib/python3.7/dist-packages (from tensorboard->keras-tuner) (1.35.0)\n",
            "Requirement already satisfied: tensorboard-data-server<0.7.0,>=0.6.0 in /usr/local/lib/python3.7/dist-packages (from tensorboard->keras-tuner) (0.6.1)\n",
            "Requirement already satisfied: absl-py>=0.4 in /usr/local/lib/python3.7/dist-packages (from tensorboard->keras-tuner) (0.12.0)\n",
            "Requirement already satisfied: cachetools<5.0,>=2.0.0 in /usr/local/lib/python3.7/dist-packages (from google-auth<3,>=1.6.3->tensorboard->keras-tuner) (4.2.4)\n",
            "Requirement already satisfied: rsa<5,>=3.1.4 in /usr/local/lib/python3.7/dist-packages (from google-auth<3,>=1.6.3->tensorboard->keras-tuner) (4.8)\n",
            "Requirement already satisfied: pyasn1-modules>=0.2.1 in /usr/local/lib/python3.7/dist-packages (from google-auth<3,>=1.6.3->tensorboard->keras-tuner) (0.2.8)\n",
            "Requirement already satisfied: requests-oauthlib>=0.7.0 in /usr/local/lib/python3.7/dist-packages (from google-auth-oauthlib<0.5,>=0.4.1->tensorboard->keras-tuner) (1.3.0)\n",
            "Requirement already satisfied: importlib-metadata>=4.4 in /usr/local/lib/python3.7/dist-packages (from markdown>=2.6.8->tensorboard->keras-tuner) (4.10.0)\n",
            "Requirement already satisfied: typing-extensions>=3.6.4 in /usr/local/lib/python3.7/dist-packages (from importlib-metadata>=4.4->markdown>=2.6.8->tensorboard->keras-tuner) (3.10.0.2)\n",
            "Requirement already satisfied: zipp>=0.5 in /usr/local/lib/python3.7/dist-packages (from importlib-metadata>=4.4->markdown>=2.6.8->tensorboard->keras-tuner) (3.7.0)\n",
            "Requirement already satisfied: pyasn1<0.5.0,>=0.4.6 in /usr/local/lib/python3.7/dist-packages (from pyasn1-modules>=0.2.1->google-auth<3,>=1.6.3->tensorboard->keras-tuner) (0.4.8)\n",
            "Requirement already satisfied: oauthlib>=3.0.0 in /usr/local/lib/python3.7/dist-packages (from requests-oauthlib>=0.7.0->google-auth-oauthlib<0.5,>=0.4.1->tensorboard->keras-tuner) (3.1.1)\n",
            "Installing collected packages: kt-legacy, keras-tuner\n",
            "Successfully installed keras-tuner-1.1.0 kt-legacy-1.0.4\n"
          ]
        }
      ],
      "source": [
        "!pip install -q tensorflow-recommenders #to use tfrs cross layer\n",
        "!pip install -q tensorflow_text #to use bert encoder\n",
        "!pip install tensorflow-addons #to use extra metrics\n",
        "!pip install keras-tuner --upgrade # to tune keras model\n"
      ]
    },
    {
      "cell_type": "code",
      "execution_count": null,
      "metadata": {
        "id": "LklnLlt6yEqf"
      },
      "outputs": [],
      "source": [
        "import numpy as np\n",
        "import pandas as pd\n",
        "import matplotlib.pyplot as plt\n",
        "import os\n",
        "from sklearn.model_selection import train_test_split\n",
        "\n",
        "import tensorflow as tf\n",
        "import tensorflow_addons as tfa\n",
        "import tensorflow_hub as hub\n",
        "import tensorflow_text as text\n",
        "import tensorflow_recommenders as tfrs\n",
        "from tensorflow.keras import regularizers\n",
        "from tensorflow.keras.layers import Dense, Activation, Dropout\n",
        "from tensorflow.keras.callbacks import EarlyStopping\n",
        "\n",
        "from tensorflow.keras import layers\n",
        "import keras_tuner as kt"
      ]
    },
    {
      "cell_type": "code",
      "execution_count": null,
      "metadata": {
        "colab": {
          "base_uri": "https://localhost:8080/",
          "height": 35
        },
        "id": "TKU7RyoQGVKB",
        "outputId": "42cd5499-96d4-483c-a8d2-1e3b2aa4355d"
      },
      "outputs": [
        {
          "output_type": "execute_result",
          "data": {
            "application/vnd.google.colaboratory.intrinsic+json": {
              "type": "string"
            },
            "text/plain": [
              "'2.7.0'"
            ]
          },
          "metadata": {},
          "execution_count": 3
        }
      ],
      "source": [
        "tf.__version__"
      ]
    },
    {
      "cell_type": "markdown",
      "metadata": {
        "id": "UXvBvobayEqi"
      },
      "source": [
        "## Load dataset1 with cnt,cat,txt cols\n",
        "\n",
        "Here we use `tf.keras.utils.get_file` to download and extract the CSV file with the PetFinder.my mini dataset:"
      ]
    },
    {
      "cell_type": "code",
      "execution_count": null,
      "metadata": {
        "id": "qJ4Ajn-YyEqj"
      },
      "outputs": [],
      "source": [
        "dataset_url = 'http://storage.googleapis.com/download.tensorflow.org/data/petfinder-mini.zip'\n",
        "csv_file = 'datasets/petfinder-mini/petfinder-mini.csv'\n",
        "\n",
        "tf.keras.utils.get_file('petfinder_mini.zip', dataset_url,\n",
        "                        extract=True, cache_dir='.')\n",
        "df = pd.read_csv(csv_file)"
      ]
    },
    {
      "cell_type": "markdown",
      "metadata": {
        "id": "efa6910dfa5f"
      },
      "source": [
        "Inspect the dataset by checking the first five rows of the DataFrame:"
      ]
    },
    {
      "cell_type": "code",
      "execution_count": null,
      "metadata": {
        "colab": {
          "base_uri": "https://localhost:8080/"
        },
        "id": "3uiq4hoIGyXI",
        "outputId": "38b52fc1-4cb5-48dc-e9d3-7b6ae8158ffd"
      },
      "outputs": [
        {
          "output_type": "execute_result",
          "data": {
            "text/html": [
              "\n",
              "  <div id=\"df-4a2c1d49-fcc6-4e16-a5ad-9a4984e3ecce\">\n",
              "    <div class=\"colab-df-container\">\n",
              "      <div>\n",
              "<style scoped>\n",
              "    .dataframe tbody tr th:only-of-type {\n",
              "        vertical-align: middle;\n",
              "    }\n",
              "\n",
              "    .dataframe tbody tr th {\n",
              "        vertical-align: top;\n",
              "    }\n",
              "\n",
              "    .dataframe thead th {\n",
              "        text-align: right;\n",
              "    }\n",
              "</style>\n",
              "<table border=\"1\" class=\"dataframe\">\n",
              "  <thead>\n",
              "    <tr style=\"text-align: right;\">\n",
              "      <th></th>\n",
              "      <th>Type</th>\n",
              "      <th>Age</th>\n",
              "      <th>Breed1</th>\n",
              "      <th>Gender</th>\n",
              "      <th>Color1</th>\n",
              "      <th>Color2</th>\n",
              "      <th>MaturitySize</th>\n",
              "      <th>FurLength</th>\n",
              "      <th>Vaccinated</th>\n",
              "      <th>Sterilized</th>\n",
              "      <th>Health</th>\n",
              "      <th>Fee</th>\n",
              "      <th>Description</th>\n",
              "      <th>PhotoAmt</th>\n",
              "      <th>AdoptionSpeed</th>\n",
              "    </tr>\n",
              "  </thead>\n",
              "  <tbody>\n",
              "    <tr>\n",
              "      <th>11532</th>\n",
              "      <td>Dog</td>\n",
              "      <td>24</td>\n",
              "      <td>Poodle</td>\n",
              "      <td>Male</td>\n",
              "      <td>Brown</td>\n",
              "      <td>Golden</td>\n",
              "      <td>Medium</td>\n",
              "      <td>Medium</td>\n",
              "      <td>Not Sure</td>\n",
              "      <td>No</td>\n",
              "      <td>Healthy</td>\n",
              "      <td>0</td>\n",
              "      <td>been at my place for a while..am hoping to fin...</td>\n",
              "      <td>0</td>\n",
              "      <td>4</td>\n",
              "    </tr>\n",
              "    <tr>\n",
              "      <th>11533</th>\n",
              "      <td>Cat</td>\n",
              "      <td>1</td>\n",
              "      <td>Domestic Short Hair</td>\n",
              "      <td>Female</td>\n",
              "      <td>Cream</td>\n",
              "      <td>Gray</td>\n",
              "      <td>Medium</td>\n",
              "      <td>Short</td>\n",
              "      <td>No</td>\n",
              "      <td>No</td>\n",
              "      <td>Healthy</td>\n",
              "      <td>0</td>\n",
              "      <td>1 month old white + grey kitten for adoption n...</td>\n",
              "      <td>1</td>\n",
              "      <td>3</td>\n",
              "    </tr>\n",
              "    <tr>\n",
              "      <th>11534</th>\n",
              "      <td>Dog</td>\n",
              "      <td>6</td>\n",
              "      <td>Schnauzer</td>\n",
              "      <td>Female</td>\n",
              "      <td>Black</td>\n",
              "      <td>White</td>\n",
              "      <td>Small</td>\n",
              "      <td>Long</td>\n",
              "      <td>Yes</td>\n",
              "      <td>No</td>\n",
              "      <td>Healthy</td>\n",
              "      <td>0</td>\n",
              "      <td>ooooo</td>\n",
              "      <td>1</td>\n",
              "      <td>0</td>\n",
              "    </tr>\n",
              "    <tr>\n",
              "      <th>11535</th>\n",
              "      <td>Cat</td>\n",
              "      <td>9</td>\n",
              "      <td>Domestic Short Hair</td>\n",
              "      <td>Female</td>\n",
              "      <td>Yellow</td>\n",
              "      <td>White</td>\n",
              "      <td>Small</td>\n",
              "      <td>Short</td>\n",
              "      <td>Yes</td>\n",
              "      <td>Yes</td>\n",
              "      <td>Healthy</td>\n",
              "      <td>0</td>\n",
              "      <td>she is very shy..adventures and independent..s...</td>\n",
              "      <td>3</td>\n",
              "      <td>4</td>\n",
              "    </tr>\n",
              "    <tr>\n",
              "      <th>11536</th>\n",
              "      <td>Dog</td>\n",
              "      <td>1</td>\n",
              "      <td>Mixed Breed</td>\n",
              "      <td>Male</td>\n",
              "      <td>Brown</td>\n",
              "      <td>No Color</td>\n",
              "      <td>Medium</td>\n",
              "      <td>Short</td>\n",
              "      <td>No</td>\n",
              "      <td>No</td>\n",
              "      <td>Healthy</td>\n",
              "      <td>0</td>\n",
              "      <td>Fili just loves laying around and also loves b...</td>\n",
              "      <td>1</td>\n",
              "      <td>3</td>\n",
              "    </tr>\n",
              "  </tbody>\n",
              "</table>\n",
              "</div>\n",
              "      <button class=\"colab-df-convert\" onclick=\"convertToInteractive('df-4a2c1d49-fcc6-4e16-a5ad-9a4984e3ecce')\"\n",
              "              title=\"Convert this dataframe to an interactive table.\"\n",
              "              style=\"display:none;\">\n",
              "        \n",
              "  <svg xmlns=\"http://www.w3.org/2000/svg\" height=\"24px\"viewBox=\"0 0 24 24\"\n",
              "       width=\"24px\">\n",
              "    <path d=\"M0 0h24v24H0V0z\" fill=\"none\"/>\n",
              "    <path d=\"M18.56 5.44l.94 2.06.94-2.06 2.06-.94-2.06-.94-.94-2.06-.94 2.06-2.06.94zm-11 1L8.5 8.5l.94-2.06 2.06-.94-2.06-.94L8.5 2.5l-.94 2.06-2.06.94zm10 10l.94 2.06.94-2.06 2.06-.94-2.06-.94-.94-2.06-.94 2.06-2.06.94z\"/><path d=\"M17.41 7.96l-1.37-1.37c-.4-.4-.92-.59-1.43-.59-.52 0-1.04.2-1.43.59L10.3 9.45l-7.72 7.72c-.78.78-.78 2.05 0 2.83L4 21.41c.39.39.9.59 1.41.59.51 0 1.02-.2 1.41-.59l7.78-7.78 2.81-2.81c.8-.78.8-2.07 0-2.86zM5.41 20L4 18.59l7.72-7.72 1.47 1.35L5.41 20z\"/>\n",
              "  </svg>\n",
              "      </button>\n",
              "      \n",
              "  <style>\n",
              "    .colab-df-container {\n",
              "      display:flex;\n",
              "      flex-wrap:wrap;\n",
              "      gap: 12px;\n",
              "    }\n",
              "\n",
              "    .colab-df-convert {\n",
              "      background-color: #E8F0FE;\n",
              "      border: none;\n",
              "      border-radius: 50%;\n",
              "      cursor: pointer;\n",
              "      display: none;\n",
              "      fill: #1967D2;\n",
              "      height: 32px;\n",
              "      padding: 0 0 0 0;\n",
              "      width: 32px;\n",
              "    }\n",
              "\n",
              "    .colab-df-convert:hover {\n",
              "      background-color: #E2EBFA;\n",
              "      box-shadow: 0px 1px 2px rgba(60, 64, 67, 0.3), 0px 1px 3px 1px rgba(60, 64, 67, 0.15);\n",
              "      fill: #174EA6;\n",
              "    }\n",
              "\n",
              "    [theme=dark] .colab-df-convert {\n",
              "      background-color: #3B4455;\n",
              "      fill: #D2E3FC;\n",
              "    }\n",
              "\n",
              "    [theme=dark] .colab-df-convert:hover {\n",
              "      background-color: #434B5C;\n",
              "      box-shadow: 0px 1px 3px 1px rgba(0, 0, 0, 0.15);\n",
              "      filter: drop-shadow(0px 1px 2px rgba(0, 0, 0, 0.3));\n",
              "      fill: #FFFFFF;\n",
              "    }\n",
              "  </style>\n",
              "\n",
              "      <script>\n",
              "        const buttonEl =\n",
              "          document.querySelector('#df-4a2c1d49-fcc6-4e16-a5ad-9a4984e3ecce button.colab-df-convert');\n",
              "        buttonEl.style.display =\n",
              "          google.colab.kernel.accessAllowed ? 'block' : 'none';\n",
              "\n",
              "        async function convertToInteractive(key) {\n",
              "          const element = document.querySelector('#df-4a2c1d49-fcc6-4e16-a5ad-9a4984e3ecce');\n",
              "          const dataTable =\n",
              "            await google.colab.kernel.invokeFunction('convertToInteractive',\n",
              "                                                     [key], {});\n",
              "          if (!dataTable) return;\n",
              "\n",
              "          const docLinkHtml = 'Like what you see? Visit the ' +\n",
              "            '<a target=\"_blank\" href=https://colab.research.google.com/notebooks/data_table.ipynb>data table notebook</a>'\n",
              "            + ' to learn more about interactive tables.';\n",
              "          element.innerHTML = '';\n",
              "          dataTable['output_type'] = 'display_data';\n",
              "          await google.colab.output.renderOutput(dataTable, element);\n",
              "          const docLink = document.createElement('div');\n",
              "          docLink.innerHTML = docLinkHtml;\n",
              "          element.appendChild(docLink);\n",
              "        }\n",
              "      </script>\n",
              "    </div>\n",
              "  </div>\n",
              "  "
            ],
            "text/plain": [
              "      Type  Age  ... PhotoAmt AdoptionSpeed\n",
              "11532  Dog   24  ...        0             4\n",
              "11533  Cat    1  ...        1             3\n",
              "11534  Dog    6  ...        1             0\n",
              "11535  Cat    9  ...        3             4\n",
              "11536  Dog    1  ...        1             3\n",
              "\n",
              "[5 rows x 15 columns]"
            ]
          },
          "metadata": {},
          "execution_count": 68
        }
      ],
      "source": [
        "df.tail()"
      ]
    },
    {
      "cell_type": "markdown",
      "metadata": {
        "id": "C3zDbrozyEqq"
      },
      "source": [
        "### Create a target variable\n",
        "\n",
        "The original task in Kaggle's <a href=\"https://www.kaggle.com/c/petfinder-adoption-prediction\" class=\"external\">PetFinder.my Adoption Prediction competition</a> was to predict the speed at which a pet will be adopted (e.g. in the first week, the first month, the first three months, and so on).\n"
      ]
    },
    {
      "cell_type": "code",
      "execution_count": null,
      "metadata": {
        "colab": {
          "base_uri": "https://localhost:8080/"
        },
        "id": "wmMDc46-yEqq",
        "outputId": "f155e8e4-a054-439b-c56e-4da55237b912"
      },
      "outputs": [
        {
          "output_type": "execute_result",
          "data": {
            "text/plain": [
              "2    3153\n",
              "4    3080\n",
              "3    2543\n",
              "1    2432\n",
              "0     329\n",
              "Name: AdoptionSpeed, dtype: int64"
            ]
          },
          "metadata": {},
          "execution_count": 69
        }
      ],
      "source": [
        "label = 'AdoptionSpeed'\n",
        "df[label].value_counts()"
      ]
    },
    {
      "cell_type": "markdown",
      "metadata": {
        "id": "hGMDZDHwGvGx"
      },
      "source": [
        "Decide whether or not to simplify the task from a multiclass classification to a binary classification."
      ]
    },
    {
      "cell_type": "code",
      "execution_count": null,
      "metadata": {
        "colab": {
          "base_uri": "https://localhost:8080/"
        },
        "id": "HWa-YMpgF_vu",
        "outputId": "9de5d631-fa12-4080-d921-8f9ebfb62168"
      },
      "outputs": [
        {
          "output_type": "execute_result",
          "data": {
            "text/html": [
              "\n",
              "  <div id=\"df-3f5e2e4b-0fd8-43b4-869c-844d0a80d5f4\">\n",
              "    <div class=\"colab-df-container\">\n",
              "      <div>\n",
              "<style scoped>\n",
              "    .dataframe tbody tr th:only-of-type {\n",
              "        vertical-align: middle;\n",
              "    }\n",
              "\n",
              "    .dataframe tbody tr th {\n",
              "        vertical-align: top;\n",
              "    }\n",
              "\n",
              "    .dataframe thead th {\n",
              "        text-align: right;\n",
              "    }\n",
              "</style>\n",
              "<table border=\"1\" class=\"dataframe\">\n",
              "  <thead>\n",
              "    <tr style=\"text-align: right;\">\n",
              "      <th></th>\n",
              "      <th>Type</th>\n",
              "      <th>Age</th>\n",
              "      <th>Breed1</th>\n",
              "      <th>Gender</th>\n",
              "      <th>Color1</th>\n",
              "      <th>Color2</th>\n",
              "      <th>MaturitySize</th>\n",
              "      <th>FurLength</th>\n",
              "      <th>Vaccinated</th>\n",
              "      <th>Sterilized</th>\n",
              "      <th>Health</th>\n",
              "      <th>Fee</th>\n",
              "      <th>Description</th>\n",
              "      <th>PhotoAmt</th>\n",
              "      <th>AdoptionSpeed</th>\n",
              "    </tr>\n",
              "  </thead>\n",
              "  <tbody>\n",
              "    <tr>\n",
              "      <th>11532</th>\n",
              "      <td>Dog</td>\n",
              "      <td>24</td>\n",
              "      <td>Poodle</td>\n",
              "      <td>Male</td>\n",
              "      <td>Brown</td>\n",
              "      <td>Golden</td>\n",
              "      <td>Medium</td>\n",
              "      <td>Medium</td>\n",
              "      <td>Not Sure</td>\n",
              "      <td>No</td>\n",
              "      <td>Healthy</td>\n",
              "      <td>0</td>\n",
              "      <td>been at my place for a while..am hoping to fin...</td>\n",
              "      <td>0</td>\n",
              "      <td>4</td>\n",
              "    </tr>\n",
              "    <tr>\n",
              "      <th>11533</th>\n",
              "      <td>Cat</td>\n",
              "      <td>1</td>\n",
              "      <td>Domestic Short Hair</td>\n",
              "      <td>Female</td>\n",
              "      <td>Cream</td>\n",
              "      <td>Gray</td>\n",
              "      <td>Medium</td>\n",
              "      <td>Short</td>\n",
              "      <td>No</td>\n",
              "      <td>No</td>\n",
              "      <td>Healthy</td>\n",
              "      <td>0</td>\n",
              "      <td>1 month old white + grey kitten for adoption n...</td>\n",
              "      <td>1</td>\n",
              "      <td>3</td>\n",
              "    </tr>\n",
              "    <tr>\n",
              "      <th>11534</th>\n",
              "      <td>Dog</td>\n",
              "      <td>6</td>\n",
              "      <td>Schnauzer</td>\n",
              "      <td>Female</td>\n",
              "      <td>Black</td>\n",
              "      <td>White</td>\n",
              "      <td>Small</td>\n",
              "      <td>Long</td>\n",
              "      <td>Yes</td>\n",
              "      <td>No</td>\n",
              "      <td>Healthy</td>\n",
              "      <td>0</td>\n",
              "      <td>ooooo</td>\n",
              "      <td>1</td>\n",
              "      <td>0</td>\n",
              "    </tr>\n",
              "    <tr>\n",
              "      <th>11535</th>\n",
              "      <td>Cat</td>\n",
              "      <td>9</td>\n",
              "      <td>Domestic Short Hair</td>\n",
              "      <td>Female</td>\n",
              "      <td>Yellow</td>\n",
              "      <td>White</td>\n",
              "      <td>Small</td>\n",
              "      <td>Short</td>\n",
              "      <td>Yes</td>\n",
              "      <td>Yes</td>\n",
              "      <td>Healthy</td>\n",
              "      <td>0</td>\n",
              "      <td>she is very shy..adventures and independent..s...</td>\n",
              "      <td>3</td>\n",
              "      <td>4</td>\n",
              "    </tr>\n",
              "    <tr>\n",
              "      <th>11536</th>\n",
              "      <td>Dog</td>\n",
              "      <td>1</td>\n",
              "      <td>Mixed Breed</td>\n",
              "      <td>Male</td>\n",
              "      <td>Brown</td>\n",
              "      <td>No Color</td>\n",
              "      <td>Medium</td>\n",
              "      <td>Short</td>\n",
              "      <td>No</td>\n",
              "      <td>No</td>\n",
              "      <td>Healthy</td>\n",
              "      <td>0</td>\n",
              "      <td>Fili just loves laying around and also loves b...</td>\n",
              "      <td>1</td>\n",
              "      <td>3</td>\n",
              "    </tr>\n",
              "  </tbody>\n",
              "</table>\n",
              "</div>\n",
              "      <button class=\"colab-df-convert\" onclick=\"convertToInteractive('df-3f5e2e4b-0fd8-43b4-869c-844d0a80d5f4')\"\n",
              "              title=\"Convert this dataframe to an interactive table.\"\n",
              "              style=\"display:none;\">\n",
              "        \n",
              "  <svg xmlns=\"http://www.w3.org/2000/svg\" height=\"24px\"viewBox=\"0 0 24 24\"\n",
              "       width=\"24px\">\n",
              "    <path d=\"M0 0h24v24H0V0z\" fill=\"none\"/>\n",
              "    <path d=\"M18.56 5.44l.94 2.06.94-2.06 2.06-.94-2.06-.94-.94-2.06-.94 2.06-2.06.94zm-11 1L8.5 8.5l.94-2.06 2.06-.94-2.06-.94L8.5 2.5l-.94 2.06-2.06.94zm10 10l.94 2.06.94-2.06 2.06-.94-2.06-.94-.94-2.06-.94 2.06-2.06.94z\"/><path d=\"M17.41 7.96l-1.37-1.37c-.4-.4-.92-.59-1.43-.59-.52 0-1.04.2-1.43.59L10.3 9.45l-7.72 7.72c-.78.78-.78 2.05 0 2.83L4 21.41c.39.39.9.59 1.41.59.51 0 1.02-.2 1.41-.59l7.78-7.78 2.81-2.81c.8-.78.8-2.07 0-2.86zM5.41 20L4 18.59l7.72-7.72 1.47 1.35L5.41 20z\"/>\n",
              "  </svg>\n",
              "      </button>\n",
              "      \n",
              "  <style>\n",
              "    .colab-df-container {\n",
              "      display:flex;\n",
              "      flex-wrap:wrap;\n",
              "      gap: 12px;\n",
              "    }\n",
              "\n",
              "    .colab-df-convert {\n",
              "      background-color: #E8F0FE;\n",
              "      border: none;\n",
              "      border-radius: 50%;\n",
              "      cursor: pointer;\n",
              "      display: none;\n",
              "      fill: #1967D2;\n",
              "      height: 32px;\n",
              "      padding: 0 0 0 0;\n",
              "      width: 32px;\n",
              "    }\n",
              "\n",
              "    .colab-df-convert:hover {\n",
              "      background-color: #E2EBFA;\n",
              "      box-shadow: 0px 1px 2px rgba(60, 64, 67, 0.3), 0px 1px 3px 1px rgba(60, 64, 67, 0.15);\n",
              "      fill: #174EA6;\n",
              "    }\n",
              "\n",
              "    [theme=dark] .colab-df-convert {\n",
              "      background-color: #3B4455;\n",
              "      fill: #D2E3FC;\n",
              "    }\n",
              "\n",
              "    [theme=dark] .colab-df-convert:hover {\n",
              "      background-color: #434B5C;\n",
              "      box-shadow: 0px 1px 3px 1px rgba(0, 0, 0, 0.15);\n",
              "      filter: drop-shadow(0px 1px 2px rgba(0, 0, 0, 0.3));\n",
              "      fill: #FFFFFF;\n",
              "    }\n",
              "  </style>\n",
              "\n",
              "      <script>\n",
              "        const buttonEl =\n",
              "          document.querySelector('#df-3f5e2e4b-0fd8-43b4-869c-844d0a80d5f4 button.colab-df-convert');\n",
              "        buttonEl.style.display =\n",
              "          google.colab.kernel.accessAllowed ? 'block' : 'none';\n",
              "\n",
              "        async function convertToInteractive(key) {\n",
              "          const element = document.querySelector('#df-3f5e2e4b-0fd8-43b4-869c-844d0a80d5f4');\n",
              "          const dataTable =\n",
              "            await google.colab.kernel.invokeFunction('convertToInteractive',\n",
              "                                                     [key], {});\n",
              "          if (!dataTable) return;\n",
              "\n",
              "          const docLinkHtml = 'Like what you see? Visit the ' +\n",
              "            '<a target=\"_blank\" href=https://colab.research.google.com/notebooks/data_table.ipynb>data table notebook</a>'\n",
              "            + ' to learn more about interactive tables.';\n",
              "          element.innerHTML = '';\n",
              "          dataTable['output_type'] = 'display_data';\n",
              "          await google.colab.output.renderOutput(dataTable, element);\n",
              "          const docLink = document.createElement('div');\n",
              "          docLink.innerHTML = docLinkHtml;\n",
              "          element.appendChild(docLink);\n",
              "        }\n",
              "      </script>\n",
              "    </div>\n",
              "  </div>\n",
              "  "
            ],
            "text/plain": [
              "      Type  Age  ... PhotoAmt AdoptionSpeed\n",
              "11532  Dog   24  ...        0             4\n",
              "11533  Cat    1  ...        1             3\n",
              "11534  Dog    6  ...        1             0\n",
              "11535  Cat    9  ...        3             4\n",
              "11536  Dog    1  ...        1             3\n",
              "\n",
              "[5 rows x 15 columns]"
            ]
          },
          "metadata": {},
          "execution_count": 70
        }
      ],
      "source": [
        "# In the original dataset, `'AdoptionSpeed'` of `4` indicates a pet was not adopted.\n",
        "flag_binary_classification=False\n",
        "if flag_binary_classification:\n",
        "  df['AdoptionSpeed'] = np.where(df['AdoptionSpeed']==4, 0, 1)\n",
        "\n",
        "num_classes = len(df[label].unique()) # 5 in our case\n",
        "\n",
        "df.tail()"
      ]
    },
    {
      "cell_type": "markdown",
      "source": [
        "## Load dataset2 with txt, img cols\n",
        "\n",
        "Ref: https://keras.io/examples/nlp/multimodal_entailment/"
      ],
      "metadata": {
        "id": "4gnhyGxR7-56"
      }
    },
    {
      "cell_type": "code",
      "source": [
        "image_base_path = tf.keras.utils.get_file(\n",
        "    \"tweet_images\",\n",
        "    \"https://github.com/sayakpaul/Multimodal-Entailment-Baseline/releases/download/v1.0.0/tweet_images.tar.gz\",\n",
        "    untar=True,\n",
        ")\n",
        "\n",
        "df = pd.read_csv(\n",
        "    \"https://github.com/sayakpaul/Multimodal-Entailment-Baseline/raw/main/csvs/tweets.csv\"\n",
        ")\n",
        "\n",
        "images_one_paths = []\n",
        "images_two_paths = []\n",
        "\n",
        "for idx in range(len(df)):\n",
        "    current_row = df.iloc[idx]\n",
        "    id_1 = current_row[\"id_1\"]\n",
        "    id_2 = current_row[\"id_2\"]\n",
        "    extentsion_one = current_row[\"image_1\"].split(\".\")[-1]\n",
        "    extentsion_two = current_row[\"image_2\"].split(\".\")[-1]\n",
        "\n",
        "    image_one_path = os.path.join(image_base_path, str(id_1) + f\".{extentsion_one}\")\n",
        "    image_two_path = os.path.join(image_base_path, str(id_2) + f\".{extentsion_two}\")\n",
        "\n",
        "    images_one_paths.append(image_one_path)\n",
        "    images_two_paths.append(image_two_path)\n",
        "print(df.columns)\n",
        "df[\"image_1_path\"] = images_one_paths\n",
        "df[\"image_2_path\"] = images_two_paths\n",
        "\n",
        "# define a label_map\n",
        "label_map = {\"Contradictory\": 0, \"Implies\": 1, \"NoEntailment\": 2}\n",
        "# Create another column containing the integer ids of\n",
        "# the string labels.\n",
        "df[\"label_idx\"] = df[\"label\"].apply(lambda x: label_map[x])\n",
        "df.drop(['label', 'image_1', 'image_2'], axis=1, inplace=True)\n",
        "label = 'label_idx'\n",
        "df.sample(10)"
      ],
      "metadata": {
        "colab": {
          "base_uri": "https://localhost:8080/",
          "height": 825
        },
        "id": "67L-aMFK8FRk",
        "outputId": "8f768b44-3eec-468e-ba26-31eb85ae5450"
      },
      "execution_count": null,
      "outputs": [
        {
          "output_type": "stream",
          "name": "stdout",
          "text": [
            "Downloading data from https://github.com/sayakpaul/Multimodal-Entailment-Baseline/releases/download/v1.0.0/tweet_images.tar.gz\n",
            "344276992/344273442 [==============================] - 2s 0us/step\n",
            "344285184/344273442 [==============================] - 2s 0us/step\n",
            "Index(['id_1', 'text_1', 'image_1', 'id_2', 'text_2', 'image_2', 'label'], dtype='object')\n"
          ]
        },
        {
          "output_type": "execute_result",
          "data": {
            "text/html": [
              "\n",
              "  <div id=\"df-c89bdcc6-babe-45df-a8f0-2344510b2868\">\n",
              "    <div class=\"colab-df-container\">\n",
              "      <div>\n",
              "<style scoped>\n",
              "    .dataframe tbody tr th:only-of-type {\n",
              "        vertical-align: middle;\n",
              "    }\n",
              "\n",
              "    .dataframe tbody tr th {\n",
              "        vertical-align: top;\n",
              "    }\n",
              "\n",
              "    .dataframe thead th {\n",
              "        text-align: right;\n",
              "    }\n",
              "</style>\n",
              "<table border=\"1\" class=\"dataframe\">\n",
              "  <thead>\n",
              "    <tr style=\"text-align: right;\">\n",
              "      <th></th>\n",
              "      <th>id_1</th>\n",
              "      <th>text_1</th>\n",
              "      <th>id_2</th>\n",
              "      <th>text_2</th>\n",
              "      <th>image_1_path</th>\n",
              "      <th>image_2_path</th>\n",
              "      <th>label_idx</th>\n",
              "    </tr>\n",
              "  </thead>\n",
              "  <tbody>\n",
              "    <tr>\n",
              "      <th>1096</th>\n",
              "      <td>1377682955372482571</td>\n",
              "      <td>I have 363 new followers from USA, UK., Austra...</td>\n",
              "      <td>1378355249254182912</td>\n",
              "      <td>I have 6 new followers from Paraguay 🇵🇾, and m...</td>\n",
              "      <td>/root/.keras/datasets/tweet_images/13776829553...</td>\n",
              "      <td>/root/.keras/datasets/tweet_images/13783552492...</td>\n",
              "      <td>2</td>\n",
              "    </tr>\n",
              "    <tr>\n",
              "      <th>416</th>\n",
              "      <td>1378805688500166657</td>\n",
              "      <td>I have 4 new followers from Italy 🇮🇹 last week...</td>\n",
              "      <td>1381968389992706054</td>\n",
              "      <td>I have 18 new followers from Iraq 🇮🇶, and more...</td>\n",
              "      <td>/root/.keras/datasets/tweet_images/13788056885...</td>\n",
              "      <td>/root/.keras/datasets/tweet_images/13819683899...</td>\n",
              "      <td>2</td>\n",
              "    </tr>\n",
              "    <tr>\n",
              "      <th>93</th>\n",
              "      <td>1377717869547548676</td>\n",
              "      <td>#Maneater is getting a new DLC expansion this ...</td>\n",
              "      <td>1378418935071133698</td>\n",
              "      <td>Shark RPG Maneater Gets Fresh DLC This Summer ...</td>\n",
              "      <td>/root/.keras/datasets/tweet_images/13777178695...</td>\n",
              "      <td>/root/.keras/datasets/tweet_images/13784189350...</td>\n",
              "      <td>1</td>\n",
              "    </tr>\n",
              "    <tr>\n",
              "      <th>677</th>\n",
              "      <td>1355124159391608835</td>\n",
              "      <td>The super shiny certificate of my first-ever '...</td>\n",
              "      <td>1381231369179832325</td>\n",
              "      <td>It is indeed a very exciting moment when you g...</td>\n",
              "      <td>/root/.keras/datasets/tweet_images/13551241593...</td>\n",
              "      <td>/root/.keras/datasets/tweet_images/13812313691...</td>\n",
              "      <td>2</td>\n",
              "    </tr>\n",
              "    <tr>\n",
              "      <th>1136</th>\n",
              "      <td>1375946499406827520</td>\n",
              "      <td>Are you not entertained?\\n\\nAnother dominant p...</td>\n",
              "      <td>1383560636001525766</td>\n",
              "      <td>A Saturday sweep 🧹 \\n\\n@MonmouthSB handles Mar...</td>\n",
              "      <td>/root/.keras/datasets/tweet_images/13759464994...</td>\n",
              "      <td>/root/.keras/datasets/tweet_images/13835606360...</td>\n",
              "      <td>2</td>\n",
              "    </tr>\n",
              "    <tr>\n",
              "      <th>1335</th>\n",
              "      <td>1361589489567625218</td>\n",
              "      <td>May the Goddess Saraswati bless you with knowl...</td>\n",
              "      <td>1361646293085396996</td>\n",
              "      <td>Happy #BasantPanchmi may maa Saraswati bless u...</td>\n",
              "      <td>/root/.keras/datasets/tweet_images/13615894895...</td>\n",
              "      <td>/root/.keras/datasets/tweet_images/13616462930...</td>\n",
              "      <td>2</td>\n",
              "    </tr>\n",
              "    <tr>\n",
              "      <th>991</th>\n",
              "      <td>1347544344685912069</td>\n",
              "      <td>Elon Musk's six secrets to business success ht...</td>\n",
              "      <td>1362914251120074754</td>\n",
              "      <td>5 Success Secrets From Elon Musk You Need to K...</td>\n",
              "      <td>/root/.keras/datasets/tweet_images/13475443446...</td>\n",
              "      <td>/root/.keras/datasets/tweet_images/13629142511...</td>\n",
              "      <td>2</td>\n",
              "    </tr>\n",
              "    <tr>\n",
              "      <th>1200</th>\n",
              "      <td>1341733248259395585</td>\n",
              "      <td>Earthquake Detailed Report – 12/23\\nAt around ...</td>\n",
              "      <td>1355762287517126656</td>\n",
              "      <td>Earthquake Detailed Report – 1/31\\nAt around 3...</td>\n",
              "      <td>/root/.keras/datasets/tweet_images/13417332482...</td>\n",
              "      <td>/root/.keras/datasets/tweet_images/13557622875...</td>\n",
              "      <td>2</td>\n",
              "    </tr>\n",
              "    <tr>\n",
              "      <th>1162</th>\n",
              "      <td>1358652983119077376</td>\n",
              "      <td>Nailed by V\\nBook Here⬇️\\nhttps://t.co/3OkQgFk...</td>\n",
              "      <td>1358798567545176065</td>\n",
              "      <td>Nailed by V \\nBook Here ⬇️\\nhttps://t.co/3OkQg...</td>\n",
              "      <td>/root/.keras/datasets/tweet_images/13586529831...</td>\n",
              "      <td>/root/.keras/datasets/tweet_images/13587985675...</td>\n",
              "      <td>2</td>\n",
              "    </tr>\n",
              "    <tr>\n",
              "      <th>1327</th>\n",
              "      <td>1375055689358438401</td>\n",
              "      <td>Here are the temperatures this morning at 7 AM...</td>\n",
              "      <td>1377230026052096006</td>\n",
              "      <td>Here are the temperatures this morning at 7 AM...</td>\n",
              "      <td>/root/.keras/datasets/tweet_images/13750556893...</td>\n",
              "      <td>/root/.keras/datasets/tweet_images/13772300260...</td>\n",
              "      <td>2</td>\n",
              "    </tr>\n",
              "  </tbody>\n",
              "</table>\n",
              "</div>\n",
              "      <button class=\"colab-df-convert\" onclick=\"convertToInteractive('df-c89bdcc6-babe-45df-a8f0-2344510b2868')\"\n",
              "              title=\"Convert this dataframe to an interactive table.\"\n",
              "              style=\"display:none;\">\n",
              "        \n",
              "  <svg xmlns=\"http://www.w3.org/2000/svg\" height=\"24px\"viewBox=\"0 0 24 24\"\n",
              "       width=\"24px\">\n",
              "    <path d=\"M0 0h24v24H0V0z\" fill=\"none\"/>\n",
              "    <path d=\"M18.56 5.44l.94 2.06.94-2.06 2.06-.94-2.06-.94-.94-2.06-.94 2.06-2.06.94zm-11 1L8.5 8.5l.94-2.06 2.06-.94-2.06-.94L8.5 2.5l-.94 2.06-2.06.94zm10 10l.94 2.06.94-2.06 2.06-.94-2.06-.94-.94-2.06-.94 2.06-2.06.94z\"/><path d=\"M17.41 7.96l-1.37-1.37c-.4-.4-.92-.59-1.43-.59-.52 0-1.04.2-1.43.59L10.3 9.45l-7.72 7.72c-.78.78-.78 2.05 0 2.83L4 21.41c.39.39.9.59 1.41.59.51 0 1.02-.2 1.41-.59l7.78-7.78 2.81-2.81c.8-.78.8-2.07 0-2.86zM5.41 20L4 18.59l7.72-7.72 1.47 1.35L5.41 20z\"/>\n",
              "  </svg>\n",
              "      </button>\n",
              "      \n",
              "  <style>\n",
              "    .colab-df-container {\n",
              "      display:flex;\n",
              "      flex-wrap:wrap;\n",
              "      gap: 12px;\n",
              "    }\n",
              "\n",
              "    .colab-df-convert {\n",
              "      background-color: #E8F0FE;\n",
              "      border: none;\n",
              "      border-radius: 50%;\n",
              "      cursor: pointer;\n",
              "      display: none;\n",
              "      fill: #1967D2;\n",
              "      height: 32px;\n",
              "      padding: 0 0 0 0;\n",
              "      width: 32px;\n",
              "    }\n",
              "\n",
              "    .colab-df-convert:hover {\n",
              "      background-color: #E2EBFA;\n",
              "      box-shadow: 0px 1px 2px rgba(60, 64, 67, 0.3), 0px 1px 3px 1px rgba(60, 64, 67, 0.15);\n",
              "      fill: #174EA6;\n",
              "    }\n",
              "\n",
              "    [theme=dark] .colab-df-convert {\n",
              "      background-color: #3B4455;\n",
              "      fill: #D2E3FC;\n",
              "    }\n",
              "\n",
              "    [theme=dark] .colab-df-convert:hover {\n",
              "      background-color: #434B5C;\n",
              "      box-shadow: 0px 1px 3px 1px rgba(0, 0, 0, 0.15);\n",
              "      filter: drop-shadow(0px 1px 2px rgba(0, 0, 0, 0.3));\n",
              "      fill: #FFFFFF;\n",
              "    }\n",
              "  </style>\n",
              "\n",
              "      <script>\n",
              "        const buttonEl =\n",
              "          document.querySelector('#df-c89bdcc6-babe-45df-a8f0-2344510b2868 button.colab-df-convert');\n",
              "        buttonEl.style.display =\n",
              "          google.colab.kernel.accessAllowed ? 'block' : 'none';\n",
              "\n",
              "        async function convertToInteractive(key) {\n",
              "          const element = document.querySelector('#df-c89bdcc6-babe-45df-a8f0-2344510b2868');\n",
              "          const dataTable =\n",
              "            await google.colab.kernel.invokeFunction('convertToInteractive',\n",
              "                                                     [key], {});\n",
              "          if (!dataTable) return;\n",
              "\n",
              "          const docLinkHtml = 'Like what you see? Visit the ' +\n",
              "            '<a target=\"_blank\" href=https://colab.research.google.com/notebooks/data_table.ipynb>data table notebook</a>'\n",
              "            + ' to learn more about interactive tables.';\n",
              "          element.innerHTML = '';\n",
              "          dataTable['output_type'] = 'display_data';\n",
              "          await google.colab.output.renderOutput(dataTable, element);\n",
              "          const docLink = document.createElement('div');\n",
              "          docLink.innerHTML = docLinkHtml;\n",
              "          element.appendChild(docLink);\n",
              "        }\n",
              "      </script>\n",
              "    </div>\n",
              "  </div>\n",
              "  "
            ],
            "text/plain": [
              "                     id_1  ... label_idx\n",
              "1096  1377682955372482571  ...         2\n",
              "416   1378805688500166657  ...         2\n",
              "93    1377717869547548676  ...         1\n",
              "677   1355124159391608835  ...         2\n",
              "1136  1375946499406827520  ...         2\n",
              "1335  1361589489567625218  ...         2\n",
              "991   1347544344685912069  ...         2\n",
              "1200  1341733248259395585  ...         2\n",
              "1162  1358652983119077376  ...         2\n",
              "1327  1375055689358438401  ...         2\n",
              "\n",
              "[10 rows x 7 columns]"
            ]
          },
          "metadata": {},
          "execution_count": 66
        }
      ]
    },
    {
      "cell_type": "markdown",
      "metadata": {
        "id": "L-i2LwRXlhFs"
      },
      "source": [
        "## Automate splitting cnt, cat, txt, img columns"
      ]
    },
    {
      "cell_type": "code",
      "execution_count": null,
      "metadata": {
        "id": "fZkeX_W3ohdY"
      },
      "outputs": [],
      "source": [
        "import requests\n",
        "def check_path(path):\n",
        "    \"\"\"check if path is a valid directory or not\"\"\"\n",
        "    try:\n",
        "      return os.path.exists(os.path.dirname(path))\n",
        "    except:\n",
        "      return False\n",
        "def check_url(path):\n",
        "    \"\"\"check if path is a valid url or not\"\"\"\n",
        "    try: return requests.get(path)\n",
        "    except:\n",
        "      if 'http' in path:\n",
        "        return True\n",
        "      else:\n",
        "        return False\n",
        "\n",
        "def cnt_cat_txt_img_split(df, cnt_card=20, excluded_cols = [], txt_card=0.5):\n",
        "    \"\"\"Helper function that returns column names of cnt, cat (furtherly split into int_cat, str_cat), txt variables from given df.\n",
        "    Args: \n",
        "      df\n",
        "      cnt_card (int or float within 0 and 1): cnt cardinarity, e.g. ratio of unique values for cnt column\n",
        "      label (str default None): the target/dependant varible column name\n",
        "      txt_card (int or float within 0 and 1): txt cardinarity, e.g. ratio of unique values for txt column\n",
        "    Return:\n",
        "      txt_cols, cnt_cols, cat_cols, (int_cat_cols, str_cat_cols), img_cols: (list of str)\n",
        "    Example:\n",
        "      txt_cols, cnt_cols, cat_cols, (int_cat_cols, str_cat_cols), img_cols = cnt_cat_txt_split(df, cnt_card=80, label='target', txt_card=0.5)\n",
        "\n",
        "    \"\"\"\n",
        "    # init placeholder for cnt, cat (int_cat, str_cat), txt\n",
        "    cnt_cols, cat_cols, txt_cols, img_cols = [], [], [], []\n",
        "    int_cat_cols, str_cat_cols = [], []\n",
        "\n",
        "    # prep cnt cardinality & txt cardinality\n",
        "    if cnt_card < 1:\n",
        "        print(f'before adjustment...cnt_card={cnt_card}')\n",
        "        cnt_card = int(df.shape[0]*cnt_card)\n",
        "        print(f'cnt_card={cnt_card}')\n",
        "    if txt_card < 1:\n",
        "        print(f'before adjustment...txt_card={txt_card}')\n",
        "        txt_card = int(df.shape[0]*txt_card)\n",
        "        print(f'txt_card={txt_card}')\n",
        "    # exclude target\n",
        "    cols = set(df.columns) - set(excluded_cols)\n",
        "\n",
        "    # separate cnt, cat, txt columns\n",
        "    for col in cols:\n",
        "        if ((pd.api.types.is_integer_dtype(df[col].dtype) and\n",
        "            df[col].unique().shape[0] > cnt_card) or\n",
        "            pd.api.types.is_float_dtype(df[col].dtype)): #add to cnt_cols\n",
        "            cnt_cols.append(col)\n",
        "        elif (pd.api.types.is_string_dtype(df[col].dtype) and\n",
        "            df[col].unique().shape[0] > txt_card):\n",
        "            if all(['.png' in x or '.jpg' in x for x in df[col].sample(10)]): # and (all([check_url(path) for path in df[col].sample(10)]) or all([check_path(path) for path in df[col].sample(10)])): #check 10 samples to see if they are either valid url or valid path \n",
        "              img_cols.append(col)\n",
        "            else: #add to txt_cols\n",
        "              txt_cols.append(col)\n",
        "        else: #add to cat_cols\n",
        "            cat_cols.append(col)\n",
        "            if pd.api.types.is_integer_dtype(df[col].dtype): #separate cat_cols into int_cat_cols and str_cat_cols\n",
        "              int_cat_cols.append(col)\n",
        "            else:\n",
        "              str_cat_cols.append(col)\n",
        "    return txt_cols, cnt_cols, cat_cols, (int_cat_cols, str_cat_cols), img_cols"
      ]
    },
    {
      "cell_type": "code",
      "execution_count": null,
      "metadata": {
        "colab": {
          "base_uri": "https://localhost:8080/"
        },
        "id": "QVmc0Hw4yxt1",
        "outputId": "f94ae028-86e4-4d16-e973-b3d029474887"
      },
      "outputs": [
        {
          "output_type": "stream",
          "name": "stdout",
          "text": [
            "before adjustment...txt_card=0.5\n",
            "txt_card=5768\n",
            "['Description'] ['Age', 'PhotoAmt', 'Fee'] ['FurLength', 'Gender', 'Color1', 'Type', 'Breed1', 'Health', 'MaturitySize', 'Sterilized', 'Vaccinated', 'Color2'] ([], ['FurLength', 'Gender', 'Color1', 'Type', 'Breed1', 'Health', 'MaturitySize', 'Sterilized', 'Vaccinated', 'Color2']) []\n"
          ]
        }
      ],
      "source": [
        "txt_cols, cnt_cols, cat_cols, (int_cat_cols, str_cat_cols), img_cols = cnt_cat_txt_img_split(df, cnt_card=30, excluded_cols=[label, 'label_idx'], txt_card=0.5)\n",
        "print(txt_cols, cnt_cols, cat_cols, (int_cat_cols, str_cat_cols), img_cols)"
      ]
    },
    {
      "cell_type": "code",
      "source": [
        "\"\"\"#tmp for diagnosis\n",
        "cnt_cols = ['Fee']\n",
        "cat_cols = []#[cat_cols[0]]\n",
        "int_cat_cols = []#[int_cat_cols[0]]\n",
        "str_cat_cols =[]#[str_cat_cols[0]]\n",
        "#txt_cols = []\"\"\"\n",
        "\n",
        "print(txt_cols, cnt_cols, cat_cols, (int_cat_cols, str_cat_cols), img_cols)"
      ],
      "metadata": {
        "colab": {
          "base_uri": "https://localhost:8080/"
        },
        "id": "f19abv2FeU1r",
        "outputId": "c985ac29-e57c-401e-fe3c-6c1ada49255b"
      },
      "execution_count": null,
      "outputs": [
        {
          "output_type": "stream",
          "name": "stdout",
          "text": [
            "['Description'] ['Fee'] [] ([], []) []\n"
          ]
        }
      ]
    },
    {
      "cell_type": "markdown",
      "metadata": {
        "id": "sp0NCbswyEqs"
      },
      "source": [
        "## Split the DataFrame into training, validation, and test sets\n",
        "\n",
        "The dataset is in a single pandas DataFrame. Split it into training, validation, and test sets using a, for example, 80:10:10 ratio, respectively:"
      ]
    },
    {
      "cell_type": "code",
      "execution_count": null,
      "metadata": {
        "id": "QWn79Lv_t0Co"
      },
      "outputs": [],
      "source": [
        "def split_train_valid_test(df, train_valid_test=[0.7,0.15, 0.15], target='response_status', random_state=123, sort_split_by_col='start_datetime'):\n",
        "    '''Splits a Pandas Dataframe into training, evaluation and serving sets, stratifying on target column.\n",
        "\n",
        "    Args:\n",
        "            df : pandas dataframe to split\n",
        "            train_valid_test: a list of 3 positive numbers, each being either float or integer\n",
        "            target (string): the name of target column\n",
        "            random_state (int or None): the random seed to shuffle df; if None, do not shuffle df\n",
        "            sort_split_by_col (str or list of str) e.g.'index', 'start_datetime' or ['start_datetime','event_end_datetime']\n",
        "    Returns:\n",
        "            train_df: Training dataframe(i.e. 70% of the entire dataset)\n",
        "            valid_df: Evaluation dataframe (i.e. 15% of the entire dataset) \n",
        "            test_df: Serving dataframe (i.e. 15% of the entire dataset, label column dropped)\n",
        "            keep_datetime_order (default True): after splitting data into train < validation < serving\n",
        "    Ref:\n",
        "        C2W1_assignment.ipynb using TFDV to visulize, validate and moritor data at scale\n",
        "    '''\n",
        "    if len(train_valid_test)==3 and not any(x < 0 for x in train_valid_test):\n",
        "        tot = sum(train_valid_test)\n",
        "        train_valid_test = [x/tot for x in train_valid_test]\n",
        "    else: \n",
        "        raise ValueError('train_valid_test need to be a list of 3 positive numbers!')\n",
        "\n",
        "    if sort_split_by_col is not None:\n",
        "        if sort_split_by_col=='index':\n",
        "            df.sort_index(inplace=True) #for ui, datetime info is stored in df.index\n",
        "            df.reset_index(drop=False, inplace=True)\n",
        "        \n",
        "        ls = list(range(df.shape[0])) #range_of(df)  \n",
        "        df.sort_values(by=sort_split_by_col, inplace=True)\n",
        "        ls_train = ls[:int(df.shape[0]*train_valid_test[0])]\n",
        "        train_cut_date = df.iloc[ls_train[-1],:][sort_split_by_col]\n",
        "        train_df = df[df[sort_split_by_col]<=train_cut_date]\n",
        "\n",
        "        ls_test = ls[:int(df.shape[0]*sum(train_valid_test[0:2]))]\n",
        "        test_cut_date = df.iloc[ls_test[-1],:][sort_split_by_col]\n",
        "        test_cut_date = max(test_cut_date, train_cut_date)\n",
        "        test_df = df[df[sort_split_by_col]>test_cut_date]\n",
        "\n",
        "        try: valid_df=df[df[sort_split_by_col]>train_cut_date & df[sort_split_by_col]<=test_cut_date]\n",
        "        except: valid_df = pd.DataFrame()\n",
        "\n",
        "        ls_train = ls[:int(train_df.shape[0])]\n",
        "        ls_test = ls[-int(test_df.shape[0]):]\n",
        "        try: ls_valid = ls[int(train_df.shape[0]):-int(test_df.shape[0])]\n",
        "        except: ls_valid = []\n",
        "    n_train, n_valid, n_serv = train_df.shape[0], valid_df.shape[0], test_df.shape[0]\n",
        "    print('================Double check the indices of train, valid and test are sorted: =================== ')\n",
        "    print(f'train_df={df.iloc[:n_train,:][sort_split_by_col]}/n')\n",
        "    print(f'valid_df={df.iloc[n_train:(n_train+n_valid),:][sort_split_by_col]}/n')\n",
        "    print(f'test_df={df.iloc[(n_train+n_valid):,:][sort_split_by_col]}')\n",
        "    df.reset_index(drop=True, inplace=True)\n",
        "    train_df, valid_df, test_df  = df.iloc[:n_train,:], df.iloc[n_train:(n_train+n_valid),:], df.iloc[(n_train+n_valid):,:]#.drop([target], axis=1)\n",
        "    return train_df, valid_df, test_df# X_test, y_test\n",
        "\n",
        "    # downstream dl clf can not accept datetime index, therefore df.reset_index()   \n",
        "    df.reset_index(drop=True, inplace=True)\n",
        "    train_df, eval_serv = train_test_split(df, stratify=df[target], test_size = 1 - train_valid_test[0], random_state=random_state)\n",
        "    valid_df, test_df = train_test_split(eval_serv, stratify=eval_serv[target], test_size = train_valid_test[1]/(1 - train_valid_test[0]), random_state=random_state)\n",
        "    \n",
        "    # Serving data emulates the data that would be submitted for predictions, so it should not have the label column.\n",
        "    #y_test = test_df[target]\n",
        "    #X_test = test_df.drop([target], axis=1)\n",
        "\n",
        "    return train_df, valid_df, test_df"
      ]
    },
    {
      "cell_type": "code",
      "execution_count": null,
      "metadata": {
        "id": "XvSinthO8oMj"
      },
      "outputs": [],
      "source": [
        "stratify_split = True\n",
        "if stratify_split:\n",
        "  # 10% for test\n",
        "  train_df, test_df = train_test_split(\n",
        "      df, test_size=0.1, stratify=df[label].values, random_state=42\n",
        "  )\n",
        "  # 5% for validation\n",
        "  train_df, valid_df = train_test_split(\n",
        "      train_df, test_size=0.05, stratify=train_df[label].values, random_state=42\n",
        "  )\n",
        "else:\n",
        "  train_df, valid_df, test_df = np.split(df.sample(frac=1), [int(0.8*len(df)), int(0.9*len(df))])"
      ]
    },
    {
      "cell_type": "code",
      "execution_count": null,
      "metadata": {
        "colab": {
          "base_uri": "https://localhost:8080/"
        },
        "id": "U02Q1moWoPwQ",
        "outputId": "9c2cbc3d-d303-451d-ae12-056310fd1bb6"
      },
      "outputs": [
        {
          "output_type": "stream",
          "name": "stdout",
          "text": [
            "9863 training examples\n",
            "520 validation examples\n",
            "1154 test examples\n"
          ]
        }
      ],
      "source": [
        "print(len(train_df), 'training examples')\n",
        "print(len(valid_df), 'validation examples')\n",
        "print(len(test_df), 'test examples')"
      ]
    },
    {
      "cell_type": "code",
      "source": [
        "train_df.columns"
      ],
      "metadata": {
        "colab": {
          "base_uri": "https://localhost:8080/"
        },
        "id": "s1IpZ6SWAjAn",
        "outputId": "f04122d4-5c8f-45d0-eea8-ea909e79216d"
      },
      "execution_count": null,
      "outputs": [
        {
          "output_type": "execute_result",
          "data": {
            "text/plain": [
              "Index(['Type', 'Age', 'Breed1', 'Gender', 'Color1', 'Color2', 'MaturitySize',\n",
              "       'FurLength', 'Vaccinated', 'Sterilized', 'Health', 'Fee', 'Description',\n",
              "       'PhotoAmt', 'AdoptionSpeed'],\n",
              "      dtype='object')"
            ]
          },
          "metadata": {},
          "execution_count": 91
        }
      ]
    },
    {
      "cell_type": "markdown",
      "source": [
        "## Data Input: df to ds\n",
        "\n",
        "TensorFlow Hub provides\n",
        "[variety of BERT family of models](https://www.tensorflow.org/text/tutorials/bert_glue#loading_models_from_tensorflow_hub).\n",
        "Each of those models comes with a\n",
        "corresponding preprocessing layer. You can learn more about these models and their\n",
        "preprocessing layers from\n",
        "[this resource](https://www.tensorflow.org/text/tutorials/bert_glue#loading_models_from_tensorflow_hub).\n",
        "\n",
        "To keep the runtime of this example relatively short, we will use a smaller variant of\n",
        "the original BERT model."
      ],
      "metadata": {
        "id": "9LglplB1P5e6"
      }
    },
    {
      "cell_type": "code",
      "source": [
        "# Define TF Hub paths to the BERT encoder and its preprocessor\n",
        "bert_model_path = (\n",
        "    \"https://tfhub.dev/tensorflow/small_bert/bert_en_uncased_L-2_H-256_A-4/1\"\n",
        ")\n",
        "\n",
        "resize = (128, 128)\n",
        "bert_input_features = [\"input_word_ids\", \"input_type_ids\", \"input_mask\"]\n",
        "flag_txt_bert = False\n",
        "def make_bert_preprocessing_model(txt_col, seq_length=128):\n",
        "    \"\"\"Returns Model mapping string features to BERT inputs.\n",
        "\n",
        "  Args:\n",
        "    txt_col: the names of string-valued feature.\n",
        "    seq_length: An integer that defines the sequence length of BERT inputs.\n",
        "\n",
        "  Returns:\n",
        "    A Keras Model that can be called on a list or dict of string Tensors\n",
        "    (with the order or names, resp., given by txt_cols) and\n",
        "    returns a dict of tensors for input to BERT.\n",
        "  \"\"\"\n",
        "    bert_preprocess_path = \"https://tfhub.dev/tensorflow/bert_en_uncased_preprocess/3\"\n",
        "\n",
        "    inputs =  [tf.keras.layers.Input(shape=(), dtype=tf.string, name=txt_col)]\n",
        "\n",
        "    # Tokenize the text to word pieces.\n",
        "    bert_preprocess = hub.load(bert_preprocess_path)\n",
        "    tokenizer = hub.KerasLayer(bert_preprocess.tokenize, name=\"tokenizer\")\n",
        "    segments = [tokenizer(s) for s in inputs]\n",
        "\n",
        "    # Optional: Trim segments in a smart way to fit seq_length.\n",
        "    # Simple cases (like this example) can skip this step and let\n",
        "    # the next step apply a default truncation to approximately equal lengths.\n",
        "    truncated_segments = segments\n",
        "\n",
        "    # Pack inputs. The details (start/end token ids, dict of output tensors)\n",
        "    # are model-dependent, so this gets loaded from the SavedModel.\n",
        "    packer = hub.KerasLayer(\n",
        "        bert_preprocess.bert_pack_inputs,\n",
        "        arguments=dict(seq_length=seq_length),\n",
        "        name=\"packer\",\n",
        "    )\n",
        "    outputs = packer(truncated_segments)\n",
        "    return tf.keras.Model(inputs, outputs)\n",
        "\n",
        "\n",
        "bert_preprocess_model_ls = [make_bert_preprocessing_model(txt_col) for txt_col in txt_cols]\n",
        "#tf.keras.utils.plot_model(bert_preprocess_model_ls[0], show_shapes=True, show_dtype=True)\n",
        "\n",
        "def dataframe_to_dataset(df, cnt_cols_to_bucketize:list=cnt_cols):\n",
        "    \"\"\"turn pd df to tf ds, with label column multi-hot encoded\"\"\"\n",
        "    df = df.copy()\n",
        "    for col in df.columns:\n",
        "      if df[[col]].dtypes[col]==np.dtype('O'):\n",
        "        df[col] = df[col].astype('str')\n",
        "      if col in cnt_cols_to_bucketize and (df[[col]].dtypes[col]==np.dtype('int64') or df[[col]].dtypes[col]==np.dtype('float64')):\n",
        "        df['bin_'+col] = df[col] #will be used for continuous column bucketization\n",
        "    \n",
        "    labels = df.pop(label)\n",
        "    num_classes = len(labels.value_counts())\n",
        "\n",
        "    def onehot_encode_label(x, y, num_classes=num_classes):\n",
        "      \"\"\"one-hot encode label y\n",
        "      Ref: https://stackoverflow.com/questions/68347501/tensorflow-keras-using-specific-class-recall-as-metric-for-sparse-categorical-cr\n",
        "      \"\"\"\n",
        "      y = tf.one_hot(y, num_classes) # e.g. 3 is the number of classes\n",
        "      return x, y\n",
        "      \n",
        "    ds = tf.data.Dataset.from_tensor_slices((dict(df), labels))\n",
        "    ds = ds.map(onehot_encode_label)\n",
        "    ds = ds.shuffle(buffer_size=len(df))\n",
        "    return ds\n",
        "\n",
        "def preprocess_image(image_path, resize=(128, 128)):\n",
        "    \"\"\"prep image by reading in image from image_path and resize it\"\"\"\n",
        "    extension = tf.strings.split(image_path)[-1]\n",
        "\n",
        "    image = tf.io.read_file(image_path)\n",
        "    if extension == b\"jpg\":\n",
        "        image = tf.image.decode_jpeg(image, 3)\n",
        "    else:\n",
        "        image = tf.image.decode_png(image, 3)\n",
        "    image = tf.image.resize(image, resize)\n",
        "    return image\n",
        "\n",
        "\n",
        "def preprocess_text(text_ls): \n",
        "    \"\"\" prep a list of text features for as bert model input\n",
        "    Inhertited from preprocess_text(text_1, text_2)\n",
        "    \"\"\"\n",
        "    text_ls = [tf.convert_to_tensor([text_i]) for text_i in text_ls]\n",
        "    #text_2 = tf.convert_to_tensor([text_2])\n",
        "    output_ls = [bert_preprocess_model(text_i) for (bert_preprocess_model, text_i) in zip(bert_preprocess_model_ls, text_ls) ]\n",
        "    \n",
        "    bert_input_features = [\"input_word_ids\", \"input_type_ids\", \"input_mask\"]\n",
        "\n",
        "    output_dict ={txt_col: {feature: tf.squeeze(output[feature]) for feature in bert_input_features} for (txt_col, output) in zip(txt_cols, output_ls)}\n",
        "    return output_dict\n",
        "\n",
        "def preprocess_cnt_cat_txt_img(sample, cnt_cols_to_bucketize:list=cnt_cols, flag_txt_bert:bool=True):\n",
        "    \"\"\"preprocess data for the preprocessing step:\n",
        "    Args:\n",
        "      sample: tf ds\n",
        "      cnt_cols_to_bucketize: a list of cnt cols to be bucketized\n",
        "      flag_txt_bert: whether you want to use bert to process txt_cols; need to be consistent with the downstream preprocess choice \n",
        "    Return: \n",
        "      {**cnt_dict,**bin_cnt_dict, **cat_dict, **image_dict, **text_dict}\n",
        "\n",
        "    Example:\n",
        "      ds = dataframe_to_dataset(df)\n",
        "      if flag_training:\n",
        "          ds = ds.shuffle(len(df))\n",
        "      ds = ds.map(lambda x, y: (preprocess_cnt_cat_txt_img(x), y)).cache()\n",
        "    \"\"\"\n",
        "    # prep cnt_cols\n",
        "    cnt_dict = {col:sample[col] for col in cnt_cols}\n",
        "    if len(cnt_cols_to_bucketize)>0:\n",
        "        bin_cnt_dict = {'bin_'+col:sample[col] for col in cnt_cols_to_bucketize}\n",
        "    else:\n",
        "        bin_cnt_dict = dict()\n",
        "    # prep cat_cols\n",
        "    cat_dict = {col:sample[col] for col in cat_cols}\n",
        "    \n",
        "    # prep img_cols\n",
        "    image_dict = {img_col:preprocess_image(sample[img_col]) for img_col in img_cols}\n",
        "    \n",
        "    # prep txt_cols\n",
        "    if flag_txt_bert:\n",
        "        text_dict = preprocess_text([sample[txt_col] for txt_col in txt_cols])\n",
        "    else:\n",
        "        text_dict = {txt_col: sample[txt_col] for txt_col in txt_cols}\n",
        "    return {**cnt_dict,**bin_cnt_dict, **cat_dict, **image_dict, **text_dict} #{\"image_1\": image_1, \"image_2\": image_2, \"text\": text}\n",
        "\n",
        "\n",
        "\n",
        "\n",
        "\n",
        "def df_to_ds(df, flag_training=True, batch_size:int=32, auto = tf.data.AUTOTUNE, flag_txt_bert:bool=flag_txt_bert):\n",
        "    \"\"\"prepare dataframe to tf dataset, which is the input for preprocessing layers\"\"\"\n",
        "    ds = dataframe_to_dataset(df)\n",
        "    if flag_training:\n",
        "        ds = ds.shuffle(len(df))\n",
        "    ds = ds.map(lambda x, y: (preprocess_cnt_cat_txt_img(x, flag_txt_bert=flag_txt_bert), y)).cache()\n",
        "    ds = ds.batch(batch_size).prefetch(auto)\n",
        "    return ds\n",
        "\n",
        "\n",
        "train_ds = df_to_ds(train_df, flag_training=True)\n",
        "valid_ds = df_to_ds(valid_df, flag_training=False)\n",
        "test_ds = df_to_ds(test_df, flag_training=False)"
      ],
      "metadata": {
        "id": "Qm3dhM2qQggk"
      },
      "execution_count": null,
      "outputs": []
    },
    {
      "cell_type": "code",
      "source": [
        "#dbck\n",
        "[(X_train, y_train)] = train_ds.take(1)\n",
        "print(list(X_train.keys()))\n",
        "for key in list(X_train.keys()):\n",
        "    print(f'A batch of {key}:', X_train[key])"
      ],
      "metadata": {
        "colab": {
          "base_uri": "https://localhost:8080/"
        },
        "id": "g4y6cH9QcCCs",
        "outputId": "e64980f6-25ba-4c63-fdca-8c83be34ac07"
      },
      "execution_count": null,
      "outputs": [
        {
          "output_type": "stream",
          "name": "stdout",
          "text": [
            "['Fee', 'bin_Fee', 'Description']\n",
            "A batch of Fee: tf.Tensor(\n",
            "[  0   0   0   0   0   0   0   0   0   0   0   0   0 150   0   0   0   0\n",
            "   0   0   0   0   0   0  80   0   0   0   0   0 100   0], shape=(32,), dtype=int64)\n",
            "A batch of bin_Fee: tf.Tensor(\n",
            "[  0   0   0   0   0   0   0   0   0   0   0   0   0 150   0   0   0   0\n",
            "   0   0   0   0   0   0  80   0   0   0   0   0 100   0], shape=(32,), dtype=int64)\n",
            "A batch of Description: {'input_word_ids': <tf.Tensor: shape=(32, 128), dtype=int32, numpy=\n",
            "array([[  101,  3531, 11092, ...,     0,     0,     0],\n",
            "       [  101,  5341,  2003, ...,     0,     0,     0],\n",
            "       [  101,  2009,  2003, ...,     0,     0,     0],\n",
            "       ...,\n",
            "       [  101,  2023,  2003, ...,     0,     0,     0],\n",
            "       [  101, 21372,  2003, ...,     0,     0,     0],\n",
            "       [  101,  6047,  1998, ...,     0,     0,     0]], dtype=int32)>, 'input_type_ids': <tf.Tensor: shape=(32, 128), dtype=int32, numpy=\n",
            "array([[0, 0, 0, ..., 0, 0, 0],\n",
            "       [0, 0, 0, ..., 0, 0, 0],\n",
            "       [0, 0, 0, ..., 0, 0, 0],\n",
            "       ...,\n",
            "       [0, 0, 0, ..., 0, 0, 0],\n",
            "       [0, 0, 0, ..., 0, 0, 0],\n",
            "       [0, 0, 0, ..., 0, 0, 0]], dtype=int32)>, 'input_mask': <tf.Tensor: shape=(32, 128), dtype=int32, numpy=\n",
            "array([[1, 1, 1, ..., 0, 0, 0],\n",
            "       [1, 1, 1, ..., 0, 0, 0],\n",
            "       [1, 1, 1, ..., 0, 0, 0],\n",
            "       ...,\n",
            "       [1, 1, 1, ..., 0, 0, 0],\n",
            "       [1, 1, 1, ..., 0, 0, 0],\n",
            "       [1, 1, 1, ..., 0, 0, 0]], dtype=int32)>}\n"
          ]
        }
      ]
    },
    {
      "cell_type": "code",
      "source": [
        "#dbck\n",
        "[(X_train, y_train)] = valid_ds.take(1)\n",
        "print(list(X_train.keys()))\n",
        "for key in list(X_train.keys()):\n",
        "    print(f'A batch of {key}:', X_train[key])"
      ],
      "metadata": {
        "colab": {
          "base_uri": "https://localhost:8080/"
        },
        "id": "BEf8AZL1xQRW",
        "outputId": "1af4592d-9cf0-4958-bcf9-6f59fa7f0f5a"
      },
      "execution_count": null,
      "outputs": [
        {
          "output_type": "stream",
          "name": "stdout",
          "text": [
            "['Fee', 'bin_Fee', 'Description']\n",
            "A batch of Fee: tf.Tensor(\n",
            "[  0   0  30  50   0   0   0 600   0   0   0   0   0   0   0   0 300   0\n",
            "   0   0   0   0   0   0   0   0   0   0   0   0   0   0], shape=(32,), dtype=int64)\n",
            "A batch of bin_Fee: tf.Tensor(\n",
            "[  0   0  30  50   0   0   0 600   0   0   0   0   0   0   0   0 300   0\n",
            "   0   0   0   0   0   0   0   0   0   0   0   0   0   0], shape=(32,), dtype=int64)\n",
            "A batch of Description: {'input_word_ids': <tf.Tensor: shape=(32, 128), dtype=int32, numpy=\n",
            "array([[  101, 10930,  2696, ...,  3161,  1010,   102],\n",
            "       [  101, 23689,  2072, ...,  2033,  2320,   102],\n",
            "       [  101,  2200, 10140, ...,     0,     0,     0],\n",
            "       ...,\n",
            "       [  101,  2181,  1024, ...,     0,     0,     0],\n",
            "       [  101,  1045,  2293, ...,  2196,  2562,   102],\n",
            "       [  101,  2023, 18401, ...,     0,     0,     0]], dtype=int32)>, 'input_type_ids': <tf.Tensor: shape=(32, 128), dtype=int32, numpy=\n",
            "array([[0, 0, 0, ..., 0, 0, 0],\n",
            "       [0, 0, 0, ..., 0, 0, 0],\n",
            "       [0, 0, 0, ..., 0, 0, 0],\n",
            "       ...,\n",
            "       [0, 0, 0, ..., 0, 0, 0],\n",
            "       [0, 0, 0, ..., 0, 0, 0],\n",
            "       [0, 0, 0, ..., 0, 0, 0]], dtype=int32)>, 'input_mask': <tf.Tensor: shape=(32, 128), dtype=int32, numpy=\n",
            "array([[1, 1, 1, ..., 1, 1, 1],\n",
            "       [1, 1, 1, ..., 1, 1, 1],\n",
            "       [1, 1, 1, ..., 0, 0, 0],\n",
            "       ...,\n",
            "       [1, 1, 1, ..., 0, 0, 0],\n",
            "       [1, 1, 1, ..., 1, 1, 1],\n",
            "       [1, 1, 1, ..., 0, 0, 0]], dtype=int32)>}\n"
          ]
        }
      ]
    },
    {
      "cell_type": "markdown",
      "metadata": {
        "id": "-v50jBIuj4gb"
      },
      "source": [
        "## Apply the Keras preprocessing layers\n",
        "\n",
        "The Keras preprocessing layers allow you to build Keras-native input processing pipelines, which can be used as independent preprocessing code in non-Keras workflows, combined directly with Keras models, and exported as part of a Keras SavedModel.\n",
        "\n",
        "In this tutorial, you will use the following four preprocessing layers to demonstrate how to perform preprocessing, structured data encoding, and feature engineering:\n",
        "\n",
        "- `tf.keras.layers.Normalization`: Performs feature-wise normalization of input features.\n",
        "- `tf.keras.layers.CategoryEncoding`: Turns integer categorical features into one-hot, multi-hot, or <a href=\"https://en.wikipedia.org/wiki/Tf%E2%80%93idf/\" class=\"external\">tf-idf</a>\n",
        "dense representations.\n",
        "- `tf.keras.layers.StringLookup`: Turns string categorical values into integer indices.\n",
        "- `tf.keras.layers.IntegerLookup`: Turns integer categorical values into integer indices.\n",
        "\n",
        "You can learn more about the available layers in the [Working with preprocessing layers](https://www.tensorflow.org/guide/keras/preprocessing_layers) guide.\n",
        "\n",
        "- For _numerical features_ of the PetFinder.my mini dataset, you will use a `tf.keras.layers.Normalization` layer to standardize the distribution of the data.\n",
        "- For _categorical features_, such as pet `Type`s (`Dog` and `Cat` strings), you will transform them to multi-hot encoded tensors with `tf.keras.layers.CategoryEncoding`."
      ]
    },
    {
      "cell_type": "code",
      "execution_count": null,
      "metadata": {
        "id": "D6OuEKMMyEq1"
      },
      "outputs": [],
      "source": [
        "# helpers to preprocess cnt, cat, txt, img\n",
        "def get_normalization_layer(df:pd.DataFrame, cnt_col:str):\n",
        "  \"\"\"get the normalization layer for numberical feature\n",
        "  Args:\n",
        "    df: the dataframe containing cnt_col feature\n",
        "    cnt_col: the name of numeric feature/continuous column\n",
        "  Return:\n",
        "   layer: \n",
        "  Examples: \n",
        "    print(df[['PhotoAmt']].head(5))\n",
        "    layer = get_normalization_layer(df=df, cnt_col='PhotoAmt')\n",
        "    layer(df[['PhotoAmt']].head(5))  \n",
        "  \"\"\"\n",
        "  #step0: Prepare a Dataset that only yields the feature.\n",
        "  df = df.copy()\n",
        "  for col in df.columns:\n",
        "    if df[[col]].dtypes[col]==np.dtype('O'):\n",
        "      df[col] = df[col].astype('str')\n",
        "\n",
        "  df[cnt_col] = df[cnt_col].astype('float64')\n",
        "  df_dict = {name: np.array(value) for name, value in df.items()}\n",
        "  df_tfds = tf.data.Dataset.from_tensor_slices(df_dict)\n",
        "  feature_ds = df_tfds.map(lambda x: x[cnt_col])\n",
        "  \n",
        "  #step1: Create a Normalization layer for the feature.\n",
        "  normalizer = layers.Normalization(axis=None) #, name='norm_'+cnt_col\n",
        "  \n",
        "  #step2: Learn the statistics of the data.\n",
        "  normalizer.adapt(feature_ds)\n",
        "\n",
        "  return normalizer\n",
        "\n",
        "\n",
        "def get_multihot_bucketizer_layer(df:pd.DataFrame, cnt_col:str, n_buckets:int=5,encode:str='ordinal', strategy:str='uniform'):\n",
        "    \"\"\"To make a cnt_col embedding model that can bucketize each value of cnt_col and turn bucketized value into corresponding embedding vectors\n",
        "    Args:\n",
        "        df (pd.DataFrame): \n",
        "        cnt_col (str): e.g. 'age', 'timestamp'\n",
        "        n_bucket (int): e.g. 5\n",
        "        encode: {‘onehot’, ‘onehot-dense’, ‘ordinal’}, default=‘ordinal’. Method used to encode the transformed result.REF:https://scikit-learn.org/stable/modules/generated/sklearn.preprocessing.KBinsDiscretizer.html\n",
        "        strategy: {‘uniform’, ‘quantile’, ‘kmeans’}, default='uniform'. Strategy used to define the widths of the bins. REF:https://scikit-learn.org/stable/modules/generated/sklearn.preprocessing.KBinsDiscretizer.html\n",
        "    Returns:\n",
        "        bucketizer (tf.keras.Sequential())\n",
        "    References: \n",
        "        cont features discretization: https://www.tensorflow.org/recommenders/examples/featurization?hl=zh-cn#discretization\n",
        "        calpal_tfrs_featureselection_dev04.ipynb\n",
        "        def cnt_embedding_model(df, user_id, item_id, cnt_col, n_bucket, interactions=None, embedding_dimension=32)\n",
        "\n",
        "    Examples:\n",
        "        print(df[['PhotoAmt']].head(5))\n",
        "        layer = get_multihot_bucketizer_layer(df=df, cnt_col='PhotoAmt')\n",
        "        layer(df[['PhotoAmt']].head(5))\n",
        "    \"\"\"\n",
        "\n",
        "    import tensorflow.keras.backend as K\n",
        "    from tensorflow.keras.layers import Lambda\n",
        "    from sklearn.preprocessing import KBinsDiscretizer\n",
        "\n",
        "    #step0: Prepare a Dataset that only yields the feature.\n",
        "    df = df.copy()\n",
        "    for col in df.columns:\n",
        "      if df[[col]].dtypes[col]==np.dtype('O'):\n",
        "        df[col] = df[col].astype('str')\n",
        "\n",
        "    #repl: df[cnt_col] = df[cnt_col].astype('float64')\n",
        "    df[cnt_col] = np.asarray(df[cnt_col]).astype(np.float64)\n",
        "    data = df[[cnt_col]]\n",
        "    # perform a uniform discretization transform of the dataset\n",
        "    trans = KBinsDiscretizer(n_bins=n_buckets, encode='ordinal', strategy=strategy)\n",
        "    data = trans.fit_transform(data)\n",
        "    df[[cnt_col]] = pd.DataFrame(data)\n",
        "    #repl: df[cnt_col] = df[cnt_col].astype('Int64')\n",
        "    df[cnt_col] = np.asarray(df[cnt_col]).astype(np.int64)\n",
        "    \n",
        "    # Prepare a Dataset that only yields the feature.\n",
        "    df_dict = {name: np.array(value) for name, value in df.items()}\n",
        "    df_tfds = tf.data.Dataset.from_tensor_slices(df_dict)\n",
        "    feature_ds = df_tfds.map(lambda x: {cnt_col: x[cnt_col]})\n",
        "    index = layers.IntegerLookup(max_tokens=n_buckets)\n",
        "    index.adapt(feature_ds.map(lambda x: x[cnt_col]))\n",
        "\n",
        "    # Encode the integer indices.\n",
        "    encoder = layers.CategoryEncoding(num_tokens=index.vocabulary_size()) #, name=cat_col\n",
        "\n",
        "    # Apply multi-hot encoding to the indices. The lambda function captures the\n",
        "    # layer, so you can use them, or include them in the Keras Functional model later.\n",
        "    layer = lambda feature: encoder(index(feature))\n",
        "    return layer\n",
        "\n",
        "def get_embedding_bucketizer_layer(df:pd.DataFrame, cnt_col:str, n_bucket:int=5, embedding_dimension:int=16):\n",
        "    \"\"\"To make a cnt_col embedding model that can bucketize each value of cnt_col and turn bucketized value into corresponding embedding vectors\n",
        "    Args:\n",
        "        df (pd.DataFrame): \n",
        "        cnt_col (str): e.g. 'age', 'timestamp'\n",
        "        n_bucket (int): e.g. 5\n",
        "        embedding_dimension (int default 32): embedding vector dimension \n",
        "    Returns:\n",
        "        bucketizer (tf.keras.Sequential())\n",
        "    References: \n",
        "        Feature Preprocessing:cont features discretization https://www.tensorflow.org/recommenders/examples/featurization?hl=zh-cn#discretization\n",
        "        calpal_tfrs_featureselection_dev04.ipynb\n",
        "        def cnt_embedding_model(df, user_id, item_id, cnt_col, n_bucket, interactions=None, embedding_dimension=32)\n",
        "\n",
        "    Examples:\n",
        "        print(df[['PhotoAmt']].head(5))\n",
        "        layer = get_bucketizer_layer(df=df, cnt_col='PhotoAmt')\n",
        "        layer(df[['PhotoAmt']].head(5))\n",
        "    \"\"\"\n",
        "    import keras.backend as K\n",
        "    from keras.layers import Lambda\n",
        "\n",
        "    #step0: Prepare a Dataset that only yields the feature.\n",
        "    df = df.copy()\n",
        "    for col in df.columns:\n",
        "      if df[[col]].dtypes[col]==np.dtype('O'):\n",
        "        df[col] = df[col].astype('str')\n",
        "\n",
        "    df[cnt_col] = df[cnt_col].astype('float64')\n",
        "    df_dict = {name: np.array(value) for name, value in df.items()}\n",
        "    df_tfds = tf.data.Dataset.from_tensor_slices(df_dict)\n",
        "    feature_ds = df_tfds.map(lambda x: {cnt_col: x[cnt_col]})\n",
        "    cnt_col_ls = np.concatenate(list(feature_ds.map(lambda x: x[cnt_col]).batch(100)))\n",
        "\n",
        "    #step1: prepare a Bucketizer\n",
        "    max_cnt_col = cnt_col_ls.max()\n",
        "    min_cnt_col = cnt_col_ls.min()  \n",
        "    cnt_col_buckets = np.linspace(min_cnt_col, max_cnt_col, num=n_bucket)\n",
        "\n",
        "    #step2: bucketizer learn from data\n",
        "    bucketizer = tf.keras.Sequential([\n",
        "      tf.keras.layers.Discretization(cnt_col_buckets.tolist()),\n",
        "      tf.keras.layers.Embedding(len(cnt_col_buckets) + 1, embedding_dimension),\n",
        "    ])\n",
        "    bucketizer.add(tf.keras.layers.Reshape((-1,embedding_dimension)))\n",
        "    return bucketizer\n",
        "\n",
        "def get_category_encoding_layer(df:pd.DataFrame, cat_col:str, max_tokens:int=None):\n",
        "  \"\"\"get model that can encode categorical column\n",
        "  Args:\n",
        "    df: the dataframe containing cat_col feature\n",
        "    cat_col: the name of categorical feature\n",
        "    max_token: the number of multi-hot encoding\n",
        "  Returns:\n",
        "    layer (tf. model): can be included in the Keras Functional model later.\n",
        "  Examples:\n",
        "    print(df[['Age']].head(5))\n",
        "    test_age_layer = get_category_encoding_layer(df=df, cat_col='Age', max_tokens=5)\n",
        "    test_age_layer(df[['Age']].head(5))\n",
        "\n",
        "    print(df[['Type']].head(5))\n",
        "    test_type_layer = get_category_encoding_layer(df=df, cat_col='Type')\n",
        "    test_type_layer(df[['Type']].head(5))\n",
        "\n",
        "  \"\"\"\n",
        "  df = df.copy()\n",
        "  for col in df.columns:\n",
        "    if df[[col]].dtypes[col]==np.dtype('O'):\n",
        "      df[col] = df[col].astype('str')\n",
        "  if df[[cat_col]].dtypes[cat_col]==np.dtype('int64'): #create a layer that turns integer values into integer indices.\n",
        "    index = layers.IntegerLookup(max_tokens=max_tokens)\n",
        "    df[cat_col] = df[cat_col].astype('int')\n",
        "  else: # Create a layer that turns strings into integer indices.\n",
        "    index = layers.StringLookup(max_tokens=max_tokens)\n",
        "    df[cat_col] = df[cat_col].astype('str')\n",
        "\n",
        "  # Prepare a Dataset that only yields the feature.\n",
        "  df_dict = {name: np.array(value) for name, value in df.items()}\n",
        "  df_tfds = tf.data.Dataset.from_tensor_slices(df_dict)\n",
        "  feature_ds = df_tfds.map(lambda x: {cat_col: x[cat_col]})\n",
        "  \n",
        "  index.adapt(feature_ds.map(lambda x: x[cat_col]))\n",
        "\n",
        "  # Encode the integer indices.\n",
        "  encoder = layers.CategoryEncoding(num_tokens=index.vocabulary_size()) #, name=cat_col\n",
        "\n",
        "  # Apply multi-hot encoding to the indices. The lambda function captures the\n",
        "  # layer, so you can use them, or include them in the Keras Functional model later.\n",
        "  layer = lambda feature: encoder(index(feature))\n",
        "  return layer\n",
        "\n",
        "\n"
      ]
    },
    {
      "cell_type": "markdown",
      "metadata": {
        "id": "twXBSxnT66o8"
      },
      "source": [
        "### Layer to Normalize Numerical Column (cnt_cols)\n",
        "\n",
        "For each numeric feature in the PetFinder.my mini dataset, you will use a `tf.keras.layers.Normalization` layer to standardize the distribution of the data.\n"
      ]
    },
    {
      "cell_type": "code",
      "execution_count": null,
      "metadata": {
        "colab": {
          "base_uri": "https://localhost:8080/"
        },
        "id": "MpKgUDyk69bM",
        "outputId": "8f5dc2c5-ab5f-4715-b7f0-ddd94dffc0ab"
      },
      "outputs": [
        {
          "output_type": "stream",
          "name": "stdout",
          "text": [
            "   Fee\n",
            "0  100\n",
            "1    0\n",
            "2    0\n",
            "3  150\n",
            "4    0\n",
            "tf.Tensor(\n",
            "[[ 0.9502946 ]\n",
            " [-0.29939005]\n",
            " [-0.29939005]\n",
            " [ 1.575137  ]\n",
            " [-0.29939005]], shape=(5, 1), dtype=float32)\n"
          ]
        }
      ],
      "source": [
        "#dbck get_normalization_layer\n",
        "if len(cnt_cols) > 0:\n",
        "    col = cnt_cols[0]  \n",
        "    print(df[[col]].head(5))\n",
        "    layer = get_normalization_layer(df=df, cnt_col=col)\n",
        "    print(layer(df[[col]].head(5)))"
      ]
    },
    {
      "cell_type": "markdown",
      "metadata": {
        "id": "foWY00YBUx9N"
      },
      "source": [
        "Note: If you have many numeric features (hundreds, or more), it is more efficient to concatenate them first and use a single `tf.keras.layers.Normalization` layer."
      ]
    },
    {
      "cell_type": "markdown",
      "metadata": {
        "id": "2EY8094viAX8"
      },
      "source": [
        "### Layer to Bucketize Numerical Column (cnt_cols)\n"
      ]
    },
    {
      "cell_type": "code",
      "execution_count": null,
      "metadata": {
        "colab": {
          "base_uri": "https://localhost:8080/"
        },
        "id": "CPLzFqB7nkX8",
        "outputId": "a4432f40-9704-4090-f5ef-e9d375dfc36a"
      },
      "outputs": [
        {
          "output_type": "stream",
          "name": "stdout",
          "text": [
            "Fee \n",
            "0       9572\n",
            "50       378\n",
            "100      336\n",
            "200      191\n",
            "150      140\n",
            "        ... \n",
            "75         1\n",
            "125        1\n",
            "88         1\n",
            "89         1\n",
            "2000       1\n",
            "Length: 65, dtype: int64\n",
            "WARNING:tensorflow:Layers in a Sequential model should only have a single input tensor, but we receive a <class 'pandas.core.frame.DataFrame'> input:    Fee\n",
            "0  100\n",
            "1    0\n",
            "2    0\n",
            "3  150\n",
            "4    0\n",
            "Consider rewriting this model with the Functional API.\n"
          ]
        },
        {
          "output_type": "stream",
          "name": "stderr",
          "text": [
            "WARNING:tensorflow:Layers in a Sequential model should only have a single input tensor, but we receive a <class 'pandas.core.frame.DataFrame'> input:    Fee\n",
            "0  100\n",
            "1    0\n",
            "2    0\n",
            "3  150\n",
            "4    0\n",
            "Consider rewriting this model with the Functional API.\n"
          ]
        },
        {
          "output_type": "stream",
          "name": "stdout",
          "text": [
            "tf.Tensor(\n",
            "[[[-0.00516696  0.02472962 -0.04728532  0.01543939  0.00386504\n",
            "   -0.04391345  0.04256754  0.00101522]]\n",
            "\n",
            " [[-0.00516696  0.02472962 -0.04728532  0.01543939  0.00386504\n",
            "   -0.04391345  0.04256754  0.00101522]]\n",
            "\n",
            " [[-0.00516696  0.02472962 -0.04728532  0.01543939  0.00386504\n",
            "   -0.04391345  0.04256754  0.00101522]]\n",
            "\n",
            " [[-0.00516696  0.02472962 -0.04728532  0.01543939  0.00386504\n",
            "   -0.04391345  0.04256754  0.00101522]]\n",
            "\n",
            " [[-0.00516696  0.02472962 -0.04728532  0.01543939  0.00386504\n",
            "   -0.04391345  0.04256754  0.00101522]]], shape=(5, 1, 8), dtype=float32)\n"
          ]
        }
      ],
      "source": [
        "#dbck get_embedding_bucketizer_layer\n",
        "if len(cnt_cols) >0:\n",
        "    col = cnt_cols[0] \n",
        "    print(df[[col]].value_counts())\n",
        "    layer = get_embedding_bucketizer_layer(df=df, cnt_col=col, n_bucket=5, embedding_dimension=8)\n",
        "    print(layer(df[[col]].head(5)))"
      ]
    },
    {
      "cell_type": "code",
      "execution_count": null,
      "metadata": {
        "colab": {
          "base_uri": "https://localhost:8080/"
        },
        "id": "jnGAuZVwRgnY",
        "outputId": "073352c1-3073-4ca1-8ca8-8b5a9b171477"
      },
      "outputs": [
        {
          "output_type": "stream",
          "name": "stdout",
          "text": [
            "   PhotoAmt\n",
            "0         1\n",
            "1         2\n",
            "2         7\n",
            "3         8\n",
            "4         3\n",
            "tf.Tensor(\n",
            "[[0. 0. 0. 1.]\n",
            " [1. 0. 0. 0.]\n",
            " [1. 0. 0. 0.]\n",
            " [1. 0. 0. 0.]\n",
            " [1. 0. 0. 0.]], shape=(5, 4), dtype=float32)\n"
          ]
        }
      ],
      "source": [
        "#dbck get_multihot_bucketizer_layer\n",
        "if len(cnt_cols) > 0:\n",
        "    col = cnt_cols[1]\n",
        "    df_ = df[[col]].head()\n",
        "    print(df_)\n",
        "    layer = get_multihot_bucketizer_layer(df=df_, cnt_col=col)\n",
        "    print(layer(df[[col]].head(5)))"
      ]
    },
    {
      "cell_type": "markdown",
      "metadata": {
        "id": "yVD--2WZ7vmh"
      },
      "source": [
        "### Layer to Encode Categorical Column (cat_cols)\n",
        "\n",
        "Pet `Type`s in the dataset are represented as strings—`Dog`s and `Cat`s—which need to be multi-hot encoded before being fed into the model. The `Age` feature \n",
        "\n",
        "Define another new utility function that returns a layer which maps values from a vocabulary to integer indices and multi-hot encodes the features using the `tf.keras.layers.StringLookup`, `tf.keras.layers.IntegerLookup`, and `tf.keras.CategoryEncoding` preprocessing layers:"
      ]
    },
    {
      "cell_type": "markdown",
      "metadata": {
        "id": "7b3DwtTeCPjX"
      },
      "source": [
        "Test the `get_category_encoding_layer` function by calling it on pet `'Type'` features to turn them into multi-hot encoded tensors:"
      ]
    },
    {
      "cell_type": "code",
      "execution_count": null,
      "metadata": {
        "id": "X2t2ff9K8PcT",
        "colab": {
          "base_uri": "https://localhost:8080/"
        },
        "outputId": "b7daf223-e9cb-446e-977c-f8e5738868b1"
      },
      "outputs": [
        {
          "output_type": "stream",
          "name": "stdout",
          "text": [
            "     Color2\n",
            "0     White\n",
            "1     Brown\n",
            "2     White\n",
            "3     Brown\n",
            "4  No Color\n",
            "tf.Tensor(\n",
            "[[0. 0. 1. 0. 0. 0. 0. 0.]\n",
            " [0. 0. 0. 1. 0. 0. 0. 0.]\n",
            " [0. 0. 1. 0. 0. 0. 0. 0.]\n",
            " [0. 0. 0. 1. 0. 0. 0. 0.]\n",
            " [0. 1. 0. 0. 0. 0. 0. 0.]], shape=(5, 8), dtype=float32)\n"
          ]
        }
      ],
      "source": [
        "#dbck get_category_encoding_layer on 'Type'\n",
        "if len(cat_cols)>0:\n",
        "    col = cat_cols[0]\n",
        "    print(df[[col]].head(5))\n",
        "    test_type_layer = get_category_encoding_layer(df=df, cat_col=col)\n",
        "    print(test_type_layer(df[[col]].head(5)))"
      ]
    },
    {
      "cell_type": "markdown",
      "metadata": {
        "id": "j6eDongw8knz"
      },
      "source": [
        "Repeat the process on the pet `'Age'` features:"
      ]
    },
    {
      "cell_type": "code",
      "execution_count": null,
      "metadata": {
        "id": "7FjBioQ38oNE",
        "colab": {
          "base_uri": "https://localhost:8080/"
        },
        "outputId": "b993dd49-bcef-40e1-f05a-d9c018df6595"
      },
      "outputs": [
        {
          "output_type": "stream",
          "name": "stdout",
          "text": [
            "  Color1\n",
            "0  Black\n",
            "1  Black\n",
            "2  Brown\n",
            "3  Black\n",
            "4  Black\n",
            "tf.Tensor(\n",
            "[[0. 1. 0. 0. 0.]\n",
            " [0. 1. 0. 0. 0.]\n",
            " [0. 0. 1. 0. 0.]\n",
            " [0. 1. 0. 0. 0.]\n",
            " [0. 1. 0. 0. 0.]], shape=(5, 5), dtype=float32)\n"
          ]
        }
      ],
      "source": [
        "#dbck get_category_encoding_layer on another cat col\n",
        "\n",
        "if len(cat_cols)>0:\n",
        "    col = cat_cols[-1]\n",
        "    print(df[[col]].head(5))\n",
        "    test_age_layer = get_category_encoding_layer(df=df, cat_col=col, max_tokens=5)\n",
        "    print(test_age_layer(df[[col]].head(5)))"
      ]
    },
    {
      "cell_type": "markdown",
      "metadata": {
        "id": "tYRNa7Xt9Hv5"
      },
      "source": [
        "### Layer to Encode Text Column Part1 LSTM\n",
        "\n"
      ]
    },
    {
      "cell_type": "code",
      "execution_count": null,
      "metadata": {
        "id": "9T1G3kss6SSs"
      },
      "outputs": [],
      "source": [
        "def get_text_encoding_layer(df:pd.DataFrame, txt_col:str, max_tokens:int=10000, embedding_dimension:int=32, trainable:bool=True):\n",
        "    \"\"\"To make a txt_col embedding model that turn each value of cnt_col into its corresponding embedding vectors\n",
        "    Args:\n",
        "        df (pd.DataFrame): e.g. df\n",
        "        txt_col (str): e.g. 'title', 'description'\n",
        "        embedding_dimension (int default 32): embedding vector dimension\n",
        "        trainable (bool default True): to allow (or not) the weights & bias being updated during training\n",
        "    Returns:\n",
        "        txt_emb_model (tf.keras.Sequential())\n",
        "\n",
        "    Example:\n",
        "        txt_emb_model = get_text_encoding_layer(df, txt_col='description')\n",
        "        txt_emb_model(['Alex/Paul 1:1', 'Chase/Danielle weekly meeting', 'Elva/Paul biweekly meeting'])\n",
        "    \"\"\"\n",
        "    #step0: prepare data\n",
        "    df = df.copy()\n",
        "    for col in df.columns:\n",
        "      if df[[col]].dtypes[col]==np.dtype('O'):\n",
        "        df[col] = df[col].astype('str')\n",
        "    df_dict = {name: np.array(value) for name, value in df.items()}\n",
        "    df_tfds = tf.data.Dataset.from_tensor_slices(df_dict)\n",
        "    feature_ds = df_tfds.map(lambda x: x[txt_col])\n",
        "\n",
        "    #step1: text tokenization (splitting into constituent words or word-pieces),\n",
        "    txt_vectorizer = tf.keras.layers.TextVectorization(max_tokens)\n",
        "\n",
        "    #step2: vocabulary learning\n",
        "    txt_vectorizer.adapt(feature_ds)\n",
        "\n",
        "    #step3: embedding.\n",
        "    txt_emb_model = tf.keras.Sequential([\n",
        "          txt_vectorizer,\n",
        "          tf.keras.layers.Embedding(input_dim=len(txt_vectorizer.get_vocabulary()), \n",
        "                                    output_dim=embedding_dimension, \n",
        "                                    mask_zero=True, #Use masking to handle the variable sequence lengths\n",
        "                                    trainable=trainable #set trainable=False to prevent the weights from being updated during training\n",
        "                                    ),\n",
        "\n",
        "          # We average the embedding of individual words to get one embedding vector per title.\n",
        "          # tf.keras.layers.GlobalAveragePooling1D(),\n",
        "          tf.keras.layers.Bidirectional(tf.keras.layers.LSTM(embedding_dimension)),\n",
        "          tf.keras.layers.Dense(embedding_dimension, activation='relu'),\n",
        "        ])#, name = txt_col\n",
        "   \n",
        "    return txt_emb_model \n"
      ]
    },
    {
      "cell_type": "code",
      "execution_count": null,
      "metadata": {
        "colab": {
          "base_uri": "https://localhost:8080/"
        },
        "id": "v2vE4Cw49XUe",
        "outputId": "5886e881-368d-4bfe-a606-9ac6905b1cab"
      },
      "outputs": [
        {
          "output_type": "stream",
          "name": "stdout",
          "text": [
            "                                         Description\n",
            "0  Nibble is a 3+ month old ball of cuteness. He ...\n",
            "1  I just found it alone yesterday near my apartm...\n",
            "2  Their pregnant mother was dumped by her irresp...\n",
            "3  Good guard dog, very alert, active, obedience ...\n",
            "4  This handsome yet cute boy is up for adoption....\n",
            "WARNING:tensorflow:Layers in a Sequential model should only have a single input tensor, but we receive a <class 'pandas.core.frame.DataFrame'> input:                                          Description\n",
            "0  Nibble is a 3+ month old ball of cuteness. He ...\n",
            "1  I just found it alone yesterday near my apartm...\n",
            "2  Their pregnant mother was dumped by her irresp...\n",
            "3  Good guard dog, very alert, active, obedience ...\n",
            "4  This handsome yet cute boy is up for adoption....\n",
            "Consider rewriting this model with the Functional API.\n"
          ]
        },
        {
          "output_type": "stream",
          "name": "stderr",
          "text": [
            "WARNING:tensorflow:Layers in a Sequential model should only have a single input tensor, but we receive a <class 'pandas.core.frame.DataFrame'> input:                                          Description\n",
            "0  Nibble is a 3+ month old ball of cuteness. He ...\n",
            "1  I just found it alone yesterday near my apartm...\n",
            "2  Their pregnant mother was dumped by her irresp...\n",
            "3  Good guard dog, very alert, active, obedience ...\n",
            "4  This handsome yet cute boy is up for adoption....\n",
            "Consider rewriting this model with the Functional API.\n"
          ]
        },
        {
          "output_type": "stream",
          "name": "stdout",
          "text": [
            "tf.Tensor(\n",
            "[[0.         0.00102407 0.00375876 0.00955579 0.         0.\n",
            "  0.         0.01545816]\n",
            " [0.00409228 0.0046881  0.00729962 0.00374286 0.00597302 0.\n",
            "  0.         0.00685494]\n",
            " [0.00485093 0.         0.         0.         0.         0.00514315\n",
            "  0.00174616 0.        ]\n",
            " [0.00488503 0.         0.         0.02020882 0.00387914 0.00316567\n",
            "  0.         0.00805816]\n",
            " [0.         0.00201096 0.00146351 0.         0.00650567 0.\n",
            "  0.00615142 0.        ]], shape=(5, 8), dtype=float32)\n"
          ]
        }
      ],
      "source": [
        "#dbck\n",
        "if len(txt_cols)>0:\n",
        "    col = txt_cols[0]\n",
        "    print(df[[col]].head(5))\n",
        "    txt_emb_model = get_text_encoding_layer(df=train_df, txt_col=col, max_tokens=10000, embedding_dimension=8, trainable=True)\n",
        "    print(txt_emb_model(df[[col]].head(5)))"
      ]
    },
    {
      "cell_type": "markdown",
      "metadata": {
        "id": "Gj2XZrhpHPHU"
      },
      "source": [
        "### Layer to Encode Text column Part2: pretrained Bert\n",
        "\n",
        "Ref: text preprocessing code mostly comes from [this tutorial](https://www.tensorflow.org/text/tutorials/bert_glue) "
      ]
    },
    {
      "cell_type": "code",
      "source": [
        "def project_embeddings(embeddings, num_projection_layers, projection_dims, dropout_rate):\n",
        "    projected_embeddings = tf.keras.layers.Dense(units=projection_dims)(embeddings)\n",
        "    for _ in range(num_projection_layers):\n",
        "        x = tf.nn.gelu(projected_embeddings)\n",
        "        x = tf.keras.layers.Dense(projection_dims)(x)\n",
        "        x = tf.keras.layers.Dropout(dropout_rate)(x)\n",
        "        x = tf.keras.layers.Add()([projected_embeddings, x])\n",
        "        projected_embeddings = tf.keras.layers.LayerNormalization()(x)\n",
        "    return projected_embeddings\n",
        "\n",
        "def create_text_encoder(num_projection_layers, projection_dims, dropout_rate, flag_trainable, name):\n",
        "    # Load the pre-trained BERT model to be used as the base encoder.\n",
        "    bert = hub.KerasLayer(bert_model_path, name=\"bert\",)\n",
        "    # Set the trainability of the base encoder.\n",
        "    bert.trainable = flag_trainable\n",
        "\n",
        "    # Receive the text as inputs.\n",
        "    bert_input_features = [\"input_type_ids\", \"input_mask\", \"input_word_ids\"]\n",
        "    inputs = {\n",
        "        feature: tf.keras.Input(shape=(128,), dtype=tf.int32, name=name+'_'+feature)\n",
        "        for feature in bert_input_features\n",
        "    }\n",
        "\n",
        "    # Generate embeddings for the preprocessed text using the BERT model.\n",
        "    embeddings = bert(inputs)[\"pooled_output\"]\n",
        "\n",
        "    # Project the embeddings produced by the model.\n",
        "    outputs = project_embeddings(\n",
        "        embeddings, num_projection_layers, projection_dims, dropout_rate\n",
        "    )\n",
        "    # Create the text encoder model.\n",
        "    return tf.keras.Model(inputs, outputs, name=name)\n",
        "\n",
        "#STEP1: prep bert model input\n",
        "def get_bert_inputs(txt_cols, seq_length=128):\n",
        "    \"\"\"Returns Model that map text features to BERT inputs.\n",
        "    NOTE: to be consistent with other preprocessing layer, change make_bert_preprocessing_model() to get_bert_text_encoding_layer()\n",
        "    Args:\n",
        "      txt_col: the name of string-valued features.\n",
        "      seq_length: An integer that defines the sequence length of BERT inputs.\n",
        "\n",
        "    Returns:\n",
        "      A Keras Model that can be called on a list or dict of string Tensors\n",
        "      (with the order or names, resp., given by txt_cols) and\n",
        "      returns a dict of tensors for input to BERT.\n",
        "    Ref: https://keras.io/examples/nlp/multimodal_entailment/\n",
        "\n",
        "    \"\"\"\n",
        "    #step1: inputs adapt to feature_ds\n",
        "\n",
        "    # Define TF Hub paths to the BERT encoder and its preprocessor\n",
        "    bert_model_path = (\n",
        "        \"https://tfhub.dev/tensorflow/small_bert/bert_en_uncased_L-2_H-256_A-4/1\"\n",
        "    )\n",
        "    bert_preprocess_path = \"https://tfhub.dev/tensorflow/bert_en_uncased_preprocess/3\"\n",
        "\n",
        "\n",
        "\n",
        "    inputs = [tf.keras.layers.Input(shape=(), dtype=tf.string, name=col) for col in txt_cols]\n",
        "    #inputs = [tf.keras.layers.Input(shape=(), dtype=tf.string, name=txt_col)]\n",
        "\n",
        "    # Tokenize the text to word pieces.\n",
        "    bert_preprocess = hub.load(bert_preprocess_path)\n",
        "    tokenizer = hub.KerasLayer(bert_preprocess.tokenize, name=\"tokenizer\")\n",
        "    segments = [tokenizer(s) for s in inputs]\n",
        "\n",
        "    # Optional: Trim segments in a smart way to fit seq_length.\n",
        "    # Simple cases (like this example) can skip this step and let\n",
        "    # the next step apply a default truncation to approximately equal lengths.\n",
        "    truncated_segments = segments\n",
        "\n",
        "    # Pack inputs. The details (start/end token ids, dict of output tensors)\n",
        "    # are model-dependent, so this gets loaded from the SavedModel.\n",
        "    packer = hub.KerasLayer(\n",
        "        bert_preprocess.bert_pack_inputs,\n",
        "        arguments={'seq_length' : seq_length},\n",
        "        name=\"packer\",\n",
        "    )\n",
        "    outputs = packer(truncated_segments)\n",
        "    return tf.keras.Model(inputs, outputs)\n",
        "#STEP2: prep bert embs model\n",
        "def get_bert_embs(num_projection_layers:int=1, projection_dims:int=32, dropout_rate:float=.3, flag_trainable:bool=True):\n",
        "    \"\"\"Returns Model that map BERT inputs to txt_cols embeddings.\n",
        "    Args:\n",
        "      num_projection_layers:int=1, projection_dims:int=32, dropout_rate:float=.3, \n",
        "      flag_trainable:bool=True: set to True when training the model, set to False in model serving\n",
        "    Returns:\n",
        "      A Keras Model \n",
        "    Ref: https://keras.io/examples/nlp/multimodal_entailment/\n",
        "\n",
        "    \"\"\"\n",
        "    bert_model_path = (\n",
        "        \"https://tfhub.dev/tensorflow/small_bert/bert_en_uncased_L-2_H-256_A-4/1\"\n",
        "    )\n",
        "    bert_preprocess_path = \"https://tfhub.dev/tensorflow/bert_en_uncased_preprocess/3\"\n",
        "\n",
        "    # Load the pre-trained BERT model to be used as the base encoder.\n",
        "    bert = hub.KerasLayer(bert_model_path, name=\"bert\",)\n",
        "    # Set the trainability of the base encoder.\n",
        "    bert.trainable = flag_trainable\n",
        "\n",
        "    # Receive the text as inputs.\n",
        "    bert_input_features = [\"input_type_ids\", \"input_mask\", \"input_word_ids\"]\n",
        "    inputs = {\n",
        "        feature: tf.keras.Input(shape=(128,), dtype=tf.int32, name=feature)\n",
        "        for feature in bert_input_features\n",
        "    }\n",
        "\n",
        "    # Generate embeddings for the preprocessed text using the BERT model.\n",
        "    embeddings = bert(inputs)[\"pooled_output\"]\n",
        "\n",
        "    # Project the embeddings produced by the model.\n",
        "    outputs = project_embeddings(\n",
        "        embeddings, num_projection_layers, projection_dims, dropout_rate\n",
        "    )\n",
        "    # Create the text encoder model for txt_cols\n",
        "    return tf.keras.Model(inputs, outputs, name=\"txt_cols_encoder\")\n",
        "\n",
        "#STEP3: combine\n",
        "def get_bert_text_embeddings(df:pd.DataFrame=train_df, txt_cols:list=txt_cols, seq_length:int=128, num_projection_layers:int=3, projection_dims:int=32, dropout_rate:float=.3, flag_trainable:bool=True):\n",
        "    \"\"\"get bert text embedding layer by combing get_bert_inputs() and bert_embs_model()\n",
        "    Args:\n",
        "      df: e.g. train_df\n",
        "      txt_cols: a list of text feature names\n",
        "      seq_length:int=128, num_projection_layers:int=3, projection_dims:int=32, dropout_rate:float=.3, flag_trainable:bool=True\n",
        "    Returns:\n",
        "      bert_txt_embs: tf tensor\n",
        "    Example:\n",
        "      bert_txt_embs = get_bert_text_encoding_layer(df=train_df.head(), txt_cols=txt_cols, seq_length=128, num_projection_layers=3, projection_dims=32, dropout_rate=.3, flag_trainable=True)\n",
        "    \n",
        "    \"\"\"\n",
        "    bert_inputs_model = get_bert_inputs(txt_cols, seq_length)\n",
        "    bert_embs_model = get_bert_embs(num_projection_layers, projection_dims, dropout_rate, flag_trainable)\n",
        "\n",
        "    bert_inputs = bert_inputs_model([df[txt_col].head(5) for txt_col in txt_cols])\n",
        "    bert_txt_embs = bert_embs_model(bert_inputs)\n",
        "    return bert_txt_embs\n",
        "\n",
        "#dbck get_bert_text_embeddings()\n",
        "if len(txt_cols)>0:\n",
        "    print(train_df.head()[txt_cols])\n",
        "    bert_txt_embs = get_bert_text_embeddings(df=train_df.head(), txt_cols=txt_cols, seq_length=128, num_projection_layers=3, projection_dims=32, dropout_rate=.3, flag_trainable=True)\n",
        "    print(bert_txt_embs)\n"
      ],
      "metadata": {
        "colab": {
          "base_uri": "https://localhost:8080/"
        },
        "id": "mSd7ybWVmkGM",
        "outputId": "8498669a-edb7-41d5-8aa6-72b6bc8c9d2b"
      },
      "execution_count": null,
      "outputs": [
        {
          "output_type": "stream",
          "name": "stdout",
          "text": [
            "                                             Description\n",
            "4537   Found Shwun stuck on a divider on Federal High...\n",
            "6813                                        For Adoption\n",
            "6201   I found this dog on the streets looking so poo...\n",
            "10450  I need to re-home my one year old female Mini ...\n",
            "1136   Takes Instructions Easily. Self-trained guard ...\n",
            "tf.Tensor(\n",
            "[[ 1.4506308e+00 -7.8459138e-01  1.5113978e+00 -1.1529197e-02\n",
            "  -1.2817596e+00 -5.1569504e-01  1.1527027e-01  8.8489681e-02\n",
            "   4.7420740e-01  5.5571711e-01 -4.8782307e-01  1.0293367e+00\n",
            "   1.0875751e+00  1.3215418e+00 -2.9446173e-01 -1.8217410e+00\n",
            "   1.2777865e-01 -1.0985661e+00  5.1503085e-02  8.2309771e-01\n",
            "  -1.0704083e-01  2.9260108e-01 -3.3509991e-01 -5.6774914e-02\n",
            "   1.0783299e+00 -1.9795514e+00  6.4633352e-01 -6.6628820e-01\n",
            "   1.2584177e+00 -1.7965417e+00  1.0365371e+00 -1.7113012e+00]\n",
            " [ 1.0923220e+00  9.5930234e-02  1.7521185e+00  1.0700010e+00\n",
            "  -9.7148150e-01 -1.3231381e+00  1.0172565e+00 -1.2042448e-01\n",
            "   8.6812800e-01 -2.4862204e-01 -1.0987409e+00  1.8326808e+00\n",
            "   8.7205505e-01  5.5592132e-01 -1.4850265e-01 -2.3986084e+00\n",
            "  -4.5442221e-01 -3.1125128e-01 -1.3590083e-01  5.2397579e-01\n",
            "   8.8110614e-01 -1.4318820e+00 -7.1933943e-01 -1.6887259e-01\n",
            "   1.3780763e+00 -1.0141358e+00  9.8975229e-01 -7.0759118e-02\n",
            "   3.2775635e-01 -7.2926039e-01 -6.1650020e-01 -1.2952393e+00]\n",
            " [ 9.1251719e-01 -1.2936064e+00  1.6631873e+00 -2.1473335e-02\n",
            "  -1.3597858e+00  3.0355778e-01 -6.0714430e-01  3.9212856e-01\n",
            "   2.4661714e-01  6.7532063e-01 -4.0514794e-01  1.2260514e+00\n",
            "   9.6119440e-01  1.7902026e+00  1.4116191e-03 -2.0419750e+00\n",
            "   5.1323354e-01 -1.3618488e+00 -8.3647621e-01  4.4332454e-01\n",
            "  -8.7190397e-02  5.9809852e-01 -6.0105205e-01 -3.0516371e-01\n",
            "   8.3717859e-01 -1.6182500e+00  4.9257287e-01 -1.0254157e+00\n",
            "   1.5295192e+00 -1.4164236e+00  8.6289948e-01 -4.6806172e-01]\n",
            " [ 1.0503690e+00 -1.2812419e+00  1.6803870e+00 -1.5195054e-01\n",
            "  -1.2181352e+00  3.5647577e-01 -4.5393768e-01 -5.4304294e-02\n",
            "   2.0416479e-01  1.3388877e-01 -1.0811947e-01  1.2729543e+00\n",
            "   1.4452038e+00  1.2133958e+00  8.3956592e-02 -2.4101791e+00\n",
            "   4.4447303e-01 -3.9221513e-01 -3.2767144e-01  7.0008767e-01\n",
            "   2.1490435e-01 -8.7737918e-01 -2.2638771e-01 -1.7763692e-01\n",
            "   2.0036288e-01 -2.2322466e+00  3.1622881e-01 -5.8419049e-01\n",
            "   2.0191817e+00 -1.0067450e+00  8.1737292e-01 -6.5106547e-01]\n",
            " [ 7.0020771e-01 -5.8764815e-01  1.0063814e+00 -9.6054828e-01\n",
            "  -9.1266471e-01 -5.4003399e-02 -3.5571519e-01  2.5667685e-01\n",
            "   3.1306610e-01  3.0461150e-01  3.7943125e-01  1.3415858e+00\n",
            "   7.7241641e-01  1.2189676e+00  2.0827001e-01 -2.5022781e+00\n",
            "   1.7684879e-02 -4.7184119e-01 -9.1904503e-01  9.2207080e-01\n",
            "   5.2137470e-01  1.3456321e-01 -4.0150095e-02 -6.3908190e-01\n",
            "   3.0622667e-01 -2.2721624e+00 -2.5282148e-02 -6.5094775e-01\n",
            "   2.0533247e+00 -1.7738254e+00  1.3723482e+00  3.3598685e-01]], shape=(5, 32), dtype=float32)\n"
          ]
        }
      ]
    },
    {
      "cell_type": "markdown",
      "source": [
        "### Layer to Encode Image column"
      ],
      "metadata": {
        "id": "2UQF2MzfOP18"
      }
    },
    {
      "cell_type": "code",
      "source": [
        "def create_image_encoder(num_projection_layers, projection_dims, dropout_rate, trainable=False, img_cols=img_cols):\n",
        "    # Load the pre-trained ResNet50V2 model to be used as the base encoder.\n",
        "    resnet_v2 = tf.keras.applications.ResNet50V2(\n",
        "        include_top=False, weights=\"imagenet\", pooling=\"avg\"\n",
        "    )\n",
        "    # Set the trainability of the base encoder.\n",
        "    for layer in resnet_v2.layers:\n",
        "        layer.trainable = trainable\n",
        "\n",
        "    # Receive the images as inputs.\n",
        "    image_ls = [tf.keras.Input(shape=(128, 128, 3), name=col) for col in img_cols]\n",
        "    #image_2 = keras.Input(shape=(128, 128, 3), name=\"image_2\")\n",
        "\n",
        "    # Preprocess the input image.\n",
        "    preprocessed_ls = [tf.keras.applications.resnet_v2.preprocess_input(image) for image in image_ls]\n",
        "    #preprocessed_2 = keras.applications.resnet_v2.preprocess_input(image_2)\n",
        "\n",
        "    # Generate the embeddings for the images using the resnet_v2 model\n",
        "    # concatenate them.\n",
        "    embeddings_ls = [resnet_v2(preprocessed) for preprocessed in preprocessed_ls]\n",
        "    #embeddings_2 = resnet_v2(preprocessed_2)\n",
        "    embeddings = tf.keras.layers.Concatenate()(embeddings_ls)\n",
        "\n",
        "    # Project the embeddings produced by the model.\n",
        "    outputs = project_embeddings(\n",
        "        embeddings, num_projection_layers, projection_dims, dropout_rate\n",
        "    )\n",
        "    # Create the vision encoder model.\n",
        "    return tf.keras.Model(image_ls, outputs, name=\"image_encoder\")\n"
      ],
      "metadata": {
        "id": "BA3vIm5aQgjU"
      },
      "execution_count": null,
      "outputs": []
    },
    {
      "cell_type": "code",
      "source": [
        ""
      ],
      "metadata": {
        "id": "6dKTXWAcQgmn"
      },
      "execution_count": null,
      "outputs": []
    },
    {
      "cell_type": "markdown",
      "metadata": {
        "id": "SiE0glOPkMyh"
      },
      "source": [
        "## Preprocess selected features to train the model on\n",
        "\n",
        "You have learned how to use several types of Keras preprocessing layers. Next, you will:\n",
        "\n",
        "- Apply the preprocessing utility functions defined earlier on 13 numerical, categorical and text features from the PetFinder.my mini dataset.\n",
        "- Add all the feature inputs to a list.\n",
        "\n",
        "As mentioned in the beginning, to train the model, you will use the PetFinder.my mini dataset's text (`'Desciription'`), numerical (`'PhotoAmt'`, `'Fee'`) and categorical (`'Age'`, `'Type'`, `'Color1'`, `'Color2'`, `'Gender'`, `'MaturitySize'`, `'FurLength'`, `'Vaccinated'`, `'Sterilized'`, `'Health'`, `'Breed1'`) features.\n",
        "\n",
        "Note: If your aim is to build an accurate model, try a larger dataset of your own, and think carefully about which features are the most meaningful to include, and how they should be represented."
      ]
    },
    {
      "cell_type": "markdown",
      "metadata": {
        "id": "5bIGNYN2V7iR"
      },
      "source": [
        "### processing numerical features\n",
        "\n",
        "Normalize the numerical features (the number of pet photos and the adoption fee), and add them to one list of inputs called `encoded_features`:"
      ]
    },
    {
      "cell_type": "code",
      "execution_count": null,
      "metadata": {
        "id": "Q3RBa51VkaAn",
        "colab": {
          "base_uri": "https://localhost:8080/",
          "height": 235
        },
        "outputId": "65080da8-8c99-4cfe-a111-ad7ea37359c5"
      },
      "outputs": [
        {
          "output_type": "error",
          "ename": "NameError",
          "evalue": "ignored",
          "traceback": [
            "\u001b[0;31m---------------------------------------------------------------------------\u001b[0m",
            "\u001b[0;31mNameError\u001b[0m                                 Traceback (most recent call last)",
            "\u001b[0;32m<ipython-input-20-6d344a1468e9>\u001b[0m in \u001b[0;36m<module>\u001b[0;34m()\u001b[0m\n\u001b[1;32m     13\u001b[0m   \u001b[0mnumeric_col\u001b[0m \u001b[0;34m=\u001b[0m \u001b[0mtf\u001b[0m\u001b[0;34m.\u001b[0m\u001b[0mkeras\u001b[0m\u001b[0;34m.\u001b[0m\u001b[0mInput\u001b[0m\u001b[0;34m(\u001b[0m\u001b[0mshape\u001b[0m\u001b[0;34m=\u001b[0m\u001b[0;34m(\u001b[0m\u001b[0;36m1\u001b[0m\u001b[0;34m,\u001b[0m\u001b[0;34m)\u001b[0m\u001b[0;34m,\u001b[0m \u001b[0mname\u001b[0m\u001b[0;34m=\u001b[0m\u001b[0mcol\u001b[0m\u001b[0;34m)\u001b[0m\u001b[0;34m\u001b[0m\u001b[0;34m\u001b[0m\u001b[0m\n\u001b[1;32m     14\u001b[0m   \u001b[0mnorm_cnt_inputs\u001b[0m\u001b[0;34m.\u001b[0m\u001b[0mappend\u001b[0m\u001b[0;34m(\u001b[0m\u001b[0mnumeric_col\u001b[0m\u001b[0;34m)\u001b[0m\u001b[0;34m\u001b[0m\u001b[0;34m\u001b[0m\u001b[0m\n\u001b[0;32m---> 15\u001b[0;31m   \u001b[0mnormalization_layer\u001b[0m \u001b[0;34m=\u001b[0m \u001b[0mget_normalization_layer\u001b[0m\u001b[0;34m(\u001b[0m\u001b[0mtrain_df\u001b[0m\u001b[0;34m,\u001b[0m \u001b[0mcol\u001b[0m\u001b[0;34m)\u001b[0m\u001b[0;34m\u001b[0m\u001b[0;34m\u001b[0m\u001b[0m\n\u001b[0m\u001b[1;32m     16\u001b[0m   \u001b[0mencoded_numeric_col\u001b[0m \u001b[0;34m=\u001b[0m \u001b[0mnormalization_layer\u001b[0m\u001b[0;34m(\u001b[0m\u001b[0mnumeric_col\u001b[0m\u001b[0;34m)\u001b[0m\u001b[0;34m\u001b[0m\u001b[0;34m\u001b[0m\u001b[0m\n\u001b[1;32m     17\u001b[0m   \u001b[0mnorm_cnt_embs\u001b[0m\u001b[0;34m.\u001b[0m\u001b[0mappend\u001b[0m\u001b[0;34m(\u001b[0m\u001b[0mencoded_numeric_col\u001b[0m\u001b[0;34m)\u001b[0m\u001b[0;34m\u001b[0m\u001b[0;34m\u001b[0m\u001b[0m\n",
            "\u001b[0;31mNameError\u001b[0m: name 'get_normalization_layer' is not defined"
          ]
        }
      ],
      "source": [
        "# init inputs for functional API model: variables name\n",
        "norm_cnt_inputs = []\n",
        "\n",
        "# init encoded_features: variables value\n",
        "norm_cnt_embs = []\n",
        "#cnt_cols = ['PhotoAmt', 'Fee'] # Numerical features.\n",
        "# set para\n",
        "embedding_dimension= 8\n",
        "flag_cnt_multihot_bucketizetize = True\n",
        "n_buckets = 5\n",
        "\n",
        "for col in cnt_cols:\n",
        "  numeric_col = tf.keras.Input(shape=(1,), name=col)\n",
        "  norm_cnt_inputs.append(numeric_col)\n",
        "  normalization_layer = get_normalization_layer(train_df, col)\n",
        "  encoded_numeric_col = normalization_layer(numeric_col)\n",
        "  norm_cnt_embs.append(encoded_numeric_col)\n",
        "\n",
        "\n",
        "# init inputs for functional API model: variables name\n",
        "bin_cnt_inputs = []\n",
        "# init encoded_features: variables value\n",
        "bin_cnt_embs = []\n",
        "flag_cnt_multihot_bucketize=True\n",
        "for col in cnt_cols:\n",
        "  cnt_col_input = tf.keras.Input(shape=(1,), name='bin_'+col)\n",
        "  bin_cnt_inputs.append(cnt_col_input)\n",
        "  if flag_cnt_multihot_bucketize:\n",
        "    bucketizer_layer = get_multihot_bucketizer_layer(train_df, col, n_buckets = n_buckets)\n",
        "    bucketized_cnt_col = bucketizer_layer(cnt_col_input)\n",
        "  else:  \n",
        "    bucketizer_layer = get_embedding_bucketizer_layer(train_df, col, embedding_dimension=embedding_dimension)\n",
        "    bucketized_cnt_col = tf.reshape(bucketizer_layer(cnt_col_input), (-1, embedding_dimension))#, name='bin_'+col\n",
        "  #new_bucketized_numeric_col =  tf.identity(bucketized_numeric_col, name='bin_'+col) \n",
        "  bin_cnt_embs.append(bucketized_cnt_col)"
      ]
    },
    {
      "cell_type": "code",
      "execution_count": null,
      "metadata": {
        "colab": {
          "base_uri": "https://localhost:8080/"
        },
        "id": "zAzJ3Y37g0gG",
        "outputId": "a4bfab46-83a3-4ff4-e513-33a9d818ec28"
      },
      "outputs": [
        {
          "output_type": "execute_result",
          "data": {
            "text/plain": [
              "([<KerasTensor: shape=(None, 1) dtype=float32 (created by layer 'id_1')>,\n",
              "  <KerasTensor: shape=(None, 1) dtype=float32 (created by layer 'id_2')>],\n",
              " [<KerasTensor: shape=(None, 1) dtype=float32 (created by layer 'bin_id_1')>,\n",
              "  <KerasTensor: shape=(None, 1) dtype=float32 (created by layer 'bin_id_2')>],\n",
              " [<KerasTensor: shape=(None, 1) dtype=float32 (created by layer 'normalization_3')>,\n",
              "  <KerasTensor: shape=(None, 1) dtype=float32 (created by layer 'normalization_4')>],\n",
              " [<KerasTensor: shape=(None, 5) dtype=float32 (created by layer 'category_encoding_3')>,\n",
              "  <KerasTensor: shape=(None, 5) dtype=float32 (created by layer 'category_encoding_4')>])"
            ]
          },
          "metadata": {},
          "execution_count": 38
        }
      ],
      "source": [
        "#dbck\n",
        "norm_cnt_inputs, bin_cnt_inputs,  norm_cnt_embs, bin_cnt_embs"
      ]
    },
    {
      "cell_type": "markdown",
      "metadata": {
        "id": "qVcUAFd6bvlT"
      },
      "source": [
        "### processing categorical features\n",
        "\n",
        "Turn the integer categorical values from the dataset (the pet age) into integer indices, perform multi-hot encoding, and add the resulting feature inputs to `encoded_features`:"
      ]
    },
    {
      "cell_type": "code",
      "execution_count": null,
      "metadata": {
        "id": "1FOMGfZflhoA"
      },
      "outputs": [],
      "source": [
        "#int_cat_cols = ['Age']\n",
        "\n",
        "# init inputs for functional API model: variables name\n",
        "int_cat_inputs = []\n",
        "# init encoded_features: variables value\n",
        "int_cat_embs = []\n",
        "\n",
        "for col in int_cat_cols:\n",
        "  int_cat_col = tf.keras.Input(shape=(1,), name=col, dtype='int64')\n",
        "  encoding_layer = get_category_encoding_layer(\n",
        "                                               df=train_df,\n",
        "                                               cat_col=col,\n",
        "                                               max_tokens=5)\n",
        "  encoded_int_cat_col = encoding_layer(int_cat_col)\n",
        "  int_cat_inputs.append(int_cat_col)\n",
        "  int_cat_embs.append(encoded_int_cat_col)"
      ]
    },
    {
      "cell_type": "markdown",
      "metadata": {
        "id": "QYzynk6wdqKe"
      },
      "source": [
        "Repeat the same step for the string categorical values:"
      ]
    },
    {
      "cell_type": "code",
      "execution_count": null,
      "metadata": {
        "id": "K8C8xyiXm-Ie"
      },
      "outputs": [],
      "source": [
        "#str_cat_cols = ['Type', 'Color1', 'Color2', 'Gender', 'MaturitySize', 'FurLength', 'Vaccinated', 'Sterilized', 'Health', 'Breed1']\n",
        "\n",
        "# init inputs for functional API model: variables name\n",
        "str_cat_inputs = []\n",
        "# init encoded_features: variables value\n",
        "str_cat_embs = []\n",
        "\n",
        "for col in str_cat_cols:\n",
        "  str_cat_col = tf.keras.Input(shape=(1,), name=col, dtype='string')\n",
        "  encoding_layer = get_category_encoding_layer(df=train_df,\n",
        "                                               cat_col=col,\n",
        "                                               max_tokens=5)\n",
        "  encoded_str_cat_col = encoding_layer(str_cat_col)\n",
        "  str_cat_inputs.append(str_cat_col)\n",
        "  str_cat_embs.append(encoded_str_cat_col)"
      ]
    },
    {
      "cell_type": "code",
      "execution_count": null,
      "metadata": {
        "colab": {
          "base_uri": "https://localhost:8080/"
        },
        "id": "vG4BNXbPZPr_",
        "outputId": "71d96818-f5ec-4f09-c8e6-552e3483ca99"
      },
      "outputs": [
        {
          "output_type": "execute_result",
          "data": {
            "text/plain": [
              "([<KerasTensor: shape=(None, 1) dtype=string (created by layer 'Color2')>,\n",
              "  <KerasTensor: shape=(None, 1) dtype=string (created by layer 'Breed1')>,\n",
              "  <KerasTensor: shape=(None, 1) dtype=string (created by layer 'Vaccinated')>,\n",
              "  <KerasTensor: shape=(None, 1) dtype=string (created by layer 'Gender')>,\n",
              "  <KerasTensor: shape=(None, 1) dtype=string (created by layer 'Type')>,\n",
              "  <KerasTensor: shape=(None, 1) dtype=string (created by layer 'MaturitySize')>,\n",
              "  <KerasTensor: shape=(None, 1) dtype=string (created by layer 'FurLength')>,\n",
              "  <KerasTensor: shape=(None, 1) dtype=string (created by layer 'Sterilized')>,\n",
              "  <KerasTensor: shape=(None, 1) dtype=string (created by layer 'Health')>,\n",
              "  <KerasTensor: shape=(None, 1) dtype=string (created by layer 'Color1')>],\n",
              " [],\n",
              " [<KerasTensor: shape=(None, 5) dtype=float32 (created by layer 'category_encoding_35')>,\n",
              "  <KerasTensor: shape=(None, 5) dtype=float32 (created by layer 'category_encoding_36')>,\n",
              "  <KerasTensor: shape=(None, 4) dtype=float32 (created by layer 'category_encoding_37')>,\n",
              "  <KerasTensor: shape=(None, 3) dtype=float32 (created by layer 'category_encoding_38')>,\n",
              "  <KerasTensor: shape=(None, 3) dtype=float32 (created by layer 'category_encoding_39')>,\n",
              "  <KerasTensor: shape=(None, 4) dtype=float32 (created by layer 'category_encoding_40')>,\n",
              "  <KerasTensor: shape=(None, 4) dtype=float32 (created by layer 'category_encoding_41')>,\n",
              "  <KerasTensor: shape=(None, 4) dtype=float32 (created by layer 'category_encoding_42')>,\n",
              "  <KerasTensor: shape=(None, 4) dtype=float32 (created by layer 'category_encoding_43')>,\n",
              "  <KerasTensor: shape=(None, 5) dtype=float32 (created by layer 'category_encoding_44')>],\n",
              " [])"
            ]
          },
          "metadata": {},
          "execution_count": 147
        }
      ],
      "source": [
        "#dbck\n",
        "str_cat_inputs, int_cat_inputs,  str_cat_embs, int_cat_embs"
      ]
    },
    {
      "cell_type": "markdown",
      "metadata": {
        "id": "N34bSq1_6RgJ"
      },
      "source": [
        "### processing text features Part1 LSTM"
      ]
    },
    {
      "cell_type": "code",
      "execution_count": null,
      "metadata": {
        "id": "sq3tbB_w3Zp4"
      },
      "outputs": [],
      "source": [
        "#txt_cols = ['Description']\n",
        "# init inputs for functional API model: variables name\n",
        "txt_inputs = []\n",
        "# init encoded_features: variables value\n",
        "txt_embs = []\n",
        "for col in txt_cols:\n",
        "  txt_input = tf.keras.Input(shape=(1,), name=col, dtype='string')\n",
        "  encoding_layer = get_text_encoding_layer(df=train_df,\n",
        "                                          txt_col=col,\n",
        "                                          max_tokens=10000,\n",
        "                                          embedding_dimension=8)\n",
        "  encoded_txt_col = encoding_layer(txt_input)\n",
        "  txt_inputs.append(txt_input)\n",
        "  txt_embs.append(encoded_txt_col)"
      ]
    },
    {
      "cell_type": "code",
      "execution_count": null,
      "metadata": {
        "colab": {
          "base_uri": "https://localhost:8080/"
        },
        "id": "5gpKx5His2PX",
        "outputId": "6811e383-0560-4a21-d4cb-2c1e62e1ac91"
      },
      "outputs": [
        {
          "output_type": "execute_result",
          "data": {
            "text/plain": [
              "([<KerasTensor: shape=(None, 1) dtype=string (created by layer 'Description')>],\n",
              " [<KerasTensor: shape=(None, 8) dtype=float32 (created by layer 'sequential_4')>])"
            ]
          },
          "metadata": {},
          "execution_count": 149
        }
      ],
      "source": [
        "#dbck\n",
        "txt_inputs, txt_embs"
      ]
    },
    {
      "cell_type": "markdown",
      "metadata": {
        "id": "qOqytqway46T"
      },
      "source": [
        "### preprocess text features Part2 Bert\n",
        "\n",
        "Ref: https://keras.io/examples/nlp/multimodal_entailment/"
      ]
    },
    {
      "cell_type": "code",
      "source": [
        "num_projection_layers=1\n",
        "projection_dims=256\n",
        "dropout_rate=0.1\n",
        "txt_trainable=False\n",
        "\n",
        "bert_input_features = [\"input_type_ids\", \"input_mask\", \"input_word_ids\"]\n",
        "txt_inputs = {\n",
        "    feature: tf.keras.Input(shape=(128,), dtype=tf.int32, name=feature)\n",
        "    for feature in bert_input_features\n",
        "}\n",
        "\n",
        "\n",
        "txt_encoder_dict = {col: create_text_encoder(num_projection_layers, projection_dims, dropout_rate, flag_trainable=False, name=col) for col in txt_cols}\n",
        "txt_embs = [txt_encoder_dict[col](txt_inputs) for col in txt_cols] # to make consistent with the x_embs which is a list\n",
        "txt_inputs = [txt_inputs for col in txt_cols] # to make consistent with the txt_inputs by LSTM which is a list\n",
        "txt_inputs, txt_embs"
      ],
      "metadata": {
        "colab": {
          "base_uri": "https://localhost:8080/"
        },
        "id": "mWk7_UTz2X_m",
        "outputId": "108f61c3-2dfb-4e91-9aa4-ec02bc5face1"
      },
      "execution_count": null,
      "outputs": [
        {
          "output_type": "execute_result",
          "data": {
            "text/plain": [
              "([{'input_mask': <KerasTensor: shape=(None, 128) dtype=int32 (created by layer 'input_mask')>,\n",
              "   'input_type_ids': <KerasTensor: shape=(None, 128) dtype=int32 (created by layer 'input_type_ids')>,\n",
              "   'input_word_ids': <KerasTensor: shape=(None, 128) dtype=int32 (created by layer 'input_word_ids')>}],\n",
              " [<KerasTensor: shape=(None, 256) dtype=float32 (created by layer 'Description')>])"
            ]
          },
          "metadata": {},
          "execution_count": 150
        }
      ]
    },
    {
      "cell_type": "markdown",
      "source": [
        "### preprocess image features\n",
        "\n",
        "Ref: "
      ],
      "metadata": {
        "id": "POiUxs20ssOy"
      }
    },
    {
      "cell_type": "code",
      "source": [
        "if len(img_cols)>0:\n",
        "    img_trainable = True\n",
        "    # Receive the images as inputs.\n",
        "    img_inputs = [tf.keras.Input(shape=(128, 128, 3), name=img_col) for img_col in img_cols]\n",
        "    #image_2 = tf.keras.Input(shape=(128, 128, 3), name=\"image_2\")\n",
        "\n",
        "    # Create the encoders.\n",
        "    img_encoder = create_image_encoder(num_projection_layers, projection_dims, dropout_rate, trainable=False, img_cols=img_cols)\n",
        "\n",
        "\n",
        "\n",
        "    # Fetch the embedding projections.\n",
        "    img_embs = [img_encoder(img_inputs)] # to make it a list in order to be consistent with other x_embs\n",
        "else:\n",
        "    img_inputs, img_embs = [], []\n",
        "img_inputs, img_embs"
      ],
      "metadata": {
        "colab": {
          "base_uri": "https://localhost:8080/"
        },
        "id": "JxGBV44StAtV",
        "outputId": "787b7dff-0239-4f88-f808-84f11379b9cd"
      },
      "execution_count": null,
      "outputs": [
        {
          "output_type": "execute_result",
          "data": {
            "text/plain": [
              "([], [])"
            ]
          },
          "metadata": {},
          "execution_count": 152
        }
      ]
    },
    {
      "cell_type": "code",
      "source": [
        "all_embs = norm_cnt_embs + bin_cnt_embs + str_cat_embs + int_cat_embs + txt_embs + img_embs\n",
        "\n",
        "all_embs"
      ],
      "metadata": {
        "colab": {
          "base_uri": "https://localhost:8080/"
        },
        "id": "EZArTQbzRWyT",
        "outputId": "0cd7f094-dbf8-45b5-8b6e-9b6550e02836"
      },
      "execution_count": null,
      "outputs": [
        {
          "output_type": "execute_result",
          "data": {
            "text/plain": [
              "[<KerasTensor: shape=(None, 1) dtype=float32 (created by layer 'normalization_18')>,\n",
              " <KerasTensor: shape=(None, 1) dtype=float32 (created by layer 'normalization_19')>,\n",
              " <KerasTensor: shape=(None, 1) dtype=float32 (created by layer 'normalization_20')>,\n",
              " <KerasTensor: shape=(None, 5) dtype=float32 (created by layer 'category_encoding_32')>,\n",
              " <KerasTensor: shape=(None, 5) dtype=float32 (created by layer 'category_encoding_33')>,\n",
              " <KerasTensor: shape=(None, 5) dtype=float32 (created by layer 'category_encoding_34')>,\n",
              " <KerasTensor: shape=(None, 5) dtype=float32 (created by layer 'category_encoding_35')>,\n",
              " <KerasTensor: shape=(None, 5) dtype=float32 (created by layer 'category_encoding_36')>,\n",
              " <KerasTensor: shape=(None, 4) dtype=float32 (created by layer 'category_encoding_37')>,\n",
              " <KerasTensor: shape=(None, 3) dtype=float32 (created by layer 'category_encoding_38')>,\n",
              " <KerasTensor: shape=(None, 3) dtype=float32 (created by layer 'category_encoding_39')>,\n",
              " <KerasTensor: shape=(None, 4) dtype=float32 (created by layer 'category_encoding_40')>,\n",
              " <KerasTensor: shape=(None, 4) dtype=float32 (created by layer 'category_encoding_41')>,\n",
              " <KerasTensor: shape=(None, 4) dtype=float32 (created by layer 'category_encoding_42')>,\n",
              " <KerasTensor: shape=(None, 4) dtype=float32 (created by layer 'category_encoding_43')>,\n",
              " <KerasTensor: shape=(None, 5) dtype=float32 (created by layer 'category_encoding_44')>,\n",
              " <KerasTensor: shape=(None, 256) dtype=float32 (created by layer 'Description')>]"
            ]
          },
          "metadata": {},
          "execution_count": 153
        }
      ]
    },
    {
      "cell_type": "markdown",
      "metadata": {
        "id": "mcr36dho19jn"
      },
      "source": [
        "### preprocess all features"
      ]
    },
    {
      "cell_type": "code",
      "source": [
        "#dbck\n",
        "cnt_cols, cat_cols, int_cat_cols, str_cat_cols, txt_cols, img_cols"
      ],
      "metadata": {
        "colab": {
          "base_uri": "https://localhost:8080/"
        },
        "id": "MJ-laTB2hPyl",
        "outputId": "b17a6fdb-42d1-434c-8d27-fbf71a430fcb"
      },
      "execution_count": null,
      "outputs": [
        {
          "output_type": "execute_result",
          "data": {
            "text/plain": [
              "(['Age'], [], [], [], ['Description'], [])"
            ]
          },
          "metadata": {},
          "execution_count": 17
        }
      ]
    },
    {
      "cell_type": "code",
      "source": [
        "\"\"\"#tmp testing\n",
        "cnt_cols=[]; cat_cols=[cat_cols[0]]; int_cat_cols=[]; str_cat_cols=[str_cat_cols[0]]; img_cols=[]\n",
        "cnt_cols, cat_cols, int_cat_cols, str_cat_cols, txt_cols, img_cols\"\"\""
      ],
      "metadata": {
        "colab": {
          "base_uri": "https://localhost:8080/"
        },
        "id": "FxtUNIGWUsso",
        "outputId": "a0c2827c-bdc1-4375-b43d-e1acd38c7ff5"
      },
      "execution_count": null,
      "outputs": [
        {
          "output_type": "execute_result",
          "data": {
            "text/plain": [
              "([], ['Color2'], [], ['Color2'], ['Description'], [])"
            ]
          },
          "metadata": {},
          "execution_count": 207
        }
      ]
    },
    {
      "cell_type": "code",
      "execution_count": null,
      "metadata": {
        "id": "yPTBfi3t2Fgc",
        "colab": {
          "base_uri": "https://localhost:8080/"
        },
        "outputId": "1bda1b3e-1da4-4c55-e296-2a3617434465"
      },
      "outputs": [
        {
          "output_type": "stream",
          "name": "stdout",
          "text": [
            "(all_inputs, wide_inputs, deep_inputs)=\n",
            "[<KerasTensor: shape=(None, 1) dtype=float32 (created by layer 'Fee')>, <KerasTensor: shape=(None, 1) dtype=float32 (created by layer 'bin_Fee')>, <KerasTensor: shape=(None, 1) dtype=string (created by layer 'Description')>]\n",
            " []\n",
            " [<KerasTensor: shape=(None, 1) dtype=float32 (created by layer 'bin_Fee')>, <KerasTensor: shape=(None, 1) dtype=float32 (created by layer 'Fee')>, <KerasTensor: shape=(None, 1) dtype=string (created by layer 'Description')>]\n",
            "\n",
            "(all_embs,wide_embs, deep_embs)=\n",
            "KerasTensor(type_spec=TensorSpec(shape=(None, 17), dtype=tf.float32, name=None), name='concatenate_16/concat:0', description=\"created by layer 'concatenate_16'\")\n",
            "None\n",
            " KerasTensor(type_spec=TensorSpec(shape=(None, 17), dtype=tf.float32, name=None), name='concatenate_17/concat:0', description=\"created by layer 'concatenate_17'\")\n",
            "\n"
          ]
        }
      ],
      "source": [
        "def preprocess_all_features(df, cnt_cols, int_cat_cols, str_cat_cols, txt_cols, img_cols, num_projection_layers, projection_dims, dropout_rate, flag_cnt_multihot_bucketize = True, flag_txt_bert=True, txt_trainable=True, img_trainable=True):  \n",
        "    \"\"\" preprocess all features ready for tf model functional API\n",
        "    Args:\n",
        "      df: the df e.g. train_df\n",
        "      cnt_cols: a list of continuous columns\n",
        "      int_cat_cols: a list of integer valued categorical columns\n",
        "      str_cat_cols: a list of string valued categorical columns\n",
        "      txt_cols: a list of text columns\n",
        "      img_cols: a list of image columns\n",
        "      flag_cnt_multihot_bucketize:bool= True: decide wether using multihot bucketization or embedding bucketization for cnt_cols\n",
        "      flag_txt_bert:bool=True\n",
        "      img_trainable:bool=True\n",
        "      txt_trainable:bool=True\n",
        "      \n",
        "    Returns: (all_inputs, wide_inputs, deep_inputs), (all_embs,wide_embs, deep_embs)\n",
        "      all_inputs (a list of tf.keras.Input()) inputs for tf model functional API\n",
        "      all_embs (a list of tf tensor): a list of embedding which is the result of applying encoder model to tf.keras.Input()\n",
        "      wide_*: int_cat_cols + str_cat_cols are sparse representation as input for wide module (i.e. logistic regression)\n",
        "      deep_*: norm_cnt_cols + bin_cnt_cols + txt_cols are dense representation as input for deep module (feedforward neural network)\n",
        "    \"\"\"  \n",
        "    ### normalize cnt_cols ------------------------------------------------\n",
        "\n",
        "    # init inputs for functional API model: variables name\n",
        "    norm_cnt_inputs = []\n",
        "\n",
        "    # init encoded_features: variables value\n",
        "    norm_cnt_embs = []\n",
        "    #cnt_cols = ['PhotoAmt', 'Fee'] # Numerical features.\n",
        "\n",
        "    for col in cnt_cols:\n",
        "      numeric_col = tf.keras.Input(shape=(1,), name=col)\n",
        "      norm_cnt_inputs.append(numeric_col)\n",
        "      normalization_layer = get_normalization_layer(df, col)\n",
        "      encoded_numeric_col = normalization_layer(numeric_col)\n",
        "      norm_cnt_embs.append(encoded_numeric_col)\n",
        "\n",
        "    ### bucketize cnt_cols -------------------------------------------------\n",
        "    # set parameters for bucketization\n",
        "    embedding_dimension= 8\n",
        "    n_buckets = 5\n",
        "    \n",
        "    # init inputs for functional API model: variables name\n",
        "    bin_cnt_inputs = []\n",
        "    # init encoded_features: variables value\n",
        "    bin_cnt_embs = []\n",
        "\n",
        "    for col in cnt_cols:\n",
        "      cnt_col_input = tf.keras.Input(shape=(1,), name='bin_'+col)\n",
        "      bin_cnt_inputs.append(cnt_col_input)\n",
        "      if flag_cnt_multihot_bucketize:\n",
        "        bucketizer_layer = get_multihot_bucketizer_layer(df, col, n_buckets = n_buckets)\n",
        "        bucketized_cnt_col = bucketizer_layer(cnt_col_input)\n",
        "      else:  \n",
        "        bucketizer_layer = get_embedding_bucketizer_layer(df, col, embedding_dimension=embedding_dimension)\n",
        "        bucketized_cnt_col = tf.reshape(bucketizer_layer(cnt_col_input), (-1, embedding_dimension))#, name='bin_'+col\n",
        "      #new_bucketized_numeric_col =  tf.identity(bucketized_numeric_col, name='bin_'+col) \n",
        "      bin_cnt_embs.append(bucketized_cnt_col)\n",
        "\n",
        "    \n",
        "    ### encode int_cat_cols ---------------------------------------------------\n",
        "    #int_cat_cols = ['Age']\n",
        "    # init inputs for functional API model: variables name\n",
        "    int_cat_inputs = []\n",
        "    # init encoded_features: variables value\n",
        "    int_cat_embs = []\n",
        "\n",
        "    for col in int_cat_cols:\n",
        "      int_cat_col = tf.keras.Input(shape=(1,), name=col, dtype='int64')\n",
        "      encoding_layer = get_category_encoding_layer(\n",
        "                                                  df=df,\n",
        "                                                  cat_col=col,\n",
        "                                                  max_tokens=5)\n",
        "      encoded_int_cat_col = encoding_layer(int_cat_col)\n",
        "      int_cat_inputs.append(int_cat_col)\n",
        "      int_cat_embs.append(encoded_int_cat_col)\n",
        "\n",
        "    ### encode str_cat_cols ----------------------------------------------------\n",
        "    #str_cat_cols = ['Type', 'Color1', 'Color2', 'Gender', 'MaturitySize', 'FurLength', 'Vaccinated', 'Sterilized', 'Health', 'Breed1']\n",
        "\n",
        "    # init inputs for functional API model: variables name\n",
        "    str_cat_inputs = []\n",
        "    # init encoded_features: variables value\n",
        "    str_cat_embs = []\n",
        "\n",
        "    for col in str_cat_cols:\n",
        "      str_cat_col = tf.keras.Input(shape=(1,), name=col, dtype='string')\n",
        "      encoding_layer = get_category_encoding_layer(df=df,\n",
        "                                                  cat_col=col,\n",
        "                                                  max_tokens=5)\n",
        "      encoded_str_cat_col = encoding_layer(str_cat_col)\n",
        "      str_cat_inputs.append(str_cat_col)\n",
        "      str_cat_embs.append(encoded_str_cat_col)\n",
        "    ### encode txt_cols ======================================================\n",
        "    #txt_cols = ['Description']\n",
        "    if not flag_txt_bert: # encode txt_cols by LSTM \n",
        "        # init inputs for functional API model: variables name\n",
        "        txt_inputs = []\n",
        "        # init encoded_features: variables value\n",
        "        txt_embs = []\n",
        "        for col in txt_cols:\n",
        "          txt_input = tf.keras.Input(shape=(1,), name=col, dtype='string')\n",
        "          encoding_layer = get_text_encoding_layer(df=df,\n",
        "                                                  txt_col=col,\n",
        "                                                  max_tokens=10000,\n",
        "                                                  embedding_dimension=8)\n",
        "          encoded_txt_col = encoding_layer(txt_input)\n",
        "          txt_inputs.append(txt_input)\n",
        "          txt_embs.append(encoded_txt_col)\n",
        "    else:  ### encode txt_cols by BERT \n",
        "        # Receive the text as inputs.\n",
        "        if len(txt_cols)>0:\n",
        "            bert_input_features = [\"input_type_ids\", \"input_mask\", \"input_word_ids\"]\n",
        "            txt_inputs = {\n",
        "                feature: tf.keras.Input(shape=(128,), dtype=tf.int32, name=feature)\n",
        "                for feature in bert_input_features\n",
        "            }\n",
        "            txt_encoder_dict = {col: create_text_encoder(num_projection_layers, projection_dims, dropout_rate, flag_trainable=False, name=col) for col in txt_cols}\n",
        "            txt_embs = [txt_encoder_dict[col](txt_inputs) for col in txt_cols] # to make consistent with the x_embs which is a list\n",
        "            txt_inputs = [txt_inputs] # to make consistent with the txt_inputs by LSTM which is a list\n",
        "        else:\n",
        "            txt_inputs, txt_embs = [], []\n",
        "    ### img_cols ============================================================ \n",
        "    if len(img_cols)>0: \n",
        "        \n",
        "        # Receive the images as inputs.\n",
        "        img_inputs = [tf.keras.Input(shape=(128, 128, 3), name=img_col) for img_col in img_cols]\n",
        "        #image_2 = tf.keras.Input(shape=(128, 128, 3), name=\"image_2\")\n",
        "\n",
        "        # Create the encoders.\n",
        "        img_encoder = create_image_encoder(num_projection_layers, projection_dims, dropout_rate, trainable=img_trainable, img_cols=img_cols)\n",
        "\n",
        "        # Fetch the embedding projections.\n",
        "        img_embs = [img_encoder(img_inputs)] # to make it a list in order to be consistent with other x_embs\n",
        "    else:\n",
        "        img_inputs, img_embs = [], []\n",
        "\n",
        "    all_inputs = norm_cnt_inputs+bin_cnt_inputs+int_cat_inputs+str_cat_inputs+img_inputs +txt_inputs\n",
        "    \n",
        "    # build all_embs\n",
        "    all_embs = norm_cnt_embs+bin_cnt_embs+str_cat_embs+int_cat_embs+img_embs+txt_embs\n",
        "    \n",
        "    # wide_* is for sparse data representation as input for logistic regression; deep_* is for dense data representation as input for forward deep neural network\n",
        "    if flag_cnt_multihot_bucketize: # in case use multihot_bucketizer for cnt_cols\n",
        "        wide_inputs =  bin_cnt_inputs + str_cat_inputs + int_cat_inputs \n",
        "        deep_inputs = norm_cnt_inputs + img_inputs + txt_inputs \n",
        "\n",
        "        wide_embs = bin_cnt_embs + str_cat_embs + int_cat_embs \n",
        "        deep_embs = norm_cnt_embs + img_embs + txt_embs\n",
        "        \n",
        "\n",
        "    else: # in case NOT using multihot_bucketizer for cnt_cols\n",
        "        wide_inputs =  str_cat_inputs + int_cat_inputs \n",
        "        deep_inputs = bin_cnt_inputs + norm_cnt_inputs + img_inputs + txt_inputs\n",
        "        \n",
        "        wide_embs = str_cat_embs + int_cat_embs\n",
        "        deep_embs = bin_cnt_embs + norm_cnt_embs + img_embs + txt_embs\n",
        "  \n",
        "          \n",
        "    # turn all_embs, wide_embs, deep_embs into tf format for return\n",
        "    if len(all_embs)>0:\n",
        "      all_embs = tf.keras.layers.Concatenate()(all_embs)\n",
        "    else:\n",
        "      all_embs = None\n",
        "    if len(wide_embs)>0:\n",
        "      wide_embs = tf.keras.layers.Concatenate()(wide_embs)\n",
        "    else:\n",
        "      wide_embs = None\n",
        "    if len(deep_embs)>0:\n",
        "      deep_embs = tf.keras.layers.Concatenate()(deep_embs)\n",
        "    else:\n",
        "      deep_embs = None\n",
        "\n",
        "    return (all_inputs, wide_inputs, deep_inputs), (all_embs, wide_embs, deep_embs)\n",
        "\n",
        "#dbck\n",
        "num_projection_layers=1\n",
        "projection_dims=32\n",
        "dropout_rate=0.3\n",
        "\n",
        "(all_inputs, wide_inputs, deep_inputs), (all_embs,wide_embs, deep_embs) = preprocess_all_features(df, cnt_cols, int_cat_cols, str_cat_cols, txt_cols, img_cols, num_projection_layers, projection_dims, dropout_rate, flag_cnt_multihot_bucketize = False, flag_txt_bert=flag_txt_bert, txt_trainable=True, img_trainable=True) \n",
        "\n",
        "print(f'(all_inputs, wide_inputs, deep_inputs)=\\n{all_inputs}\\n {wide_inputs}\\n {deep_inputs}\\n') \n",
        "\n",
        "\n",
        "print(f'(all_embs,wide_embs, deep_embs)=\\n{all_embs}\\n{wide_embs}\\n {deep_embs}\\n')\n"
      ]
    },
    {
      "cell_type": "code",
      "source": [
        "len(all_inputs), len(wide_inputs), len(deep_inputs), all_embs.shape"
      ],
      "metadata": {
        "colab": {
          "base_uri": "https://localhost:8080/"
        },
        "id": "jwoEfSQKJlaV",
        "outputId": "c55f3b70-adaf-44cb-c50c-cb777da43ac0"
      },
      "execution_count": null,
      "outputs": [
        {
          "output_type": "execute_result",
          "data": {
            "text/plain": [
              "(3, 0, 3, TensorShape([None, 17]))"
            ]
          },
          "metadata": {},
          "execution_count": 117
        }
      ]
    },
    {
      "cell_type": "markdown",
      "metadata": {
        "id": "IDGyN_wpo0XS"
      },
      "source": [
        "## Create, compile, and train the model\n",
        "\n",
        "The next step is to create a model using the [Keras Functional API](https://www.tensorflow.org/guide/keras/functional). For the first layer in your model, merge the list of feature inputs—`encoded_features`—into one vector via concatenation with `tf.keras.layers.concatenate`."
      ]
    },
    {
      "cell_type": "code",
      "execution_count": null,
      "metadata": {
        "colab": {
          "base_uri": "https://localhost:8080/"
        },
        "id": "efxAP8JyoqAO",
        "outputId": "5b04f895-03f4-4ef7-fa8b-17e3701c7feb"
      },
      "outputs": [
        {
          "output_type": "stream",
          "name": "stdout",
          "text": [
            "all_inputs = [<KerasTensor: shape=(None, 1) dtype=float32 (created by layer 'Fee')>, <KerasTensor: shape=(None, 1) dtype=float32 (created by layer 'bin_Fee')>, <KerasTensor: shape=(None, 1) dtype=string (created by layer 'Description')>]/n\n",
            "all_embs = KerasTensor(type_spec=TensorSpec(shape=(None, 17), dtype=tf.float32, name=None), name='concatenate_16/concat:0', description=\"created by layer 'concatenate_16'\")/n\n",
            "deep_embs = KerasTensor(type_spec=TensorSpec(shape=(None, 17), dtype=tf.float32, name=None), name='concatenate_17/concat:0', description=\"created by layer 'concatenate_17'\")/n\n",
            "wide_embs = None/n\n"
          ]
        }
      ],
      "source": [
        "#dbck: wide (sparse representation): bin_cnt_cols, int_cat_cols, str_cat_cols; deep (dense representation): norm_cnt_cols, txt_cols\n",
        "\n",
        "print(f\"all_inputs = {all_inputs}/n\")\n",
        "print(f\"all_embs = {all_embs}/n\")\n",
        "print(f\"deep_embs = {deep_embs}/n\")\n",
        "print(f\"wide_embs = {wide_embs}/n\")"
      ]
    },
    {
      "cell_type": "markdown",
      "metadata": {
        "id": "coCs4_xkQmPP"
      },
      "source": [
        "Ref: https://stackoverflow.com/questions/68347501/tensorflow-keras-using-specific-class-recall-as-metric-for-sparse-categorical-cr\n",
        "\n"
      ]
    },
    {
      "cell_type": "code",
      "execution_count": null,
      "metadata": {
        "id": "WKj2R8XDAz-e"
      },
      "outputs": [],
      "source": [
        "def create_simple_model(all_inputs, all_embs, num_classes, dropout_rate=0.5):\n",
        "    # version1: simple\n",
        "    x = tf.keras.layers.Dense(32, activation=\"relu\")(all_embs)\n",
        "    x = tf.keras.layers.Dropout(dropout_rate)(x)\n",
        "    output = tf.keras.layers.Dense(num_classes, activation='softmax')(x)\n",
        "\n",
        "    model = tf.keras.Model(all_inputs, output)\n",
        "    return model\n",
        "\n",
        "\n",
        "def create_deep_wide_cross_model(all_inputs, wide_embs, deep_embs, num_classes, hidden_units = [64, 32], l1_l2=2, alpha=1e-3, dropout_rate = 0.5):\n",
        "    \"\"\"process wide_embs and deep_embs separately by wide_branch+cross_branch and deep_branch\"\"\"\n",
        "    \n",
        "    if wide_embs is not None:\n",
        "      # wide branch: learning from sparse data\n",
        "      wide = tf.keras.layers.Normalization(axis=None)(wide_embs)\n",
        "      # cross branch: learning from sparse feature crossing\n",
        "      x0 = wide_embs\n",
        "      cross = x0\n",
        "      for _ in hidden_units:\n",
        "          units = cross.shape[-1]\n",
        "          x = layers.Dense(units)(cross)\n",
        "          cross = x0 * x + cross\n",
        "      cross = layers.BatchNormalization()(cross)\n",
        "    else:\n",
        "      wide = None\n",
        "      cross = None\n",
        "\n",
        "    # deep branch: learning from dense feature i.e. embedding\n",
        "    if deep_embs is not None:\n",
        "      regu_dict = {0:regularizers.l1(0), 1: regularizers.l1(alpha), 2:regularizers.l2(alpha)}\n",
        "\n",
        "      # construct deep layers to process deep_embs\n",
        "      deep = deep_embs\n",
        "      for units in hidden_units:\n",
        "          deep = tf.keras.layers.Dense(units, activity_regularizer=regu_dict[l1_l2])(deep)\n",
        "          deep = tf.keras.layers.BatchNormalization()(deep)\n",
        "          deep = tf.keras.layers.ReLU()(deep)\n",
        "          deep = tf.keras.layers.Dropout(dropout_rate)(deep)\n",
        "    else:\n",
        "      deep = None\n",
        "\n",
        "    # to remove None\n",
        "    ls = [x for x in [wide, cross, deep] if x is not None] \n",
        "    concated = tf.keras.layers.concatenate(ls)\n",
        "    outputs = tf.keras.layers.Dense(units=num_classes, activation=\"softmax\")(concated)\n",
        "    \n",
        "    model = tf.keras.Model(inputs=all_inputs, outputs=outputs)\n",
        "    return model\n",
        "#helper function for create_dcn_model\n",
        "\n",
        "def get_deep_cross_layers(layer_sizes:list=[128, 64, 32], projection_dim:int=32, l1_l2:int=0, alpha:float=1e-4, dropout:float=0.2, flag_cross:bool=True)->tf.keras.Sequential:\n",
        "    \"\"\"create deep_cross_layers, which is a tf.keras.Sequential() model\n",
        "    Args:\n",
        "        layer_sizes (list of int): e.g. [128, 64, 32]\n",
        "        projection_dim (int or None): e.g. 32\n",
        "        l1_l2 (int): choose from {0, 1, 2}, 0: not using l1/l2 regularization, 1: use l1, 2: use l2\n",
        "        alpha (float): l1 or l2 regularization parameter, usually is a small number e.g. 1e-2\n",
        "        dropout (float): drop out proportion, usually a small number between 0 and .5.\n",
        "        flag_cross (bool default True): to use DCN cross or not\n",
        "    Returns:\n",
        "        deep_cross_layers (tf.keras.Sequential() model)\n",
        "    \"\"\"\n",
        "    # STEP1: construct the cross layers.\n",
        "    if flag_cross:\n",
        "      import tensorflow_recommenders as tfrs\n",
        "      deep_cross_layers = tf.keras.Sequential(tfrs.layers.dcn.Cross(projection_dim=projection_dim,\n",
        "                                                                    kernel_initializer=\"glorot_uniform\", \n",
        "                                                                    name='cross_layer'))\n",
        "    else:\n",
        "      deep_cross_layers = tf.keras.Sequential()\n",
        "\n",
        "    # STEP2: construct the deep layers\n",
        "    # Use the ReLU activation for all but the last layer.\n",
        "    regu_dict = {0:regularizers.l1(0), 1: regularizers.l1(alpha), 2:regularizers.l2(alpha)}\n",
        "    for i, layer_size in enumerate(layer_sizes[:-1]):\n",
        "        deep_cross_layers.add(tf.keras.layers.Dense(layer_size, \n",
        "                                                activation=\"relu\",\n",
        "                                                activity_regularizer=regu_dict[l1_l2],\n",
        "                                                name=f'{str(i)}_layer')) # to deal with overfitting, use l1 or l2 regularization\n",
        "        deep_cross_layers.add(Dropout(dropout)) # to deal with overfitting, use dropout\n",
        "\n",
        "    # No activation for the last layer.\n",
        "    for layer_size in layer_sizes[-1:]:\n",
        "        deep_cross_layers.add(tf.keras.layers.Dense(layer_size, name='last_layer'))\n",
        "\n",
        "    return deep_cross_layers\n",
        "def create_dcn_model(all_inputs, all_embs):\n",
        "    \"\"\"create a deep cross model by tfrs utility module\"\"\"\n",
        "    dc_layers = get_deep_cross_layers(layer_sizes=[64, 32, num_classes], projection_dim=32, l1_l2=2, alpha=1e-3, dropout=0.5, flag_cross=True)\n",
        "    output = dc_layers(all_embs)\n",
        "\n",
        "    #define model accroding to functiional API\n",
        "    return tf.keras.Model(inputs=all_inputs, outputs=output)\n"
      ]
    },
    {
      "cell_type": "code",
      "execution_count": null,
      "metadata": {
        "colab": {
          "base_uri": "https://localhost:8080/",
          "height": 108
        },
        "id": "6Yrj-_pr6jyL",
        "outputId": "e66eaf68-138f-412b-fb79-d70b017bad6a"
      },
      "outputs": [
        {
          "output_type": "execute_result",
          "data": {
            "image/png": "[encoded data removed]",
            "text/plain": [
              "<IPython.core.display.Image object>"
            ]
          },
          "metadata": {},
          "execution_count": 124
        }
      ],
      "source": [
        "flag_model =1 #0: simple, 1: wide_cross_deep, 2: dcn\n",
        "num_classes = len(df[label].unique()) # 5 in our case\n",
        "\n",
        "if flag_model == 0:\n",
        "  model = create_simple_model(all_inputs, all_embs, num_classes, dropout_rate=0.5)\n",
        "elif flag_model == 1:\n",
        "  model = create_deep_wide_cross_model(all_inputs, wide_embs, deep_embs, num_classes, hidden_units = [64, 32], dropout_rate = 0.5)\n",
        "elif flag_model ==2:\n",
        "  model = create_dnc_model(all_inputs, all_embs)\n",
        "\n",
        "tf.keras.utils.plot_model(model, show_shapes=True, rankdir=\"LR\")"
      ]
    },
    {
      "cell_type": "markdown",
      "metadata": {
        "id": "NRLDRcYAefTA"
      },
      "source": [
        "Configure the model with Keras `Model.compile`:"
      ]
    },
    {
      "cell_type": "code",
      "execution_count": 125,
      "metadata": {
        "id": "Z4meyTKtsWct",
        "colab": {
          "base_uri": "https://localhost:8080/"
        },
        "outputId": "c8d39bf7-739b-4d62-a548-9e63c27a7547"
      },
      "outputs": [
        {
          "output_type": "stream",
          "name": "stdout",
          "text": [
            "Train loss=1.4829802513122559\n",
            "Train categorical_accuracy=0.27324342727661133\n",
            "Train f1_score=[0.         0.         0.42924267 0.         0.        ]\n",
            "Train roc_auc=0.4995819628238678\n",
            "Train pr_auc=0.19981835782527924\n",
            "Valid loss=1.4715838432312012\n",
            "Valid categorical_accuracy=0.2730769217014313\n",
            "Valid f1_score=[0.         0.         0.42900303 0.         0.        ]\n",
            "Valid roc_auc=0.5\n",
            "Valid pr_auc=0.20000000298023224\n"
          ]
        }
      ],
      "source": [
        "learning_rate = 0.1\n",
        "epochs = 3\n",
        "\n",
        "model.compile(optimizer=tf.keras.optimizers.Adam(learning_rate),\n",
        "              loss=tf.keras.losses.CategoricalCrossentropy(),\n",
        "              metrics=[tf.keras.metrics.CategoricalAccuracy(name='categorical_accuracy'), tfa.metrics.F1Score(num_classes=num_classes, name='f1_score'), tf.keras.metrics.AUC(multi_label = True, curve='ROC', name='roc_auc'), tf.keras.metrics.AUC(multi_label = True, curve='PR', name='pr_auc') ],\n",
        "              )\n",
        "# early stopping to avoid overfitting\n",
        "monitor = EarlyStopping(monitor='loss', min_delta=1e-3, \n",
        "                        patience=100, verbose=0, mode='auto', restore_best_weights=True)\n",
        "\n",
        "history = model.fit(train_ds, \n",
        "                    epochs=epochs, \n",
        "                    validation_data=valid_ds,\n",
        "                    validation_freq=1,\n",
        "                    #callbacks=[monitor],\n",
        "                    verbose=0\n",
        "                    )\n",
        "\n",
        "train_metrics = model.evaluate(train_ds, verbose=False, return_dict=True)\n",
        "for m in train_metrics.keys():\n",
        "    print(f\"Train {m}={train_metrics[m]}\")\n",
        "\n",
        "valid_metrics = model.evaluate(valid_ds, verbose=False, return_dict=True)\n",
        "for m in valid_metrics.keys():\n",
        "   print(f\"Valid {m}={valid_metrics[m]}\")"
      ]
    },
    {
      "cell_type": "code",
      "source": [
        "list(train_ds.take(1))"
      ],
      "metadata": {
        "colab": {
          "base_uri": "https://localhost:8080/"
        },
        "id": "dP6FGKWjvcy2",
        "outputId": "9c164743-55ba-41e9-827d-5040fdd3c870"
      },
      "execution_count": null,
      "outputs": [
        {
          "output_type": "execute_result",
          "data": {
            "text/plain": [
              "[({'Age': <tf.Tensor: shape=(32,), dtype=int64, numpy=\n",
              "   array([12,  6, 12,  3, 20,  2, 36,  1,  5, 48,  4,  3,  3, 24, 12, 18,  6,\n",
              "           2, 16, 10,  5,  6,  3, 48,  3,  2,  2,  2,  0,  5, 12,  2])>,\n",
              "   'Description': {'input_mask': <tf.Tensor: shape=(32, 128), dtype=int32, numpy=\n",
              "    array([[1, 1, 1, ..., 0, 0, 0],\n",
              "           [1, 1, 1, ..., 0, 0, 0],\n",
              "           [1, 1, 1, ..., 0, 0, 0],\n",
              "           ...,\n",
              "           [1, 1, 1, ..., 0, 0, 0],\n",
              "           [1, 1, 1, ..., 0, 0, 0],\n",
              "           [1, 1, 1, ..., 1, 1, 1]], dtype=int32)>,\n",
              "    'input_type_ids': <tf.Tensor: shape=(32, 128), dtype=int32, numpy=\n",
              "    array([[0, 0, 0, ..., 0, 0, 0],\n",
              "           [0, 0, 0, ..., 0, 0, 0],\n",
              "           [0, 0, 0, ..., 0, 0, 0],\n",
              "           ...,\n",
              "           [0, 0, 0, ..., 0, 0, 0],\n",
              "           [0, 0, 0, ..., 0, 0, 0],\n",
              "           [0, 0, 0, ..., 0, 0, 0]], dtype=int32)>,\n",
              "    'input_word_ids': <tf.Tensor: shape=(32, 128), dtype=int32, numpy=\n",
              "    array([[  101,  2200, 15578, ...,     0,     0,     0],\n",
              "           [  101,  2146,  6519, ...,     0,     0,     0],\n",
              "           [  101, 10148,  2260, ...,     0,     0,     0],\n",
              "           ...,\n",
              "           [  101, 18188,  2003, ...,     0,     0,     0],\n",
              "           [  101,  1037, 18856, ...,     0,     0,     0],\n",
              "           [  101, 24903,  2953, ...,  8210, 16507,   102]], dtype=int32)>},\n",
              "   'bin_Age': <tf.Tensor: shape=(32,), dtype=int64, numpy=\n",
              "   array([12,  6, 12,  3, 20,  2, 36,  1,  5, 48,  4,  3,  3, 24, 12, 18,  6,\n",
              "           2, 16, 10,  5,  6,  3, 48,  3,  2,  2,  2,  0,  5, 12,  2])>},\n",
              "  <tf.Tensor: shape=(32, 5), dtype=float32, numpy=\n",
              "  array([[0., 1., 0., 0., 0.],\n",
              "         [0., 0., 1., 0., 0.],\n",
              "         [0., 0., 0., 0., 1.],\n",
              "         [0., 1., 0., 0., 0.],\n",
              "         [0., 1., 0., 0., 0.],\n",
              "         [0., 0., 0., 1., 0.],\n",
              "         [0., 1., 0., 0., 0.],\n",
              "         [1., 0., 0., 0., 0.],\n",
              "         [0., 0., 1., 0., 0.],\n",
              "         [0., 0., 1., 0., 0.],\n",
              "         [0., 0., 1., 0., 0.],\n",
              "         [0., 0., 0., 0., 1.],\n",
              "         [0., 0., 1., 0., 0.],\n",
              "         [0., 0., 0., 0., 1.],\n",
              "         [0., 0., 1., 0., 0.],\n",
              "         [1., 0., 0., 0., 0.],\n",
              "         [0., 0., 1., 0., 0.],\n",
              "         [0., 0., 1., 0., 0.],\n",
              "         [0., 1., 0., 0., 0.],\n",
              "         [0., 1., 0., 0., 0.],\n",
              "         [0., 0., 0., 0., 1.],\n",
              "         [0., 1., 0., 0., 0.],\n",
              "         [0., 1., 0., 0., 0.],\n",
              "         [1., 0., 0., 0., 0.],\n",
              "         [0., 1., 0., 0., 0.],\n",
              "         [0., 0., 1., 0., 0.],\n",
              "         [0., 1., 0., 0., 0.],\n",
              "         [0., 0., 0., 0., 1.],\n",
              "         [0., 0., 0., 0., 1.],\n",
              "         [0., 1., 0., 0., 0.],\n",
              "         [1., 0., 0., 0., 0.],\n",
              "         [0., 1., 0., 0., 0.]], dtype=float32)>)]"
            ]
          },
          "metadata": {},
          "execution_count": 30
        }
      ]
    },
    {
      "cell_type": "code",
      "source": [
        "list(valid_ds.take(1))"
      ],
      "metadata": {
        "colab": {
          "base_uri": "https://localhost:8080/"
        },
        "id": "R8FrmTa-4GYh",
        "outputId": "af736e0d-f0d4-4e01-f40b-0efc09362164"
      },
      "execution_count": null,
      "outputs": [
        {
          "output_type": "execute_result",
          "data": {
            "text/plain": [
              "[({'Age': <tf.Tensor: shape=(32,), dtype=int64, numpy=\n",
              "   array([ 12,   2,   1,  12,   5,   2,   1,   7,  12,   2,  60,   1,  12,\n",
              "            4,   3,  72,   6,   1,   4,   4,   8,  24,   2,  48,   2,   2,\n",
              "          108,  12,   5,  12,   4,  48])>,\n",
              "   'Description': {'input_mask': <tf.Tensor: shape=(32, 128), dtype=int32, numpy=\n",
              "    array([[1, 1, 1, ..., 0, 0, 0],\n",
              "           [1, 1, 1, ..., 0, 0, 0],\n",
              "           [1, 1, 1, ..., 0, 0, 0],\n",
              "           ...,\n",
              "           [1, 1, 1, ..., 0, 0, 0],\n",
              "           [1, 1, 1, ..., 0, 0, 0],\n",
              "           [1, 1, 1, ..., 1, 1, 1]], dtype=int32)>,\n",
              "    'input_type_ids': <tf.Tensor: shape=(32, 128), dtype=int32, numpy=\n",
              "    array([[0, 0, 0, ..., 0, 0, 0],\n",
              "           [0, 0, 0, ..., 0, 0, 0],\n",
              "           [0, 0, 0, ..., 0, 0, 0],\n",
              "           ...,\n",
              "           [0, 0, 0, ..., 0, 0, 0],\n",
              "           [0, 0, 0, ..., 0, 0, 0],\n",
              "           [0, 0, 0, ..., 0, 0, 0]], dtype=int32)>,\n",
              "    'input_word_ids': <tf.Tensor: shape=(32, 128), dtype=int32, numpy=\n",
              "    array([[  101,  2559,  2005, ...,     0,     0,     0],\n",
              "           [  101,  2023, 18401, ...,     0,     0,     0],\n",
              "           [  101,  1015,  3204, ...,     0,     0,     0],\n",
              "           ...,\n",
              "           [  101,  2016,  2467, ...,     0,     0,     0],\n",
              "           [  101,  2005,  9886, ...,     0,     0,     0],\n",
              "           [  101,  3058,  2179, ...,  2154,  1010,   102]], dtype=int32)>},\n",
              "   'bin_Age': <tf.Tensor: shape=(32,), dtype=int64, numpy=\n",
              "   array([ 12,   2,   1,  12,   5,   2,   1,   7,  12,   2,  60,   1,  12,\n",
              "            4,   3,  72,   6,   1,   4,   4,   8,  24,   2,  48,   2,   2,\n",
              "          108,  12,   5,  12,   4,  48])>},\n",
              "  <tf.Tensor: shape=(32, 5), dtype=float32, numpy=\n",
              "  array([[0., 0., 0., 0., 1.],\n",
              "         [0., 1., 0., 0., 0.],\n",
              "         [0., 0., 0., 1., 0.],\n",
              "         [0., 0., 0., 0., 1.],\n",
              "         [0., 0., 0., 1., 0.],\n",
              "         [0., 0., 1., 0., 0.],\n",
              "         [0., 0., 1., 0., 0.],\n",
              "         [0., 0., 0., 0., 1.],\n",
              "         [0., 0., 0., 0., 1.],\n",
              "         [0., 1., 0., 0., 0.],\n",
              "         [0., 0., 1., 0., 0.],\n",
              "         [0., 1., 0., 0., 0.],\n",
              "         [0., 0., 0., 0., 1.],\n",
              "         [0., 0., 1., 0., 0.],\n",
              "         [0., 0., 0., 0., 1.],\n",
              "         [0., 0., 0., 0., 1.],\n",
              "         [0., 0., 0., 0., 1.],\n",
              "         [0., 0., 1., 0., 0.],\n",
              "         [0., 0., 0., 1., 0.],\n",
              "         [1., 0., 0., 0., 0.],\n",
              "         [0., 0., 0., 1., 0.],\n",
              "         [0., 0., 0., 0., 1.],\n",
              "         [0., 0., 0., 1., 0.],\n",
              "         [0., 0., 1., 0., 0.],\n",
              "         [0., 1., 0., 0., 0.],\n",
              "         [0., 0., 1., 0., 0.],\n",
              "         [0., 0., 0., 0., 1.],\n",
              "         [0., 1., 0., 0., 0.],\n",
              "         [0., 0., 1., 0., 0.],\n",
              "         [0., 0., 1., 0., 0.],\n",
              "         [0., 0., 0., 1., 0.],\n",
              "         [0., 1., 0., 0., 0.]], dtype=float32)>)]"
            ]
          },
          "metadata": {},
          "execution_count": 31
        }
      ]
    },
    {
      "cell_type": "code",
      "execution_count": null,
      "metadata": {
        "colab": {
          "base_uri": "https://localhost:8080/",
          "height": 420
        },
        "id": "t887cdhN3Ou9",
        "outputId": "a0e55b34-67bd-441f-81c9-18fe59c49b48"
      },
      "outputs": [
        {
          "output_type": "display_data",
          "data": {
            "image/png": "[encoded data removed]",
            "text/plain": [
              "<Figure size 1440x720 with 6 Axes>"
            ]
          },
          "metadata": {}
        }
      ],
      "source": [
        "# helpers for performance visualization\n",
        "import matplotlib.pyplot as plt\n",
        "plt.style.use('ggplot')\n",
        "import matplotlib.pyplot as plt\n",
        "\n",
        "def plot_confusion_matrix(cm, \n",
        "                          classes,\n",
        "                          normalize=False,\n",
        "                          title='Confusion Matrix',\n",
        "                          cmap=plt.cm.Blues):\n",
        "    \"\"\"plot multiclass confusion matrix\n",
        "    Example:\n",
        "    from sklearn.metrics import confusion_matrix\n",
        "    cm = confusion_matrix(y_true, y_pred) \n",
        "    plot_confusion_matrix(cm, \n",
        "                          classes,\n",
        "                          normalize=False,\n",
        "                          title='Confusion matrix',\n",
        "                          cmap=plt.cm.Blues)\n",
        "    \n",
        "    \"\"\"\n",
        "    plt.imshow(cm, interpolation='nearest', cmap=cmap)\n",
        "    plt.title(title)\n",
        "    plt.colorbar()\n",
        "    tick_marks = np.arange(len(classes))\n",
        "    plt.xticks(tick_marks, classes, rotation=45)\n",
        "    plt.yticks(tick_marks, classes)\n",
        "\n",
        "    if normalize:\n",
        "        cm = cm.astype('float') / cm.sum(axis=1)[:, np.newaxis]\n",
        "        print(\"Normalized confusion matrix\")\n",
        "    else:\n",
        "        print('Confusion matrix, without normalization')\n",
        "\n",
        "    thresh = cm.max() / 2.\n",
        "    for i, j in itertools.product(range(cm.shape[0]), range(cm.shape[1])):\n",
        "        plt.text(j, i, cm[i, j],\n",
        "                 horizontalalignment=\"center\",\n",
        "                 color=\"white\" if cm[i, j] > thresh else \"black\")\n",
        "\n",
        "    plt.tight_layout()\n",
        "    plt.ylabel('True label')\n",
        "    plt.xlabel('Predicted label')\n",
        "\n",
        "def plot_history(history):\n",
        "    \"\"\"plot history of training and validation on performance metric e.g. accuracy and loss function \"\"\"\n",
        "    metrics = history.history.keys()\n",
        "    metrics = [x for x in metrics if 'val' not in x] #filter out the validation metrics\n",
        "    nrows = 2\n",
        "    ncols = int(np.ceil(len(metrics)/nrows))\n",
        "    fig, axs = plt.subplots(nrows, ncols, figsize=(20, 10))\n",
        "\n",
        "    for i in range(nrows):\n",
        "      for j in range(ncols):\n",
        "        try:\n",
        "          met = history.history[metrics[i*ncols+j]]\n",
        "          val_met = history.history['val_'+metrics[i*ncols+j]]\n",
        "          if metrics[i*ncols+j] != 'confusion_matrix':\n",
        "            x = range(1, len(met) + 1)\n",
        "            axs[i,j].plot(x, met, 'b', label=f'Training {metrics[i*ncols+j]}')\n",
        "            axs[i,j].plot(x, val_met, 'r', label=f'Validation {metrics[i*ncols+j]}')\n",
        "            axs[i,j].set_title(f' {metrics[i*ncols+j]}')\n",
        "            axs[i,j].legend()\n",
        "          else: # plot confusion matrix\n",
        "            pass\n",
        "        except:\n",
        "          pass\n",
        "\n",
        "\n",
        "plot_history(history)"
      ]
    },
    {
      "cell_type": "markdown",
      "metadata": {
        "id": "slEA-BwWLsbG"
      },
      "source": [
        "### Extra metrics for multiclass classification\n",
        "**ATTN**\n",
        "Be careful on how to set up whether or not one-hot encode y, loss, metric for binary classification problem: https://colab.research.google.com/drive/1h-hUZNsALtMpVD2AKsXScICHNehV3PLO?usp=sharing\n",
        "\n",
        "Be careful on how to set up whether or not one-hot encode y loss, metrics for multiclass classification problem: https://colab.research.google.com/drive/1aNxfHC6Cwp9ppSYwjMQKFNCzwze9KC4I?usp=sharing"
      ]
    },
    {
      "cell_type": "code",
      "execution_count": null,
      "metadata": {
        "id": "QYTVrLTlNaN7"
      },
      "outputs": [],
      "source": [
        "### EXTRA metrics for multiclass classification\n",
        "\n",
        "# define custom metrics for multiclass classification: avg_precision, avg_recall\n",
        "m_ls = []\n",
        "num_classes = len(df[label].unique())\n",
        "for i in range(num_classes):\n",
        "  m_ls.append(tf.keras.metrics.Recall())\n",
        "\n",
        "def avg_recall(y_true, y_pred):\n",
        "    actual_ls = [y_true[:, i] for i in range(num_classes)]\n",
        "    pred_ls = [y_pred[:, i] for i in range(num_classes)]\n",
        "    \n",
        "    ms =[] \n",
        "    for i,m in enumerate(m_ls):\n",
        "      m.update_state(actual_ls[i], pred_ls[i])\n",
        "      ms.append(m)\n",
        "                        \n",
        "    return sum([m.result() for m in ms])/num_classes\n",
        "\n",
        "mm_ls = []\n",
        "for i in range(num_classes):\n",
        "  mm_ls.append(tf.keras.metrics.Precision())\n",
        "\n",
        "def avg_precision(y_true, y_pred):\n",
        "    actual_ls = [y_true[:, i] for i in range(num_classes)]\n",
        "    pred_ls = [y_pred[:, i] for i in range(num_classes)]\n",
        "    \n",
        "    ms =[] \n",
        "    for i,m in enumerate(mm_ls):\n",
        "      m.update_state(actual_ls[i], pred_ls[i])\n",
        "      ms.append(m)\n",
        "                        \n",
        "    return sum([m.result() for m in ms])/num_classes\n",
        "\n",
        "class CategoricalTruePositives(tf.keras.metrics.Metric):\n",
        "\n",
        "    def __init__(self, num_classes, batch_size,\n",
        "                 name=\"categorical_true_positives\", **kwargs):\n",
        "        super(CategoricalTruePositives, self).__init__(name=name, **kwargs)\n",
        "\n",
        "        self.batch_size = batch_size\n",
        "        self.num_classes = num_classes    \n",
        "\n",
        "        self.cat_true_positives = self.add_weight(name=\"ctp\", initializer=\"zeros\")\n",
        "\n",
        "    def update_state(self, y_true, y_pred, sample_weight=None):     \n",
        "\n",
        "        y_true = K.argmax(y_true, axis=-1)\n",
        "        y_pred = K.argmax(y_pred, axis=-1)\n",
        "        y_true = K.flatten(y_true)\n",
        "\n",
        "        true_poss = K.sum(K.cast((K.equal(y_true, y_pred)), dtype=tf.float32))\n",
        "\n",
        "        self.cat_true_positives.assign_add(true_poss)\n",
        "\n",
        "    def result(self):\n",
        "\n",
        "        return self.cat_true_positives\n",
        "\n",
        "### TBD\n",
        "class MulticlassPrecision(tf.keras.metrics.Metric):\n",
        "    \"\"\"compute 3 different precision: micro, macro, weighted.\n",
        "    micro: precision score accross the classes, as 1\n",
        "    macro: mean of precision scores per class\n",
        "    weighted: weighted average of precision scores per class,\n",
        "            weighted from the support of each class\n",
        "\n",
        "\n",
        "    Args:\n",
        "        y_true (Tensor): labels, with shape (batch, num_classes)\n",
        "        y_pred (Tensor): model's predictions, with shape (batch, num_classes)\n",
        "\n",
        "    Returns:\n",
        "        tuple(Tensor): (micro, macro, weighted)\n",
        "                    tuple of the computed precision scores\n",
        "\n",
        "    Ref: https://stackoverflow.com/questions/45287169/tensorflow-precision-recall-f1-multi-label-classification\n",
        "    \n",
        "    \"\"\"\n",
        "    def __init__(self, num_classes, batch_size,\n",
        "                 name=\"multiclass_precision\", **kwargs):\n",
        "        super(Precision, self).__init__(name=name, **kwargs)\n",
        "\n",
        "        self.batch_size = batch_size\n",
        "        self.num_classes = num_classes    \n",
        "\n",
        "        self.multiclass_precisions = [0,0,0]\n",
        "\n",
        "    def update_state(self, y_true, y_pred, sample_weight=None):     \n",
        "\n",
        "        precisions = [0, 0, 0]\n",
        "\n",
        "        y_true = tf.cast(y_true, tf.float64)\n",
        "        y_pred = tf.cast(y_pred, tf.float64)\n",
        "\n",
        "        for i, axis in enumerate([None, 0]):\n",
        "            TP = tf.count_nonzero(y_pred * y_true, axis=axis)\n",
        "            FP = tf.count_nonzero(y_pred * (y_true - 1), axis=axis)\n",
        "            FN = tf.count_nonzero((y_pred - 1) * y_true, axis=axis)\n",
        "\n",
        "            precision = TP / (TP + FP)\n",
        "            precisions[i] =tf.reduce_mean(precision)\n",
        "        \n",
        "        weights = tf.reduce_sum(y_true, axis=0)\n",
        "        weights /= tf.reduce_sum(weights)\n",
        "        precisions[2] = tf.reduce_sum(precision * weights)\n",
        "\n",
        "        #micro, macro, weighted = precisions\n",
        "        \n",
        "        self.multiclass_precisions.assign_add(precisions)\n",
        "\n",
        "    def result(self):\n",
        "\n",
        "        return self.multiclass_precisions\n",
        "\n"
      ]
    },
    {
      "cell_type": "markdown",
      "metadata": {
        "id": "Lbbnigd9rmae"
      },
      "source": [
        "## Build End to End Model for Tuner\n",
        "Here we will show how to make data driven decision on each and every step along the modeling pipeline. To be specific, we will \n",
        "\n",
        "- identify each decision and make it a variable, called `decision variable|hyperparameter`. Each decision variable is specified with its all possible values,called the `searching space` of this variable. When the searching space for each decision variable are putting together, it is called the `searching space` for the modeling.\n",
        "\n",
        "- choose a metric (e.g. 'categorical_accuracy', 'loss') and measure its performance on the validation dataset. This is the objective to be optimized. For instance, 'categorical_accuracy' is to be maximized and 'loss' is to be minimized. The function that calculate of the metric on validation data is called the `objective function` for optimization.\n",
        "\n",
        "- follow certain method to search throught the searching space in order to find the best value for each decision variable that will optimize (i.e. max/min) the objective function.\n",
        "The implementation of searching algorithm is called a `tuner`, which tunes hyperparameters. "
      ]
    },
    {
      "cell_type": "code",
      "execution_count": null,
      "metadata": {
        "id": "-uGrmnI3wGj8"
      },
      "outputs": [],
      "source": [
        "import keras_tuner as kt\n",
        "import os\n",
        "def build_model(cnt_card, txt_card, flag_cnt_multihot_bucketize, hidden_units, l1_l2, alpha, dropout_rate, epochs,learning_rate, metric='pr_auc', saving_path=\"/tmp/best_model\"):\n",
        "    \"\"\"create model from data preprocessing to model evaluation, producing performance on a selected metric for tuner to optimize\n",
        "    Here are the decision variables that the tuner will optimize: \n",
        "        cnt_card=hp.Choice('cnt_card', [30,40,50,60]) \n",
        "        txt_card=hp.Float('txt_card', min_value=0.7, max_value=1, step=0.1)\n",
        "        flag_cnt_multihot_bucketize=hp.Boolean('flag_cnt_multihot_bucketize')\n",
        "        flag_txt_bert=hp.Boolean('flag_txt_bert')\n",
        "        hidden_units = []\n",
        "        for i in range(hp.Int(\"num_layers\", 1, 4)):\n",
        "            units=hp.Int(f\"units_{i}\", min_value=32, max_value=512, step=32)\n",
        "            hidden_units.append(units) \n",
        "        l1_l2=hp.Choice('l1_l2', [0,1,2]) \n",
        "        alpha=hp.Float('alpha', min_value=1e-4, max_value=1e-2, sampling=\"log\") \n",
        "        dropout_rate=hp.Float('dropout_rate', min_value=0.1, max_value=0.6, step=0.1) \n",
        "        learning_rate=hp.Float('learning_rate', min_value=1e-3, max_value=1e-1, sampling=\"log\")\n",
        "        epochs=30 #hp.Int(\"epochs\", min_value=10, max_value=60, step=10)\n",
        "    Returns:\n",
        "      valid_metrics[metric]\n",
        "    \"\"\"\n",
        "    # define all the decision variable and their search space\n",
        "\n",
        "    # split df into train, valid, test\n",
        "    train_df, valid_df, test_df = np.split(df.sample(frac=1), [int(0.8*len(df)), int(0.9*len(df))])\n",
        "\n",
        "    # split df.columns into txt, cnt, cat (int_cat, str_cat)\n",
        "    \n",
        "    txt_cols, cnt_cols, cat_cols, (int_cat_cols, str_cat_cols), img_cols = cnt_cat_txt_img_split(df, \n",
        "                                                                                   cnt_card, \n",
        "                                                                                   label, \n",
        "                                                                                   txt_card\n",
        "                                                                                )\n",
        "    \n",
        "    # turn df into ds\n",
        "    print(f\"cnt_cols_to_bucketize={cnt_cols}\")\n",
        "    batch_size = 256\n",
        "    train_ds = df_to_ds(train_df, flag_training=True)\n",
        "    valid_ds = df_to_ds(valid_df, flag_training=False)\n",
        "    test_ds = df_to_ds(test_df, flag_training=False)\n",
        "    # prep features for tf functional API\n",
        "    (all_inputs, wide_inputs, deep_inputs), (all_embs,wide_embs, deep_embs) = preprocess_all_features(df, cnt_cols, int_cat_cols, str_cat_cols, txt_cols, img_cols, num_projection_layers, projection_dims, dropout_rate, flag_cnt_multihot_bucketize, flag_txt_bert, txt_trainable=True, img_trainable=True) \n",
        "\n",
        "\n",
        "    # create deep wide cross model\n",
        "\n",
        "    model = create_deep_wide_cross_model(all_inputs, wide_embs, deep_embs, num_classes, \n",
        "                                         hidden_units, \n",
        "                                         l1_l2, \n",
        "                                         alpha, \n",
        "                                         dropout_rate)\n",
        "\n",
        "    model.compile(optimizer=tf.keras.optimizers.Adam(learning_rate),\n",
        "                  loss=tf.keras.losses.CategoricalCrossentropy(),\n",
        "                  metrics=[tf.keras.metrics.CategoricalAccuracy(), tfa.metrics.F1Score(num_classes=num_classes), tf.keras.metrics.AUC(multi_label = True, curve='ROC',name='roc_auc'), tf.keras.metrics.AUC(multi_label = True, curve='PR', name='pr_auc')], # avg_precision, avg_recall,\n",
        "                  )\n",
        "    # early stopping to avoid overfitting\n",
        "    monitor = EarlyStopping(monitor='loss', min_delta=1e-3, \n",
        "                            patience=100, verbose=0, mode='auto', restore_best_weights=True)\n",
        "    \n",
        "    history = model.fit(train_ds, \n",
        "                        epochs=30, \n",
        "                        validation_data=valid_ds,\n",
        "                        validation_freq=1,\n",
        "                        callbacks=[monitor],\n",
        "                        verbose=0\n",
        "                        )\n",
        "    #visualize performance history\n",
        "    plot_history(history)\n",
        "\n",
        "    #save model\n",
        "    model.save(saving_path)\n",
        "\n",
        "    #evaluate model performance\n",
        "    train_metrics = model.evaluate(train_ds, verbose=False, return_dict=True)\n",
        "    for m in train_metrics.keys():\n",
        "        print(f\"Train {m}={train_metrics[m]}\")\n",
        "\n",
        "    valid_metrics = model.evaluate(valid_ds, verbose=False, return_dict=True)\n",
        "    for m in valid_metrics.keys():\n",
        "        print(f\"Valid {m}={valid_metrics[m]}\")\n",
        "\n",
        "    # return optimization objective (selected metric on validation data) for tuner   \n",
        "    return valid_metrics[metric]\n",
        "tuner = 'random'\n",
        "tuner_dict = {'random':{'algo':kt.RandomSearch,'args': 50},\n",
        "              'hyperband':{'algo':kt.Hyperband,'args': 50},\n",
        "              'bayesian':{'algo':kt.BayesianOptimization, 'args':50}\n",
        "              }\n",
        "class MyTuner(tuner_dict[tuner]['algo']):\n",
        "    def run_trial(self, trial, **kwargs):\n",
        "        hp = trial.hyperparameters\n",
        "        hidden_units = []\n",
        "        for i in range(hp.Int(\"num_layers\", 1, 4)):\n",
        "            units=hp.Int(f\"units_{i}\", min_value=32, max_value=512, step=32)\n",
        "            hidden_units.append(units)\n",
        "        return build_model(\n",
        "                          cnt_card=hp.Int('cnt_card', min_value=30, max_value=70, step=10),\n",
        "                          txt_card=hp.Float('txt_card', min_value=0.7, max_value=1, step=0.1),\n",
        "                          flag_cnt_multihot_bucketize=hp.Boolean('flag_cnt_multihot_bucketize'),\n",
        "                          flag_txt_bert=hp.Boolean('flag_txt_bert'),\n",
        "                          hidden_units=hidden_units, \n",
        "                          l1_l2=hp.Choice('l1_l2', [0,1,2]), \n",
        "                          alpha=hp.Float('alpha', min_value=1e-4, max_value=1e-2, sampling=\"log\"), \n",
        "                          dropout_rate=hp.Float('dropout_rate', min_value=0.1, max_value=0.6, step=0.1), \n",
        "                          learning_rate=hp.Float('learning_rate', min_value=1e-3, max_value=1e-1, sampling=\"log\"),\n",
        "                          epochs=hp.Int(\"epochs\", min_value=10, max_value=60, step=10),\n",
        "                          saving_path=os.path.join(\"/tmp\", trial.trial_id))\n",
        "# init tuner\n",
        "\"\"\"\n",
        "#example for hyperband tuner\n",
        "tuner = MyTuner(max_epochs=30, \n",
        "                factor=3,\n",
        "                hyperband_iterations=1,\n",
        "                seed=123, \n",
        "                hyperparameters=None, \n",
        "                tune_new_entries=True, \n",
        "                allow_new_entries=True,\n",
        "                directory=os.path.join(\"/hyperband\", trial.trial_id))\n",
        "\"\"\"\n",
        "tuner = MyTuner(max_trials = tuner_dict[tuner]['args'])\n",
        "\n",
        "tuner.search()\n",
        "\n",
        "# Retraining the model\n",
        "best_hp = tuner.get_best_hyperparameters()\n",
        "\n",
        "saving_path=f\"/{tuner}/best_model\"\n",
        "build_model(**best_hp.values, saving_path=saving_path)"
      ]
    },
    {
      "cell_type": "code",
      "execution_count": null,
      "metadata": {
        "colab": {
          "base_uri": "https://localhost:8080/"
        },
        "id": "EDdW9TiiAMjE",
        "outputId": "7c45a959-4ab0-4783-ca40-726015a483a2"
      },
      "outputs": [
        {
          "data": {
            "text/plain": [
              "[]"
            ]
          },
          "execution_count": 32,
          "metadata": {},
          "output_type": "execute_result"
        }
      ],
      "source": [
        "tuner.get_best_hyperparameters()"
      ]
    },
    {
      "cell_type": "markdown",
      "metadata": {
        "id": "f6mNMfG6yEq5"
      },
      "source": [
        "Let's visualize the connectivity graph:\n"
      ]
    },
    {
      "cell_type": "code",
      "execution_count": null,
      "metadata": {
        "id": "Y7Bkx4c7yEq5"
      },
      "outputs": [],
      "source": [
        "# Use `rankdir='LR'` to make the graph horizontal.\n",
        "tf.keras.utils.plot_model(model, show_shapes=True, rankdir=\"LR\")"
      ]
    },
    {
      "cell_type": "markdown",
      "metadata": {
        "id": "CED6OStLyEq7"
      },
      "source": [
        "Next, train and test the model:"
      ]
    },
    {
      "cell_type": "markdown",
      "metadata": {
        "id": "LmZMnTKaCZda"
      },
      "source": [
        "## Perform inference\n",
        "\n",
        "The model you have developed can now classify a row from a CSV file directly after you've included the preprocessing layers inside the model itself.\n",
        "\n",
        "You can now [save and reload the Keras model](../keras/save_and_load.ipynb) with `Model.save` and `Model.load_model` before performing inference on new data:\n",
        "\n",
        "To fix the load_model() bug: https://colab.research.google.com/drive/1-R4LM2edlJj5dVp1VrFDiyndoe0-v8E_?usp=sharing"
      ]
    },
    {
      "cell_type": "code",
      "execution_count": null,
      "metadata": {
        "id": "QH9Zy1sBvwOH"
      },
      "outputs": [],
      "source": [
        "model_path = 'my_deep_wide_cross_clf'\n",
        "model.save(model_path)\n",
        "reloaded_model = tf.keras.models.load_model(model_path)"
      ]
    },
    {
      "cell_type": "markdown",
      "metadata": {
        "id": "D973plJrdwQ9"
      },
      "source": [
        "To get a prediction for a new sample, you can simply call the Keras `Model.predict` method. There are just two things you need to do:\n",
        "\n",
        "1.   Wrap scalars into a list so as to have a batch dimension (`Model`s only process batches of data, not single samples).\n",
        "2.   Call `tf.convert_to_tensor` on each feature."
      ]
    },
    {
      "cell_type": "code",
      "execution_count": null,
      "metadata": {
        "colab": {
          "base_uri": "https://localhost:8080/"
        },
        "id": "rKq4pxtdDa7i",
        "outputId": "7e0a8e8f-0ca5-46b2-d5b4-45633720c5a4"
      },
      "outputs": [
        {
          "name": "stdout",
          "output_type": "stream",
          "text": [
            "This particular pet had a %.1f percent probability of getting adopted.(array([[0.02775816, 0.9722419 ]], dtype=float32), <tf.Tensor: shape=(2,), dtype=float32, numpy=array([0.5069391, 0.7255661], dtype=float32)>)\n"
          ]
        }
      ],
      "source": [
        "sample = {\n",
        "    'Type': 'Cat',\n",
        "    'Age': 3,\n",
        "    'bin_Age':3,\n",
        "    'Breed1': 'Tabby',\n",
        "    'Gender': 'Male',\n",
        "    'Color1': 'Black',\n",
        "    'Color2': 'White',\n",
        "    'MaturitySize': 'Small',\n",
        "    'FurLength': 'Short',\n",
        "    'Vaccinated': 'No',\n",
        "    'Sterilized': 'No',\n",
        "    'Health': 'Healthy',\n",
        "    'Fee': 100,\n",
        "    'bin_Fee': 100,\n",
        "    'PhotoAmt': 2,\n",
        "    'Description': 'what a cuty kitty! you cannot help loving him!'\n",
        "}\n",
        "\n",
        "input_dict = {name: tf.convert_to_tensor([value]) for name, value in sample.items()}\n",
        "predictions = model.predict(input_dict)\n",
        "prob = tf.nn.sigmoid(predictions[0])\n",
        "\n",
        "print(\n",
        "    f\"This particular pet had a %.1f percent probability \"\n",
        "    f\"of getting adopted.{predictions, prob}\"\n",
        ")"
      ]
    },
    {
      "cell_type": "markdown",
      "metadata": {
        "id": "XJQQZEiH2FaB"
      },
      "source": [
        "Note: You will typically have better results with deep learning with larger and more complex datasets. When working with a small dataset, such as the simplified PetFinder.my one, you can use a <a href=\"https://developers.google.com/machine-learning/glossary#decision-tree\" class=\"external\">decision tree</a> or a <a href=\"https://developers.google.com/machine-learning/glossary#random-forest\" class=\"external\">random forest</a> as a strong baseline. The goal of this tutorial is to demonstrate the mechanics of working with structured data, so you have a starting point when working with your own datasets in the future.\n"
      ]
    },
    {
      "cell_type": "markdown",
      "metadata": {
        "id": "k0QAY2Tb2HYG"
      },
      "source": [
        "## Next steps\n",
        "\n",
        "To learn more about classifying structured data, try working with other datasets. To improve accuracy during training and testing your models, think carefully about which features to include in your model and how they should be represented.\n",
        "\n",
        "Below are some suggestions for datasets:\n",
        "\n",
        "- [TensorFlow Datasets: MovieLens](https://www.tensorflow.org/datasets/catalog/movie_lens): A set of movie ratings from a movie recommendation service.\n",
        "- [TensorFlow Datasets: Wine Quality](https://www.tensorflow.org/datasets/catalog/wine_quality): Two datasets related to red and white variants of the Portuguese \"Vinho Verde\" wine. You can also find the Red Wine Quality dataset on <a href=\"https://www.kaggle.com/uciml/red-wine-quality-cortez-et-al-2009\" class=\"external\">Kaggle</a>.\n",
        "- <a href=\"https://www.kaggle.com/Cornell-University/arxiv\" class=\"external\">Kaggle: arXiv Dataset</a>: A corpus of 1.7 million scholarly articles from arXiv, covering physics, computer science, math, statistics, electrical engineering, quantitative biology, and economics.\n"
      ]
    }
  ],
  "metadata": {
    "colab": {
      "collapsed_sections": [
        "vjFbdBldyEqf",
        "UXvBvobayEqi",
        "4gnhyGxR7-56",
        "L-i2LwRXlhFs",
        "sp0NCbswyEqs",
        "C_7uVu-xyEqv"
      ],
      "name": "tf-multimodal03.ipynb",
      "provenance": [],
      "toc_visible": true
    },
    "kernelspec": {
      "display_name": "Python 3",
      "name": "python3"
    }
  },
  "nbformat": 4,
  "nbformat_minor": 0
}